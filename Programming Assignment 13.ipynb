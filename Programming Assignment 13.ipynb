{
 "cells": [
  {
   "cell_type": "code",
   "execution_count": 2,
   "id": "17c960d4",
   "metadata": {},
   "outputs": [
    {
     "name": "stdout",
     "output_type": "stream",
     "text": [
      "18,22,24\n"
     ]
    }
   ],
   "source": [
    "#Question 1:\n",
    "''' Write a program that calculates and prints the value according to the given formula:\n",
    "Q = Square root of [(2 * C * D)/H]\n",
    "Following are the fixed values of C and H:\n",
    "C is 50. H is 30.\n",
    "D is the variable whose values should be input to your program in a comma-separated\n",
    "sequence.\n",
    "Example\n",
    "Let us assume the following comma separated input sequence is given to the program:\n",
    "100,150,180\n",
    "The output of the program should be:\n",
    "18,22,24 '''\n",
    "\n",
    "\n",
    "import math\n",
    "\n",
    "def calculate_q(input_str):\n",
    "    # Fixed values of C and H\n",
    "    C = 50\n",
    "    H = 30\n",
    "\n",
    "    # Split the input string into a list of integers\n",
    "    input_list = input_str.split(\",\")\n",
    "    input_list = [int(i) for i in input_list]\n",
    "\n",
    "    # Calculate Q for each value of D\n",
    "    output_list = []\n",
    "    for d in input_list:\n",
    "        q = math.sqrt((2 * C * d) / H)\n",
    "        output_list.append(str(round(q)))\n",
    "\n",
    "    # Join the output list into a comma-separated string\n",
    "    output_str = \",\".join(output_list)\n",
    "\n",
    "    return output_str\n",
    "\n",
    "input_str = \"100,150,180\"\n",
    "output_str = calculate_q(input_str)\n",
    "print(output_str) \n"
   ]
  },
  {
   "cell_type": "code",
   "execution_count": 4,
   "id": "69ade047",
   "metadata": {},
   "outputs": [
    {
     "name": "stdout",
     "output_type": "stream",
     "text": [
      "[[0, 0, 0, 0, 0], [0, 1, 2, 3, 4], [0, 2, 4, 6, 8]]\n"
     ]
    }
   ],
   "source": [
    "#Question 2:\n",
    "'''Write a program which takes 2 digits, X,Y as input and generates a 2-dimensional array. The\n",
    "element value in the i-th row and j-th column of the array should be i*j.\n",
    "Note: i=0,1.., X-1; j=0,1,¡Y-1.\n",
    "Example\n",
    "Suppose the following inputs are given to the program:\n",
    "3,5\n",
    "Then, the output of the program should be:\n",
    "[[0, 0, 0, 0, 0], [0, 1, 2, 3, 4], [0, 2, 4, 6, 8]]'''\n",
    "\n",
    "\n",
    "def generate_array(x, y):\n",
    "    # Initialize an empty array\n",
    "    array = []\n",
    "\n",
    "    # Iterate over the rows and columns of the array\n",
    "    for i in range(x):\n",
    "        row = []\n",
    "        for j in range(y):\n",
    "            # Calculate the element value and append it to the row\n",
    "            row.append(i*j)\n",
    "        # Append the row to the array\n",
    "        array.append(row)\n",
    "\n",
    "    return array\n",
    "x = 3\n",
    "y = 5\n",
    "array = generate_array(x, y)\n",
    "print(array) \n"
   ]
  },
  {
   "cell_type": "code",
   "execution_count": 6,
   "id": "d18d3b0c",
   "metadata": {},
   "outputs": [
    {
     "name": "stdout",
     "output_type": "stream",
     "text": [
      "bag,hello,without,world\n"
     ]
    }
   ],
   "source": [
    "#Question 3:\n",
    "'''Write a program that accepts a comma separated sequence of words as input and prints the\n",
    "words in a comma-separated sequence after sorting them alphabetically.\n",
    "Suppose the following input is supplied to the program:\n",
    "without,hello,bag,world\n",
    "Then, the output should be:\n",
    "bag,hello,without,world'''\n",
    "\n",
    "def sort_words(input_str):\n",
    "    # Split the input string into a list of words\n",
    "    word_list = input_str.split(\",\")\n",
    "\n",
    "    # Sort the list of words alphabetically\n",
    "    word_list.sort()\n",
    "\n",
    "    # Join the sorted list into a comma-separated string\n",
    "    output_str = \",\".join(word_list)\n",
    "\n",
    "    return output_str\n",
    "input_str = \"without,hello,bag,world\"\n",
    "output_str = sort_words(input_str)\n",
    "print(output_str) \n"
   ]
  },
  {
   "cell_type": "code",
   "execution_count": 10,
   "id": "e2beca33",
   "metadata": {},
   "outputs": [
    {
     "name": "stdout",
     "output_type": "stream",
     "text": [
      "again and hello makes perfect practice world\n"
     ]
    }
   ],
   "source": [
    "#Question 4:\n",
    "'''Write a program that accepts a sequence of whitespace separated words as input and prints\n",
    "the words after removing all duplicate words and sorting them alphanumerically.\n",
    "Suppose the following input is supplied to the program:\n",
    "hello world and practice makes perfect and hello world again\n",
    "Then, the output should be:\n",
    "again and hello makes perfect practice world'''\n",
    "    \n",
    "def remove_duplicates(input_str):\n",
    "    # Split the input string into a list of words\n",
    "    word_list = input_str.split()\n",
    "\n",
    "    # Remove duplicate words from the list\n",
    "    unique_words = list(set(word_list))\n",
    "\n",
    "    # Sort the list of unique words alphabetically\n",
    "    unique_words.sort()\n",
    "\n",
    "    # Join the unique words into a whitespace-separated string\n",
    "    output_str = \" \".join(unique_words)\n",
    "\n",
    "    return output_str\n",
    "input_str = \"hello world and practice makes perfect and hello world again\"\n",
    "output_str = remove_duplicates(input_str)\n",
    "print(output_str)  \n"
   ]
  },
  {
   "cell_type": "code",
   "execution_count": 13,
   "id": "dbc787b3",
   "metadata": {},
   "outputs": [
    {
     "name": "stdout",
     "output_type": "stream",
     "text": [
      "LETTERS 10\n",
      "DIGITS 3\n"
     ]
    }
   ],
   "source": [
    "#Question 5:\n",
    "'''Write a program that accepts a sentence and calculate the number of letters and digits.\n",
    "Suppose the following input is supplied to the program:\n",
    "hello world! 123\n",
    "Then, the output should be:\n",
    "LETTERS 10\n",
    "DIGITS 3'''\n",
    "    \n",
    "def count_letters_digits(input_str):\n",
    "    # Initialize the counters for letters and digits\n",
    "    num_letters = 0\n",
    "    num_digits = 0\n",
    "\n",
    "    # Iterate over each character in the input string\n",
    "    for char in input_str:\n",
    "        # Check if the character is a letter\n",
    "        if char.isalpha():\n",
    "            num_letters += 1\n",
    "        # Check if the character is a digit\n",
    "        elif char.isdigit():\n",
    "            num_digits += 1\n",
    "\n",
    "    return num_letters, num_digits\n",
    "input_str = \"hello world! 123\"\n",
    "num_letters, num_digits = count_letters_digits(input_str)\n",
    "print(\"LETTERS\", num_letters)  \n",
    "print(\"DIGITS\", num_digits) "
   ]
  },
  {
   "cell_type": "code",
   "execution_count": 16,
   "id": "b29cf961",
   "metadata": {},
   "outputs": [
    {
     "name": "stdout",
     "output_type": "stream",
     "text": [
      "ABd1234@1\n"
     ]
    }
   ],
   "source": [
    "#Question 6:\n",
    "'''   A website requires the users to input username and password to register. Write a program to\n",
    "check the validity of password input by users.\n",
    "Following are the criteria for checking the password:\n",
    "1. At least 1 letter between [a-z]\n",
    "2. At least 1 number between [0-9]\n",
    "1. At least 1 letter between [A-Z]\n",
    "3. At least 1 character from [$#@]\n",
    "4. Minimum length of transaction password: 6\n",
    "5. Maximum length of transaction password: 12\n",
    "Your program should accept a sequence of comma separated passwords and will check them\n",
    "according to the above criteria. Passwords that match the criteria are to be printed, each\n",
    "separated by a comma.\n",
    "Example\n",
    "If the following passwords are given as input to the program:\n",
    "ABd1234@1,a F1#,2w3E*,2We3345\n",
    "Then, the output of the program should be:\n",
    "ABd1234@1    '''\n",
    "\n",
    "\n",
    "\n",
    "def check_password(password):\n",
    "    # Define the regular expressions for the criteria\n",
    "    lowercase_regex = re.compile(r'[a-z]')\n",
    "    uppercase_regex = re.compile(r'[A-Z]')\n",
    "    digit_regex = re.compile(r'\\d')\n",
    "    special_char_regex = re.compile(r'[$#@]')\n",
    "    \n",
    "    # Check the length of the password\n",
    "    if len(password) < 6 or len(password) > 12:\n",
    "        return False\n",
    "    \n",
    "    # Check if the password meets all the criteria\n",
    "    if (not lowercase_regex.search(password)\n",
    "        or not uppercase_regex.search(password)\n",
    "        or not digit_regex.search(password)\n",
    "        or not special_char_regex.search(password)):\n",
    "        return False\n",
    "    \n",
    "    return True\n",
    "\n",
    "passwords = [\"ABd1234@1\", \"a F1#\", \"2w3E*\", \"2We3345\"]\n",
    "valid_passwords = []\n",
    "\n",
    "for password in passwords:\n",
    "    if check_password(password):\n",
    "        valid_passwords.append(password)\n",
    "\n",
    "print(\", \".join(valid_passwords)) \n"
   ]
  },
  {
   "cell_type": "code",
   "execution_count": null,
   "id": "f6d3f85c",
   "metadata": {},
   "outputs": [],
   "source": []
  }
 ],
 "metadata": {
  "kernelspec": {
   "display_name": "Python 3 (ipykernel)",
   "language": "python",
   "name": "python3"
  },
  "language_info": {
   "codemirror_mode": {
    "name": "ipython",
    "version": 3
   },
   "file_extension": ".py",
   "mimetype": "text/x-python",
   "name": "python",
   "nbconvert_exporter": "python",
   "pygments_lexer": "ipython3",
   "version": "3.9.7"
  }
 },
 "nbformat": 4,
 "nbformat_minor": 5
}
