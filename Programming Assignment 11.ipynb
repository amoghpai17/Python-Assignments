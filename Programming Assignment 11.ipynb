{
 "cells": [
  {
   "cell_type": "code",
   "execution_count": 1,
   "id": "c7f0c91c",
   "metadata": {},
   "outputs": [
    {
     "name": "stdout",
     "output_type": "stream",
     "text": [
      "['banana', 'orange', 'watermelon']\n"
     ]
    }
   ],
   "source": [
    "1. #Write a Python program to find words which are greater than given length k?\n",
    "\n",
    "def find_words_greater_than_k(input_list, k):\n",
    "    # create an empty list to store words greater than k\n",
    "    result_list = []\n",
    "\n",
    "    # iterate over each word in the input list\n",
    "    for word in input_list:\n",
    "        # check if the length of the word is greater than k\n",
    "        if len(word) > k:\n",
    "            # if the length is greater, add the word to the result list\n",
    "            result_list.append(word)\n",
    "\n",
    "    return result_list\n",
    "# define a list of words\n",
    "my_list = [\"apple\", \"banana\", \"grape\", \"orange\", \"watermelon\", \"kiwi\"]\n",
    "\n",
    "# find words with length greater than 5\n",
    "result = find_words_greater_than_k(my_list, 5)\n",
    "\n",
    "# print the result\n",
    "print(result)\n"
   ]
  },
  {
   "cell_type": "code",
   "execution_count": 2,
   "id": "7c282b4a",
   "metadata": {},
   "outputs": [
    {
     "name": "stdout",
     "output_type": "stream",
     "text": [
      "Helo, World!\n"
     ]
    }
   ],
   "source": [
    "2. #Write a Python program for removing i-th character from a string?\n",
    "\n",
    "def remove_char(string, i):\n",
    "    # get the first part of the string before the i-th character\n",
    "    left = string[:i]\n",
    "    # get the second part of the string after the i-th character\n",
    "    right = string[i+1:]\n",
    "    # return the concatenated string\n",
    "    return left + right\n",
    "# define a string\n",
    "my_string = \"Hello, World!\"\n",
    "\n",
    "# remove the 4th character (index 3)\n",
    "result = remove_char(my_string, 3)\n",
    "\n",
    "# print the result\n",
    "print(result)\n"
   ]
  },
  {
   "cell_type": "code",
   "execution_count": 3,
   "id": "fb35b1dc",
   "metadata": {},
   "outputs": [
    {
     "name": "stdout",
     "output_type": "stream",
     "text": [
      "Hello,-world!\n"
     ]
    }
   ],
   "source": [
    "3. #Write a Python program to split and join a string?\n",
    "\n",
    "# Define a string\n",
    "my_string = \"Hello, world!\"\n",
    "\n",
    "# Split the string into a list of words\n",
    "word_list = my_string.split()\n",
    "\n",
    "# Join the list of words into a new string using a separator\n",
    "new_string = \"-\".join(word_list)\n",
    "\n",
    "# Print the new string\n",
    "print(new_string)\n"
   ]
  },
  {
   "cell_type": "code",
   "execution_count": 5,
   "id": "303ae960",
   "metadata": {},
   "outputs": [
    {
     "name": "stdout",
     "output_type": "stream",
     "text": [
      "True\n",
      "False\n"
     ]
    }
   ],
   "source": [
    "4. #Write a Python to check if a given string is binary string or not?\n",
    "\n",
    "def is_binary_string(s):\n",
    "    # loop through each character in the string\n",
    "    for char in s:\n",
    "        # if the character is not '0' or '1', it is not a binary string\n",
    "        if char != '0' and char != '1':\n",
    "            return False\n",
    "    # if we looped through the entire string and did not find any non-binary characters, it is a binary string\n",
    "    return True\n",
    "\n",
    "# example usage\n",
    "binary_string = '10101010'\n",
    "non_binary_string = '01234567'\n",
    "\n",
    "print(is_binary_string(binary_string))\n",
    "print(is_binary_string(non_binary_string)) \n"
   ]
  },
  {
   "cell_type": "code",
   "execution_count": 6,
   "id": "504f538a",
   "metadata": {},
   "outputs": [
    {
     "name": "stdout",
     "output_type": "stream",
     "text": [
      "['second', 'first']\n"
     ]
    }
   ],
   "source": [
    "5. #Write a Python program to find uncommon words from two Strings?\n",
    "\n",
    "def uncommon_words(str1, str2):\n",
    "    # split the strings into words\n",
    "    words1 = str1.split()\n",
    "    words2 = str2.split()\n",
    "\n",
    "    # create sets of the words to find the unique words\n",
    "    set1 = set(words1)\n",
    "    set2 = set(words2)\n",
    "\n",
    "    # find the words that are unique to each set (i.e. not in the other set)\n",
    "    uncommon = set1.symmetric_difference(set2)\n",
    "\n",
    "    # return the list of unique words\n",
    "    return list(uncommon)\n",
    "\n",
    "# example usage\n",
    "str1 = 'this is the first string'\n",
    "str2 = 'this is the second string'\n",
    "\n",
    "uncommon = uncommon_words(str1, str2)\n",
    "print(uncommon)\n"
   ]
  },
  {
   "cell_type": "code",
   "execution_count": 7,
   "id": "94ce62ed",
   "metadata": {},
   "outputs": [
    {
     "name": "stdout",
     "output_type": "stream",
     "text": [
      "['l', 'o']\n"
     ]
    }
   ],
   "source": [
    "6. #Write a Python to find all duplicate characters in string?\n",
    "\n",
    "def find_duplicate_chars(string):\n",
    "    # create a dictionary to store the count of each character\n",
    "    char_count = {}\n",
    "\n",
    "    # iterate over each character in the string\n",
    "    for char in string:\n",
    "        # if the character is already in the dictionary, increment its count\n",
    "        if char in char_count:\n",
    "            char_count[char] += 1\n",
    "        # otherwise, add the character to the dictionary with a count of 1\n",
    "        else:\n",
    "            char_count[char] = 1\n",
    "\n",
    "    # create a list of the characters that appear more than once\n",
    "    duplicates = [char for char, count in char_count.items() if count > 1]\n",
    "\n",
    "    # return the list of duplicate characters\n",
    "    return duplicates\n",
    "\n",
    "# example usage\n",
    "string = 'hello world'\n",
    "\n",
    "duplicates = find_duplicate_chars(string)\n",
    "print(duplicates)\n"
   ]
  },
  {
   "cell_type": "code",
   "execution_count": 8,
   "id": "6bc17cb5",
   "metadata": {},
   "outputs": [
    {
     "name": "stdout",
     "output_type": "stream",
     "text": [
      "Enter a string: amogh@\n",
      "String contains special characters\n"
     ]
    }
   ],
   "source": [
    "7. #Write a Python Program to check if a string contains any special character?\n",
    "\n",
    "import string\n",
    "\n",
    "def contains_special_character(s):\n",
    "    special_chars = set(string.punctuation)\n",
    "    for c in s:\n",
    "        if c in special_chars:\n",
    "            return True\n",
    "    return False\n",
    "\n",
    "input_string = input(\"Enter a string: \")\n",
    "if contains_special_character(input_string):\n",
    "    print(\"String contains special characters\")\n",
    "else:\n",
    "    print(\"String does not contain any special characters\")\n"
   ]
  },
  {
   "cell_type": "code",
   "execution_count": null,
   "id": "da47b09b",
   "metadata": {},
   "outputs": [],
   "source": []
  }
 ],
 "metadata": {
  "kernelspec": {
   "display_name": "Python 3 (ipykernel)",
   "language": "python",
   "name": "python3"
  },
  "language_info": {
   "codemirror_mode": {
    "name": "ipython",
    "version": 3
   },
   "file_extension": ".py",
   "mimetype": "text/x-python",
   "name": "python",
   "nbconvert_exporter": "python",
   "pygments_lexer": "ipython3",
   "version": "3.9.7"
  }
 },
 "nbformat": 4,
 "nbformat_minor": 5
}
