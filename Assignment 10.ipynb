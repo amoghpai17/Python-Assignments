{
 "cells": [
  {
   "cell_type": "markdown",
   "id": "2b24ad5e",
   "metadata": {},
   "source": [
    "1.How do you distinguish between shutil.copy() and shutil.copytree()?\n",
    "\n",
    "ANS-\n",
    "shutil.copy() is used to copy a single file from one location to another. It takes two arguments: the source file path and the destination file path.\n",
    "\n",
    "shutil.copytree() is used to copy an entire directory tree from one location to another. It takes two arguments: the source directory path and the destination directory path. "
   ]
  },
  {
   "cell_type": "markdown",
   "id": "4c792b9f",
   "metadata": {},
   "source": [
    "2.What function is used to rename files?\n",
    "\n",
    "ANS-\n",
    " We can use the os.rename() function to rename files. This function takes two arguments: the current name of the file and the new name you want to give it.\n",
    "\n"
   ]
  },
  {
   "cell_type": "markdown",
   "id": "78435be8",
   "metadata": {},
   "source": [
    "3.What is the difference between the delete functions in the send2trash and shutil modules?\n",
    "\n",
    "ANS-\n",
    "The send2trash module provides a cross-platform send2trash() function that moves files and directories to the operating system's trash or recycle bin instead of permanently deleting them. This is a safer option, as it allows you to easily recover files if you accidentally delete them.\n",
    "\n",
    "The shutil module provides a rmtree() function that can be used to delete an entire directory tree (i.e., a directory and all its contents).\n"
   ]
  },
  {
   "cell_type": "markdown",
   "id": "bfd203ed",
   "metadata": {},
   "source": [
    "4.ZipFile objects have a close() method just like File objects’ close() method. What ZipFile method is\n",
    "equivalent to File objects’ open() method?\n",
    "\n",
    "ANS-\n",
    "The ZipFile method that is equivalent to the open() method of File objects is ZipFile()."
   ]
  },
  {
   "cell_type": "code",
   "execution_count": null,
   "id": "c86505c4",
   "metadata": {},
   "outputs": [],
   "source": [
    "#5.\n",
    "'''Create a programme that searches a folder tree for files with a certain file extension (such as .pdf\n",
    "or .jpg). Copy these files from whatever location they are in to a new folder.\n",
    "\n",
    "ANS-'''\n",
    "\n",
    "import os\n",
    "import shutil\n",
    "\n",
    "# Prompt the user for the source folder, file extension, and destination folder\n",
    "src_folder = input(\"Enter the source folder: \")\n",
    "file_ext = input(\"Enter the file extension (e.g., .pdf, .jpg): \")\n",
    "dst_folder = input(\"Enter the destination folder: \")\n",
    "\n",
    "# Create the destination folder if it doesn't already exist\n",
    "if not os.path.exists(dst_folder):\n",
    "    os.makedirs(dst_folder)\n",
    "\n",
    "# Walk through the directory tree and copy files with the specified extension to the destination folder\n",
    "for foldername, subfolders, filenames in os.walk(src_folder):\n",
    "    for filename in filenames:\n",
    "        if filename.endswith(file_ext):\n",
    "            src_file = os.path.join(foldername, filename)\n",
    "            dst_file = os.path.join(dst_folder, filename)\n",
    "            shutil.copy(src_file, dst_file)\n",
    "            print(f\"Copied {src_file} to {dst_file}\")\n",
    "\n"
   ]
  },
  {
   "cell_type": "code",
   "execution_count": null,
   "id": "1bc328dd",
   "metadata": {},
   "outputs": [],
   "source": []
  }
 ],
 "metadata": {
  "kernelspec": {
   "display_name": "Python 3 (ipykernel)",
   "language": "python",
   "name": "python3"
  },
  "language_info": {
   "codemirror_mode": {
    "name": "ipython",
    "version": 3
   },
   "file_extension": ".py",
   "mimetype": "text/x-python",
   "name": "python",
   "nbconvert_exporter": "python",
   "pygments_lexer": "ipython3",
   "version": "3.9.7"
  }
 },
 "nbformat": 4,
 "nbformat_minor": 5
}
