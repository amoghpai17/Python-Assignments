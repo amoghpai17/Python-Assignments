{
 "cells": [
  {
   "cell_type": "markdown",
   "id": "a325e41d",
   "metadata": {},
   "source": [
    "Q1. What are the two latest user-defined exception constraints in Python 3.X?\n",
    "\n",
    "ANS-\n",
    "In Python, we can create your own custom exceptions by defining a new class that inherits from the built-in Exception class. For example, to create a custom exception called CustomError, you could define a class like this:\n",
    "class CustomError(Exception):\n",
    "    pass\n",
    "\n",
    "\n",
    " we can also create your own subclasses of these built-in exception classes to create more specific custom exceptions."
   ]
  },
  {
   "cell_type": "markdown",
   "id": "6a20fe25",
   "metadata": {},
   "source": [
    "Q2. How are class-based exceptions that have been raised matched to handlers?\n",
    "\n",
    "ANS-\n",
    "When a class-based exception is raised, the interpreter first checks to see if there is a matching except clause that handles that specific exception class or one of its superclasses. The except clause should specify the exception class or a tuple of exception classes that it can handle.\n",
    "\n",
    "We can also raise and handle exceptions that are instances of custom exception classes that you define yourself. The process for matching custom exceptions to handlers is the same as for built-in exceptions: the interpreter looks for a matching except clause that can handle the specific exception class or one of its superclasses."
   ]
  },
  {
   "cell_type": "markdown",
   "id": "a7cc1401",
   "metadata": {},
   "source": [
    "Q3. Describe two methods for attaching context information to exception artefacts.\n",
    "\n",
    "ANS-\n",
    "1 - When an exception is raised in Python, you can pass in a message string or a tuple of values that provide more information about the exception. You can then access these values using the args attribute of the exception object. \n",
    "2 - Using a custom exception class:\n",
    "Another way to attach context information to an exception is to define a custom exception class that includes additional attributes or methods to store or generate context information. "
   ]
  },
  {
   "cell_type": "markdown",
   "id": "c46259d5",
   "metadata": {},
   "source": [
    "Q4. Describe two methods for specifying the text of an exception object's error message.\n",
    "\n",
    "ANS-\n",
    "1 - Using a message string:\n",
    "The most straightforward way to specify the text of an exception object's error message is to pass a message string as the first argument to the exception class constructor. \n",
    "\n",
    "2 - Using string formatting:\n",
    "Another way to specify the text of an exception object's error message is to use string formatting to interpolate values into the message text."
   ]
  },
  {
   "cell_type": "markdown",
   "id": "eb88a4a1",
   "metadata": {},
   "source": [
    "Q5. Why do you no longer use string-based exceptions?\n",
    "\n",
    "ANS-\n",
    "String-based exceptions were used in older versions of Python to raise and catch exceptions by specifying error messages as strings.\n",
    "There are several reasons why string-based exceptions have been deprecated:\n",
    "\n",
    "1 - Lack of clarity and consistency:\n",
    "String-based exceptions were often unclear and inconsistent, and could be confusing for both developers and users. For example, different parts of the codebase might raise exceptions with slightly different error messages, which could make it difficult to track down the root cause of a problem.\n",
    "\n",
    "2 - Limited functionality:\n",
    "String-based exceptions were also limited in terms of functionality. They did not provide a way to attach additional information or context to the exception, and did not allow for custom exception classes or other advanced exception handling features.\n",
    "\n",
    "3 - Security concerns:\n",
    "String-based exceptions could also be used to execute arbitrary code, which could be a security risk. For example, an attacker could use a specially-crafted string-based exception to execute code or gain access to sensitive information."
   ]
  }
 ],
 "metadata": {
  "kernelspec": {
   "display_name": "Python 3 (ipykernel)",
   "language": "python",
   "name": "python3"
  },
  "language_info": {
   "codemirror_mode": {
    "name": "ipython",
    "version": 3
   },
   "file_extension": ".py",
   "mimetype": "text/x-python",
   "name": "python",
   "nbconvert_exporter": "python",
   "pygments_lexer": "ipython3",
   "version": "3.9.7"
  }
 },
 "nbformat": 4,
 "nbformat_minor": 5
}
