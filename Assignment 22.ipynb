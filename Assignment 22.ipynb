{
 "cells": [
  {
   "cell_type": "markdown",
   "id": "1ee84b44",
   "metadata": {},
   "source": [
    "1.What is the result of the code, and explain?\n",
    "\n",
    "X = 'iNeuron'\n",
    "def func():\n",
    "print(X)\n",
    "\n",
    "func()\n",
    "\n",
    "ANS-\n",
    "Output - iNeuron\n",
    "\n",
    "This is because the func() function is called, which prints the value of X defined outside the function, which is 'iNeuron'."
   ]
  },
  {
   "cell_type": "markdown",
   "id": "2cfcf0b3",
   "metadata": {},
   "source": [
    "2.What is the result of the code, and explain?\n",
    "\n",
    "X = 'iNeuron'\n",
    "def func():\n",
    "X = 'NI'\n",
    "\n",
    "func()\n",
    "print(X)\n",
    "\n",
    "ANS-\n",
    "The code defines a variable X with the value 'iNeuron' and a function func that defines a local variable X with the value 'NI'. However, the function func is defined but not actually called.\n",
    "\n",
    "Therefore, when the code is executed, it will define the X variable with the value 'iNeuron', but the func() function is never actually called, so the local variable X with the value 'NI' is never assigned or used.\n",
    "\n",
    "\n",
    "Output - iNeuron\n"
   ]
  },
  {
   "cell_type": "markdown",
   "id": "8580c490",
   "metadata": {},
   "source": [
    "3.What does this code print, and why?\n",
    "\n",
    "X = 'iNeuron'\n",
    "def func():\n",
    "X = 'NI'\n",
    "print(X)\n",
    "\n",
    "func()\n",
    "print(X)\n",
    "\n",
    "ANS-\n",
    "The code defines a variable X with the value 'iNeuron', and a function func that defines a local variable X with the value 'NI', and then prints it.\n",
    "When the func() function is called, it defines and prints the local variable X with the value 'NI'. Then, the variable X is printed again outside of the function, which will \n",
    "output:\n",
    "NI\n",
    "iNeuron\n"
   ]
  },
  {
   "cell_type": "markdown",
   "id": "34a0647f",
   "metadata": {},
   "source": [
    "4.What output does this code produce? Why?\n",
    "\n",
    "X = 'iNeuron'\n",
    "def func():\n",
    "global X\n",
    "X = 'NI'\n",
    "\n",
    "func()\n",
    "print(X)\n",
    "\n",
    "ANS-\n",
    "The code defines a variable X with the value 'iNeuron', and a function func that defines X as a global variable and sets its value to 'NI'.\n",
    "When the func() function is called, it uses the global keyword to indicate that X is a global variable, not a local one. Then it sets the value of the global variable X to 'NI'.\n",
    "Finally, the X variable is printed\n",
    "\n",
    "output:NI\n"
   ]
  },
  {
   "cell_type": "markdown",
   "id": "07b5421b",
   "metadata": {},
   "source": [
    "5.What about this code—what’s the output, and why?\n",
    "\n",
    "X = 'iNeuron'\n",
    "def func():\n",
    "X = 'NI'\n",
    "def nested():\n",
    "print(X)\n",
    "nested()\n",
    "\n",
    "func()\n",
    "X\n",
    "\n",
    "ANS-\n",
    "The code defines a variable X with the value 'iNeuron', and a function func that defines a local variable X with the value 'NI'. Inside the func() function, there is another function nested that prints the value of X. Then, the nested() function is called within the func() function.\n",
    "When the func() function is called, it defines the local variable X with the value 'NI' and then calls the nested() function, which prints the value of the local variable X within the same scope, which is 'NI'.\n",
    "Finally, the value of X is printed outside the func() function,\n",
    "output:\n",
    "iNeuron\n",
    "\n"
   ]
  },
  {
   "cell_type": "markdown",
   "id": "f2d39131",
   "metadata": {},
   "source": [
    "6.How about this code: what is its output in Python 3, and explain?\n",
    "\n",
    "def func():\n",
    "X = 'NI'\n",
    "def nested():\n",
    "nonlocal X\n",
    "X = 'Spam'\n",
    "nested()\n",
    "print(X)\n",
    "\n",
    "func()\n",
    "\n",
    "ANS-\n",
    "The code defines a function func that defines a local variable X with the value 'NI'. Inside the func() function, there is another function nested that uses the nonlocal keyword to indicate that X is a variable defined in the parent scope of nested. Then, the nested() function is called within the func() function and modifies the value of X to 'Spam'. Finally, the value of X is printed\n",
    "\n",
    "output:\n",
    "Spam\n"
   ]
  }
 ],
 "metadata": {
  "kernelspec": {
   "display_name": "Python 3 (ipykernel)",
   "language": "python",
   "name": "python3"
  },
  "language_info": {
   "codemirror_mode": {
    "name": "ipython",
    "version": 3
   },
   "file_extension": ".py",
   "mimetype": "text/x-python",
   "name": "python",
   "nbconvert_exporter": "python",
   "pygments_lexer": "ipython3",
   "version": "3.9.7"
  }
 },
 "nbformat": 4,
 "nbformat_minor": 5
}
