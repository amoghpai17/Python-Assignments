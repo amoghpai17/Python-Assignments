{
 "cells": [
  {
   "cell_type": "code",
   "execution_count": 1,
   "id": "d755c1ad",
   "metadata": {},
   "outputs": [
    {
     "name": "stdout",
     "output_type": "stream",
     "text": [
      "Enter a number: 5\n",
      "The factorial of 5 is 120\n"
     ]
    }
   ],
   "source": [
    "1. #Write a Python Program to Find the Factorial of a Number?\n",
    "\n",
    "# take user input\n",
    "num = int(input(\"Enter a number: \"))\n",
    "\n",
    "# initialize the factorial to 1\n",
    "factorial = 1\n",
    "\n",
    "# calculate the factorial using a for loop\n",
    "for i in range(1, num+1):\n",
    "    factorial *= i\n",
    "\n",
    "# print the factorial\n",
    "print(\"The factorial of\", num, \"is\", factorial)\n"
   ]
  },
  {
   "cell_type": "code",
   "execution_count": 2,
   "id": "7d408420",
   "metadata": {},
   "outputs": [
    {
     "name": "stdout",
     "output_type": "stream",
     "text": [
      "Enter a number: 2\n",
      "2 x 1 = 2\n",
      "2 x 2 = 4\n",
      "2 x 3 = 6\n",
      "2 x 4 = 8\n",
      "2 x 5 = 10\n",
      "2 x 6 = 12\n",
      "2 x 7 = 14\n",
      "2 x 8 = 16\n",
      "2 x 9 = 18\n",
      "2 x 10 = 20\n"
     ]
    }
   ],
   "source": [
    "2. #Write a Python Program to Display the multiplication Table?\n",
    "\n",
    "# take user input\n",
    "num = int(input(\"Enter a number: \"))\n",
    "\n",
    "# use a for loop to display the multiplication table\n",
    "for i in range(1, 11):\n",
    "    print(num, \"x\", i, \"=\", num*i)\n"
   ]
  },
  {
   "cell_type": "code",
   "execution_count": 3,
   "id": "08e0c641",
   "metadata": {},
   "outputs": [
    {
     "name": "stdout",
     "output_type": "stream",
     "text": [
      "Enter the number of terms: 5\n",
      "Fibonacci sequence:\n",
      "0\n",
      "1\n",
      "1\n",
      "2\n",
      "3\n"
     ]
    }
   ],
   "source": [
    "3. #Write a Python Program to Print the Fibonacci sequence?\n",
    "\n",
    "# take user input\n",
    "terms = int(input(\"Enter the number of terms: \"))\n",
    "\n",
    "# initialize the first two terms\n",
    "a, b = 0, 1\n",
    "\n",
    "# check if the number of terms is valid\n",
    "if terms <= 0:\n",
    "    print(\"Please enter a positive integer.\")\n",
    "elif terms == 1:\n",
    "    print(\"Fibonacci sequence up to\", terms, \":\")\n",
    "    print(a)\n",
    "else:\n",
    "    print(\"Fibonacci sequence:\")\n",
    "    for i in range(terms):\n",
    "        print(a)\n",
    "        c = a + b\n",
    "        a = b\n",
    "        b = c\n"
   ]
  },
  {
   "cell_type": "code",
   "execution_count": 4,
   "id": "c90a47f8",
   "metadata": {},
   "outputs": [
    {
     "name": "stdout",
     "output_type": "stream",
     "text": [
      "Enter a number: 142\n",
      "142 is not an Armstrong number\n"
     ]
    }
   ],
   "source": [
    "4. #Write a Python Program to Check Armstrong Number?\n",
    "\n",
    "# take user input\n",
    "num = int(input(\"Enter a number: \"))\n",
    "\n",
    "# find the number of digits in the number\n",
    "num_digits = len(str(num))\n",
    "\n",
    "# initialize the sum to 0\n",
    "sum = 0\n",
    "\n",
    "# calculate the sum of the cube of each digit\n",
    "temp = num\n",
    "while temp > 0:\n",
    "    digit = temp % 10\n",
    "    sum += digit ** num_digits\n",
    "    temp //= 10\n",
    "\n",
    "# check if the number is an Armstrong number\n",
    "if num == sum:\n",
    "    print(num, \"is an Armstrong number\")\n",
    "else:\n",
    "    print(num, \"is not an Armstrong number\")\n"
   ]
  },
  {
   "cell_type": "code",
   "execution_count": 5,
   "id": "b2079dc7",
   "metadata": {},
   "outputs": [
    {
     "name": "stdout",
     "output_type": "stream",
     "text": [
      "Enter the starting number: 5\n",
      "Enter the ending number: 120\n",
      "Armstrong numbers in the interval 5 to 120 are:\n",
      "5\n",
      "6\n",
      "7\n",
      "8\n",
      "9\n"
     ]
    }
   ],
   "source": [
    "5. #Write a Python Program to Find Armstrong Number in an Interval?\n",
    "\n",
    "# take user input\n",
    "start = int(input(\"Enter the starting number: \"))\n",
    "end = int(input(\"Enter the ending number: \"))\n",
    "\n",
    "print(\"Armstrong numbers in the interval\", start, \"to\", end, \"are:\")\n",
    "\n",
    "# iterate over the interval\n",
    "for num in range(start, end+1):\n",
    "    # find the number of digits in the number\n",
    "    num_digits = len(str(num))\n",
    "\n",
    "    # initialize the sum to 0\n",
    "    sum = 0\n",
    "\n",
    "    # calculate the sum of the cube of each digit\n",
    "    temp = num\n",
    "    while temp > 0:\n",
    "        digit = temp % 10\n",
    "        sum += digit ** num_digits\n",
    "        temp //= 10\n",
    "\n",
    "    # check if the number is an Armstrong number\n",
    "    if num == sum:\n",
    "        print(num)\n"
   ]
  },
  {
   "cell_type": "code",
   "execution_count": 6,
   "id": "4ef5349e",
   "metadata": {},
   "outputs": [
    {
     "name": "stdout",
     "output_type": "stream",
     "text": [
      "Enter a positive integer: 10\n",
      "The sum of natural numbers up to 10 is 55\n"
     ]
    }
   ],
   "source": [
    "6. #Write a Python Program to Find the Sum of Natural Numbers?\n",
    "\n",
    "# take user input\n",
    "num = int(input(\"Enter a positive integer: \"))\n",
    "\n",
    "# initialize the sum to 0\n",
    "sum = 0\n",
    "\n",
    "# iterate over the natural numbers from 1 to num\n",
    "for i in range(1, num+1):\n",
    "    sum += i\n",
    "\n",
    "# print the sum\n",
    "print(\"The sum of natural numbers up to\", num, \"is\", sum)\n"
   ]
  },
  {
   "cell_type": "code",
   "execution_count": null,
   "id": "b7fbb03b",
   "metadata": {},
   "outputs": [],
   "source": []
  }
 ],
 "metadata": {
  "kernelspec": {
   "display_name": "Python 3 (ipykernel)",
   "language": "python",
   "name": "python3"
  },
  "language_info": {
   "codemirror_mode": {
    "name": "ipython",
    "version": 3
   },
   "file_extension": ".py",
   "mimetype": "text/x-python",
   "name": "python",
   "nbconvert_exporter": "python",
   "pygments_lexer": "ipython3",
   "version": "3.9.7"
  }
 },
 "nbformat": 4,
 "nbformat_minor": 5
}
