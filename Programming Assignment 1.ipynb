{
 "cells": [
  {
   "cell_type": "code",
   "execution_count": 1,
   "id": "2040b798",
   "metadata": {},
   "outputs": [
    {
     "name": "stdout",
     "output_type": "stream",
     "text": [
      "Hello Python\n"
     ]
    }
   ],
   "source": [
    "1 # Write a Python program to print 'Hello Python';?\n",
    "\n",
    "print(\"Hello Python\")\n"
   ]
  },
  {
   "cell_type": "code",
   "execution_count": 7,
   "id": "f473bac9",
   "metadata": {},
   "outputs": [
    {
     "name": "stdout",
     "output_type": "stream",
     "text": [
      "Enter first number: 6\n",
      "Enter second number: 2\n",
      "The sum of 6.0 and 2.0 is 8.0\n",
      "The division of 6.0 and 2.0 is 3.0\n"
     ]
    }
   ],
   "source": [
    "2. #Write a Python program to do arithmetical operations addition and division.?\n",
    "\n",
    "# take input from the user\n",
    "num1 = float(input(\"Enter first number: \"))\n",
    "num2 = float(input(\"Enter second number: \"))\n",
    "\n",
    "# add the two numbers\n",
    "sum = num1 + num2\n",
    "\n",
    "# divide the sum by 2\n",
    "div = num1/num2\n",
    "\n",
    "# print the results\n",
    "print(\"The sum of\", num1, \"and\", num2, \"is\", sum)\n",
    "print(\"The division of\", num1, \"and\", num2, \"is\", div)\n"
   ]
  },
  {
   "cell_type": "code",
   "execution_count": 3,
   "id": "c1faa680",
   "metadata": {},
   "outputs": [
    {
     "name": "stdout",
     "output_type": "stream",
     "text": [
      "Enter the base of the triangle: 6\n",
      "Enter the height of the triangle: 3\n",
      "The area of the triangle is: 9.0\n"
     ]
    }
   ],
   "source": [
    "3. #Write a Python program to find the area of a triangle?\n",
    "\n",
    "# take input from the user\n",
    "base = float(input(\"Enter the base of the triangle: \"))\n",
    "height = float(input(\"Enter the height of the triangle: \"))\n",
    "\n",
    "# calculate the area\n",
    "area = 0.5 * base * height\n",
    "\n",
    "# print the result\n",
    "print(\"The area of the triangle is:\", area)\n"
   ]
  },
  {
   "cell_type": "code",
   "execution_count": 4,
   "id": "aca30d46",
   "metadata": {},
   "outputs": [
    {
     "name": "stdout",
     "output_type": "stream",
     "text": [
      "Enter the first variable: s\n",
      "Enter the second variable: r\n",
      "Before swapping: a = s and b = r\n",
      "After swapping: a = r and b = s\n"
     ]
    }
   ],
   "source": [
    "4. #Write a Python program to swap two variables?\n",
    "\n",
    "# take input from the user\n",
    "a = input(\"Enter the first variable: \")\n",
    "b = input(\"Enter the second variable: \")\n",
    "\n",
    "# print the values before swapping\n",
    "print(\"Before swapping: a =\", a, \"and b =\", b)\n",
    "\n",
    "# swap the values\n",
    "a, b = b, a\n",
    "\n",
    "# print the values after swapping\n",
    "print(\"After swapping: a =\", a, \"and b =\", b)\n"
   ]
  },
  {
   "cell_type": "code",
   "execution_count": 6,
   "id": "3737fe70",
   "metadata": {},
   "outputs": [
    {
     "name": "stdout",
     "output_type": "stream",
     "text": [
      "Random number: 81\n"
     ]
    }
   ],
   "source": [
    "5. #Write a Python program to generate a random number?\n",
    "\n",
    "import random\n",
    "\n",
    "# generate a random number between 1 and 100\n",
    "random_number = random.randint(1, 100)\n",
    "\n",
    "# print the random number\n",
    "print(\"Random number:\", random_number)\n"
   ]
  }
 ],
 "metadata": {
  "kernelspec": {
   "display_name": "Python 3 (ipykernel)",
   "language": "python",
   "name": "python3"
  },
  "language_info": {
   "codemirror_mode": {
    "name": "ipython",
    "version": 3
   },
   "file_extension": ".py",
   "mimetype": "text/x-python",
   "name": "python",
   "nbconvert_exporter": "python",
   "pygments_lexer": "ipython3",
   "version": "3.9.7"
  }
 },
 "nbformat": 4,
 "nbformat_minor": 5
}
