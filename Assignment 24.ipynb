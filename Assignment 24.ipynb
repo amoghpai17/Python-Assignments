{
 "cells": [
  {
   "cell_type": "markdown",
   "id": "17066bbd",
   "metadata": {},
   "source": [
    "1.What is the relationship between def statements and lambda expressions ?\n",
    "\n",
    "ANS-\n",
    "def statements are used to create named functions in Python. They are defined using the def keyword followed by the function name, a set of parentheses containing the function's arguments, and a colon. The function body is then indented below the def statement.\n",
    "\n",
    "lambda expressions are a way to create anonymous functions in Python. They are defined using the lambda keyword followed by the function's arguments, a colon, and the function body. "
   ]
  },
  {
   "cell_type": "markdown",
   "id": "567cf1a5",
   "metadata": {},
   "source": [
    "2.What is the benefit of lambda?\n",
    "\n",
    "ANS-\n",
    "Conciseness \n",
    "Readability\n",
    "Flexibility\n",
    "No side effects\n",
    "Closures\n",
    "Higher-order functions "
   ]
  },
  {
   "cell_type": "markdown",
   "id": "c5a3578a",
   "metadata": {},
   "source": [
    "3.Compare and contrast map, filter, and reduce.\n",
    "\n",
    "ANS-\n",
    "map: The map function takes a function and a sequence of values, and applies the function to each value in the sequence, returning a new sequence of the same length with the results.\n",
    "\n",
    "filter: The filter function takes a function and a sequence of values, and returns a new sequence containing only the values for which the function returns True.\n",
    "\n",
    "reduce: The reduce function takes a function and a sequence of values, and applies the function to the first two values, then to the result and the next value, and so on, until all the values have been combined into a single result. "
   ]
  },
  {
   "cell_type": "markdown",
   "id": "d8272772",
   "metadata": {},
   "source": [
    "4.What are function annotations, and how are they used?\n",
    "\n",
    "ANS-\n",
    "Function annotations are a feature in Python that allow you to attach metadata to the parameters and return value of a function. Annotations are defined using a colon after the parameter name (or return keyword), followed by the annotation expression. "
   ]
  },
  {
   "cell_type": "markdown",
   "id": "e67c6780",
   "metadata": {},
   "source": [
    "5.What are recursive functions, and how are they used?\n",
    "\n",
    "ANS-\n",
    "A recursive function is a function that calls itself from within its own code. When a recursive function is called, it executes a base case if the condition is met or it continues to call itself with a modified argument(s). The function keeps calling itself until it reaches the base case, at which point it stops calling itself and returns a value to the calling function."
   ]
  },
  {
   "cell_type": "markdown",
   "id": "25e78d78",
   "metadata": {},
   "source": [
    "6.What are some general design guidelines for coding functions?\n",
    "\n",
    "ANS-\n",
    "1 - Function names: Function names should be clear, concise, and descriptive. They should indicate what the function does and what arguments it takes. It's also good practice to use lowercase letters and underscores to separate words in function names.\n",
    "\n",
    "2 - Function arguments: Functions should take as few arguments as possible. If a function takes too many arguments, it can be difficult to understand and use. If a function needs more than a few arguments, consider using a named tuple or a dictionary to pass arguments.\n",
    "\n",
    "3 - Function length: Functions should be short and do one thing well. A good rule of thumb is that a function should fit on a single screen and take no more than 5-10 minutes to read and understand. If a function is too long, consider breaking it up into smaller functions.\n",
    "\n",
    "4 - Function return values: Functions should return a value or modify an object in place. They should not have side effects that are not obvious from their name or their documentation."
   ]
  },
  {
   "cell_type": "markdown",
   "id": "4dc87270",
   "metadata": {},
   "source": [
    "7.Name three or more ways that functions can communicate results to a caller.\n",
    "\n",
    "ANS-\n",
    "1 - Return values: The most common way for functions to communicate results to a caller is by returning a value. The return statement is used to specify the value that the function should return to the caller. The caller can then use the returned value in its own code.\n",
    "\n",
    "2 - Global variables: Functions can also communicate results to a caller by modifying global variables. A global variable is a variable that is defined outside of any function and can be accessed by any function. By modifying a global variable, a function can change the state of the program and communicate the results to the caller.\n",
    "\n",
    "3 - Exceptions: A function can also communicate results to a caller by raising an exception. An exception is a signal that something has gone wrong in the function, and the caller can handle the exception in its own code. For example, a function that expects a certain input value can raise an exception if the value is not of the expected type or format. The caller can then handle the exception and take appropriate action."
   ]
  }
 ],
 "metadata": {
  "kernelspec": {
   "display_name": "Python 3 (ipykernel)",
   "language": "python",
   "name": "python3"
  },
  "language_info": {
   "codemirror_mode": {
    "name": "ipython",
    "version": 3
   },
   "file_extension": ".py",
   "mimetype": "text/x-python",
   "name": "python",
   "nbconvert_exporter": "python",
   "pygments_lexer": "ipython3",
   "version": "3.9.7"
  }
 },
 "nbformat": 4,
 "nbformat_minor": 5
}
