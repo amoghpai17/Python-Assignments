{
 "cells": [
  {
   "cell_type": "markdown",
   "id": "19f94285",
   "metadata": {},
   "source": [
    "1.How many seconds are in an hour? Use the interactive interpreter as a calculator and multiply the\n",
    "number of seconds in a minute (60) by the number of minutes in an hour (also 60).\n",
    "sol. 60\n",
    "\n",
    "ANS-\n",
    "To calculate the number of seconds in an hour using the interactive interpreter as a calculator, we can multiply the number of seconds in a minute (60) by the number of minutes in an hour (60).\n",
    "60 * 60\n",
    "Therefore, there are 3600 seconds in an hour."
   ]
  },
  {
   "cell_type": "markdown",
   "id": "5073616d",
   "metadata": {},
   "source": [
    "2.Assign the result from the previous task (seconds in an hour) to a variable called\n",
    "seconds_per_hour.\n",
    "\n",
    "ANS-\n",
    "To assign the result from the previous task (seconds in an hour) to a variable called seconds_per_hour, we can use the following code:\n",
    "seconds_per_hour = 60 * 60\n"
   ]
  },
  {
   "cell_type": "markdown",
   "id": "8ad8ba1b",
   "metadata": {},
   "source": [
    "3.How many seconds do you think there are in a day? Make use of the variables seconds per hour\n",
    "and minutes per hour.\n",
    "\n",
    "ANS-\n",
    "To calculate the number of seconds in a day using the variables seconds_per_hour and minutes_per_hour, we can multiply the number of seconds in an hour by the number of minutes in an hour, and then by the number of hours in a day.\n",
    "\n",
    "Since there are 24 hours in a day, we can calculate the number of seconds in a day using the following expression:\n",
    "seconds_per_hour * minutes_per_hour * 24\n",
    "\n",
    "Since seconds_per_hour is 3600 and minutes_per_hour is 60, we can simplify this expression as follows:\n",
    "3600 * 60 * 24\n"
   ]
  },
  {
   "cell_type": "markdown",
   "id": "a93fe66f",
   "metadata": {},
   "source": [
    "4.Calculate seconds per day again, but this time save the result in a variable called seconds_per_day\n",
    "\n",
    "ANS-\n",
    "To calculate the number of seconds in a day and save the result in a variable called seconds_per_day, we can use the following code:"
   ]
  },
  {
   "cell_type": "code",
   "execution_count": 2,
   "id": "faedce50",
   "metadata": {},
   "outputs": [
    {
     "data": {
      "text/plain": [
       "5184000"
      ]
     },
     "execution_count": 2,
     "metadata": {},
     "output_type": "execute_result"
    }
   ],
   "source": [
    "seconds_per_hour = 60 * 60\n",
    "minutes_per_hour = 60\n",
    "hours_per_day = 24\n",
    "\n",
    "seconds_per_day = seconds_per_hour * minutes_per_hour * hours_per_day\n",
    "seconds_per_day"
   ]
  },
  {
   "cell_type": "code",
   "execution_count": 4,
   "id": "c4637021",
   "metadata": {},
   "outputs": [
    {
     "data": {
      "text/plain": [
       "24.0"
      ]
     },
     "execution_count": 4,
     "metadata": {},
     "output_type": "execute_result"
    }
   ],
   "source": [
    "#5.Divide seconds_per_day by seconds_per_hour. Use floating-point (/) division.\n",
    "\n",
    "seconds_per_day = 86400  \n",
    "seconds_per_hour = 3600\n",
    "\n",
    "result = seconds_per_day / seconds_per_hour\n",
    "result"
   ]
  },
  {
   "cell_type": "code",
   "execution_count": 7,
   "id": "3b351a2e",
   "metadata": {},
   "outputs": [
    {
     "data": {
      "text/plain": [
       "24"
      ]
     },
     "execution_count": 7,
     "metadata": {},
     "output_type": "execute_result"
    }
   ],
   "source": [
    "#6.\n",
    "'''Divide seconds_per_day by seconds_per_hour, using integer (//) division. Did this number agree\n",
    "with the floating-point value from the previous question, aside from the final .0? '''\n",
    "\n",
    "seconds_per_day = 86400  \n",
    "seconds_per_hour = 3600\n",
    "\n",
    "result = seconds_per_day // seconds_per_hour\n",
    "result\n",
    "\n"
   ]
  },
  {
   "cell_type": "markdown",
   "id": "55330233",
   "metadata": {},
   "source": [
    "This is the same as the previous result, but without the .0. The integer division result is equivalent to the floating-point result, rounded down to the nearest integer.\n",
    "So, aside from the .0 at the end of the floating-point value, the integer and floating-point values agree and are equivalent."
   ]
  },
  {
   "cell_type": "code",
   "execution_count": 11,
   "id": "6e3a8e2a",
   "metadata": {},
   "outputs": [],
   "source": [
    "#7.\n",
    "'''Write a generator, genPrimes, that returns the sequence of prime numbers on successive calls to\n",
    "its next() method: 2, 3, 5, 7, 11, ...  '''\n",
    "\n",
    "def genPrimes():\n",
    "    # First prime number is 2\n",
    "    yield 2\n",
    "    primes = [2]\n",
    "    n = 3\n",
    "    while True:\n",
    "        is_prime = True\n",
    "        # Check if n is divisible by any of the previous primes\n",
    "        for p in primes:\n",
    "            if n % p == 0:\n",
    "                is_prime = False\n",
    "                break\n",
    "        if is_prime:\n",
    "            # n is prime, so yield it and add it to the list of primes\n",
    "            yield n\n",
    "            primes.append(n)\n",
    "        n += 2  # Only check odd numbers for primality\n"
   ]
  },
  {
   "cell_type": "code",
   "execution_count": null,
   "id": "8482a9f8",
   "metadata": {},
   "outputs": [],
   "source": []
  }
 ],
 "metadata": {
  "kernelspec": {
   "display_name": "Python 3 (ipykernel)",
   "language": "python",
   "name": "python3"
  },
  "language_info": {
   "codemirror_mode": {
    "name": "ipython",
    "version": 3
   },
   "file_extension": ".py",
   "mimetype": "text/x-python",
   "name": "python",
   "nbconvert_exporter": "python",
   "pygments_lexer": "ipython3",
   "version": "3.9.7"
  }
 },
 "nbformat": 4,
 "nbformat_minor": 5
}
