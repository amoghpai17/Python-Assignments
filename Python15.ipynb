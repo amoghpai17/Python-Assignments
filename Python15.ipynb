{
 "cells": [
  {
   "cell_type": "markdown",
   "id": "1ceed7cc",
   "metadata": {},
   "source": [
    "1.What are the new features added in Python 3.8 version?\n",
    "\n",
    "ANS-\n",
    "1-Assignment expressions (the \"walrus operator\"): This allows you to assign a value to a variable as part of an expression. For example, you can now use the expression \"if (n := len(my_list)) > 10\" instead of \"n = len(my_list); if n > 10\".\n",
    "\n",
    "2-Positional-only parameters: This allows you to specify function parameters that can only be passed positionally, not as keywords.\n",
    "\n",
    "3-f-strings now support = to specify a format specifier: You can now write f\"{x=:.2f}\" to get the value of x with two decimal places.\n",
    "\n",
    "4-Improved handling of function and variable annotations: Python 3.8 includes several improvements to the way function and variable annotations are handled, including the ability to specify a generic type with a forward reference.\n",
    "\n",
    "5-The typing module now includes several new types, such as TypedDict, Final, and Literal.\n",
    "\n",
    "6-Performance improvements: Python 3.8 includes several performance improvements, such as faster f-strings and faster initialization of dictionaries."
   ]
  },
  {
   "cell_type": "markdown",
   "id": "fc6e2e18",
   "metadata": {},
   "source": [
    "2.What is monkey patching in Python?\n",
    "\n",
    "ANS-\n",
    "Monkey patching is a technique in Python where you can modify the behavior of a module, class, or object at runtime by changing its attributes or methods. It allows you to dynamically alter the behavior of code without modifying the source code."
   ]
  },
  {
   "cell_type": "markdown",
   "id": "bbde45be",
   "metadata": {},
   "source": [
    "3.What is the difference between a shallow copy and deep copy?\n",
    "\n",
    "ANS-\n",
    "A shallow copy creates a new object and populates it with references to the same memory locations as the original object. This means that the new object is just a copy of the references to the original object, not a copy of the actual data itself. In other words, any changes made to the original object will also affect the shallow copy.\n",
    "\n",
    "On the other hand, a deep copy creates a new object and populates it with copies of the data from the original object. This means that any changes made to the original object will not affect the deep copy, as it has its own copy of the data."
   ]
  },
  {
   "cell_type": "markdown",
   "id": "db8b2ca1",
   "metadata": {},
   "source": [
    "4.What is the maximum possible length of an identifier?\n",
    "\n",
    "ANS-\n",
    "The maximum length of an identifier is not explicitly defined, but the Python style guide (PEP 8) recommends that an identifier should be less than or equal to 79 characters. However, there is no technical limit on the length of an identifier in Python."
   ]
  },
  {
   "cell_type": "markdown",
   "id": "4b880394",
   "metadata": {},
   "source": [
    "5.What is generator comprehension?\n",
    "\n",
    "ANS-\n",
    "Generator comprehension is a concise and memory-efficient way of creating a generator in Python. It is a type of syntactic sugar that allows you to create a generator by specifying its contents in a compact and readable way."
   ]
  }
 ],
 "metadata": {
  "kernelspec": {
   "display_name": "Python 3 (ipykernel)",
   "language": "python",
   "name": "python3"
  },
  "language_info": {
   "codemirror_mode": {
    "name": "ipython",
    "version": 3
   },
   "file_extension": ".py",
   "mimetype": "text/x-python",
   "name": "python",
   "nbconvert_exporter": "python",
   "pygments_lexer": "ipython3",
   "version": "3.9.7"
  }
 },
 "nbformat": 4,
 "nbformat_minor": 5
}
