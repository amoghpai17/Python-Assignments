{
 "cells": [
  {
   "cell_type": "markdown",
   "id": "0a52d33f",
   "metadata": {},
   "source": [
    "1.Add the current date to the text file today.txt as a string.\n"
   ]
  },
  {
   "cell_type": "code",
   "execution_count": 1,
   "id": "6fd0c8f0",
   "metadata": {},
   "outputs": [],
   "source": [
    "import datetime\n",
    "\n",
    "# Get the current date as a string\n",
    "current_date = datetime.datetime.now().strftime(\"%Y-%m-%d\")\n",
    "\n",
    "# Append the current date to the file\n",
    "with open(\"today.txt\", \"a\") as f:\n",
    "    f.write(current_date + \"\\n\")\n"
   ]
  },
  {
   "cell_type": "markdown",
   "id": "df00e3a4",
   "metadata": {},
   "source": [
    "2.Read the text file today.txt into the string today_string\n"
   ]
  },
  {
   "cell_type": "code",
   "execution_count": 3,
   "id": "60ef23a3",
   "metadata": {},
   "outputs": [],
   "source": [
    "with open(\"today.txt\", \"r\") as f:\n",
    "    today_string = f.read()\n"
   ]
  },
  {
   "cell_type": "markdown",
   "id": "8d3127ab",
   "metadata": {},
   "source": [
    "3.Parse the date from today_string.\n"
   ]
  },
  {
   "cell_type": "code",
   "execution_count": 4,
   "id": "f6922738",
   "metadata": {},
   "outputs": [
    {
     "name": "stdout",
     "output_type": "stream",
     "text": [
      "2023-02-22\n"
     ]
    }
   ],
   "source": [
    "import datetime\n",
    "\n",
    "# Assuming that today_string contains only one line with the date in YYYY-MM-DD format\n",
    "today_date = datetime.datetime.strptime(today_string.strip(), \"%Y-%m-%d\").date()\n",
    "\n",
    "# Printing the parsed date\n",
    "print(today_date)\n"
   ]
  },
  {
   "cell_type": "markdown",
   "id": "9b17bd5d",
   "metadata": {},
   "source": [
    "4.List the files in your current directory\n"
   ]
  },
  {
   "cell_type": "code",
   "execution_count": 5,
   "id": "995fe03b",
   "metadata": {},
   "outputs": [
    {
     "name": "stdout",
     "output_type": "stream",
     "text": [
      "['Programming Assignment 6.ipynb', 'Assignment 10.ipynb', 'Programming Assignment 4.ipynb', 'Assignment 12.ipynb', 'Assignment 8.ipynb', 'Assignment 16.ipynb', 'Assignment 14.ipynb', 'Programming Assignment 2.ipynb', 'Assignment 13.ipynb', 'Programming Assignment 5.ipynb', 'today.txt', 'Assignment 11.ipynb', 'Programming Assignment 7.ipynb', 'Programming Assignment 3.ipynb', 'Assignment 15.ipynb', 'Assignment 9.ipynb', 'Programming Assignment 1.ipynb', 'Assignment 17.ipynb', 'Assignment 5.ipynb', 'Programming Assignment 10.ipynb', 'Programming Assignment 12.ipynb', 'Assignment 7.ipynb', 'books.csv', 'Assignment 24.ipynb', 'Assignment 19.ipynb', 'Assignment 20.ipynb', 'Assignment 3.ipynb', 'Programming Assignment 14.ipynb', 'Assignment 1.ipynb', 'Programming Assignment 9.ipynb', 'Assignment 22.ipynb', 'test.txt', '.ipynb_checkpoints', 'Programming Assignment 13.ipynb', 'Assignment 6.ipynb', 'Assignment 18.ipynb', 'Assignment 25.ipynb', 'Assignment 4.ipynb', 'Programming Assignment 11.ipynb', 'Programming Assignment 15.ipynb', 'books.db', 'Assignment 23.ipynb', 'Programming Assignment 8.ipynb', 'Assignment 21.ipynb', 'Assignment 2.ipynb']\n"
     ]
    }
   ],
   "source": [
    "import os\n",
    "\n",
    "files = os.listdir('.')\n",
    "print(files)\n"
   ]
  },
  {
   "cell_type": "markdown",
   "id": "2e7f1e38",
   "metadata": {},
   "source": [
    "5.Create a list of all of the files in your parent directory (minimum five files should be available).\n"
   ]
  },
  {
   "cell_type": "code",
   "execution_count": 6,
   "id": "d06639ae",
   "metadata": {},
   "outputs": [
    {
     "name": "stdout",
     "output_type": "stream",
     "text": [
      "['Untitled Folder', 'Untitled10.ipynb', 'Untitled7.ipynb', '.config', 'Music', '.condarc', 'Untitled12.ipynb', 'Untitled5.ipynb', 'Untitled1.ipynb', '.DS_Store', 'requirements.txt', '.CFUserTextEncoding', 'Machine-learning--1', '.xonshrc', 'Untitled3.ipynb', 'Untitled.ipynb', '.zshrc', 'Untitled4.ipynb', '.psql_history', 'Untitled6.ipynb', 'Pictures', 'Untitled11.ipynb', 'test.csv', 'Brest cancer classification.ipynb', 'Postman', '.zsh_history', 'Untitled2.ipynb', '.ipython', 'Desktop', 'Library', '.matplotlib', '.lesshst', 'EDA of Housing Price.ipynb', 'W6B96B634074E3084E', '.spyder-py3', '.android', '.pgadmin', 'untitled.txt', 'PycharmProjects', 'Public', '.tcshrc', '.anaconda', 'Untitled8.ipynb', 'Movies', 'Applications', 'opt', '.Trash', 'train.csv', '.ipynb_checkpoints', '.jupyter', 'Documents', '.mono', '.vscode', '.bash_profile', 'Downloads', '.continuum', 'Untitled9.ipynb', 'Brest cancer Classification .ipynb', 'Machine-learning-', '.zsh_sessions', '.astropy', '.conda', 'EDA- Part 1.ipynb']\n"
     ]
    }
   ],
   "source": [
    "import os\n",
    "\n",
    "parent_dir = os.path.abspath('..')\n",
    "files = os.listdir(parent_dir)\n",
    "print(files)\n"
   ]
  },
  {
   "cell_type": "markdown",
   "id": "f776b289",
   "metadata": {},
   "source": [
    "6.Use multiprocessing to create three separate processes. Make each one wait a random number of\n",
    "seconds between one and five, print the current time, and then exit.\n"
   ]
  },
  {
   "cell_type": "code",
   "execution_count": null,
   "id": "56a6de5a",
   "metadata": {},
   "outputs": [],
   "source": [
    "import multiprocessing\n",
    "import random\n",
    "import time\n",
    "import datetime\n",
    "\n",
    "def print_time():\n",
    "    # sleep for a random number of seconds between 1 and 5\n",
    "    time.sleep(random.randint(1, 5))\n",
    "    \n",
    "    # print the current time\n",
    "    print(datetime.datetime.now().strftime(\"%H:%M:%S\"))\n",
    "    \n",
    "if __name__ == '__main__':\n",
    "    processes = []\n",
    "    for i in range(3):\n",
    "        process = multiprocessing.Process(target=print_time)\n",
    "        process.start()\n",
    "        processes.append(process)\n",
    "\n",
    "    for process in processes:\n",
    "        process.join()\n",
    "\n",
    "\n",
    "\n"
   ]
  },
  {
   "cell_type": "markdown",
   "id": "1bdaabb6",
   "metadata": {},
   "source": [
    "7.Create a date object of your day of birth.\n"
   ]
  },
  {
   "cell_type": "code",
   "execution_count": 12,
   "id": "e5731626",
   "metadata": {},
   "outputs": [
    {
     "name": "stdout",
     "output_type": "stream",
     "text": [
      "1999-09-17\n"
     ]
    }
   ],
   "source": [
    "from datetime import date\n",
    "\n",
    "birthdate = date(1999, 9, 17)\n",
    "print(birthdate)\n"
   ]
  },
  {
   "cell_type": "markdown",
   "id": "674462e7",
   "metadata": {},
   "source": [
    "8.What day of the week was your day of birth?\n"
   ]
  },
  {
   "cell_type": "code",
   "execution_count": 13,
   "id": "b44f6d89",
   "metadata": {},
   "outputs": [
    {
     "name": "stdout",
     "output_type": "stream",
     "text": [
      "Friday\n"
     ]
    }
   ],
   "source": [
    "import datetime\n",
    "\n",
    "dob = datetime.date(1999, 9, 17)\n",
    "day_of_week = dob.strftime(\"%A\")\n",
    "\n",
    "print(day_of_week)\n"
   ]
  },
  {
   "cell_type": "markdown",
   "id": "b2942534",
   "metadata": {},
   "source": [
    "9.When will you be (or when were you) 10,000 days old?"
   ]
  },
  {
   "cell_type": "code",
   "execution_count": 15,
   "id": "febb83c7",
   "metadata": {},
   "outputs": [
    {
     "name": "stdout",
     "output_type": "stream",
     "text": [
      "You will be 10,000 days old on: 2027-02-02\n"
     ]
    }
   ],
   "source": [
    "import datetime\n",
    "\n",
    "dob = datetime.date(1999, 9, 17) \n",
    "days_to_10000 = datetime.timedelta(days=10000)\n",
    "date_10000 = dob + days_to_10000\n",
    "\n",
    "print(\"You will be 10,000 days old on:\", date_10000)\n"
   ]
  },
  {
   "cell_type": "code",
   "execution_count": null,
   "id": "36d1f2c6",
   "metadata": {},
   "outputs": [],
   "source": []
  }
 ],
 "metadata": {
  "kernelspec": {
   "display_name": "Python 3 (ipykernel)",
   "language": "python",
   "name": "python3"
  },
  "language_info": {
   "codemirror_mode": {
    "name": "ipython",
    "version": 3
   },
   "file_extension": ".py",
   "mimetype": "text/x-python",
   "name": "python",
   "nbconvert_exporter": "python",
   "pygments_lexer": "ipython3",
   "version": "3.9.7"
  }
 },
 "nbformat": 4,
 "nbformat_minor": 5
}
