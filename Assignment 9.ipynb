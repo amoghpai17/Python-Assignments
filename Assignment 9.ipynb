{
 "cells": [
  {
   "cell_type": "markdown",
   "id": "f262a517",
   "metadata": {},
   "source": [
    "1.To what does a relative path refer?\n",
    "\n",
    "ANS-\n",
    "A relative path is a file or directory path that is relative to the current working directory or to another directory relative to the current directory. It does not start with the root directory and indicates a path to a file or directory in relation to the current location in the file system."
   ]
  },
  {
   "cell_type": "markdown",
   "id": "acd61f84",
   "metadata": {},
   "source": [
    "2.What does an absolute path start with your operating system?\n",
    "\n",
    "ANS-\n",
    "an absolute path starts with the root directory, which is the highest-level directory in the file system hierarchy. On Unix-based systems, the root directory is denoted by a forward slash'/', while on Windows systems, it is denoted by a drive letter followed by a colon and a backslash, such as 'C:\\' for the 'C' drive. An absolute path provides the full path to a file or directory from the root of the file system, and can be used to access the file or directory from anywhere in the file system."
   ]
  },
  {
   "cell_type": "markdown",
   "id": "b507526c",
   "metadata": {},
   "source": [
    "3.What do the functions os.getcwd() and os.chdir() do?\n",
    "\n",
    "ANS-\n",
    "os.getcwd() returns a string representing the current working directory of the Python script. This function does not take any arguments.\n",
    "\n",
    "os.chdir(path) changes the current working directory to the path specified in the argument path. The argument path can be either an absolute path or a relative path. Once the current working directory is changed, any relative paths used in the script will be relative to the new working directory."
   ]
  },
  {
   "cell_type": "markdown",
   "id": "34bba404",
   "metadata": {},
   "source": [
    "4.What are the . and .. folders?\n",
    "\n",
    "ANS-\n",
    "The '.' folder is used to represent the current directory, and it is often used in file paths to specify the location of a file or directory relative to the current directory.\n",
    "\n",
    "The '..' folder is used to represent the parent directory of the current directory, and it is also used in file paths to specify the location of a file or directory relative to the parent directory."
   ]
  },
  {
   "cell_type": "markdown",
   "id": "46a68891",
   "metadata": {},
   "source": [
    "5.In C:\\bacon\\eggs\\spam.txt, which part is the dir name, and which part is the base name?\n",
    "\n",
    "ANS-\n",
    "In the path \"C:\\bacon\\eggs\\spam.txt\", \"C:\\bacon\\eggs\" is the directory name, and \"spam.txt\" is the base name."
   ]
  },
  {
   "cell_type": "markdown",
   "id": "bf4ae21b",
   "metadata": {},
   "source": [
    "6.What are the three “mode” arguments that can be passed to the open() function?\n",
    "\n",
    "ANS-\n",
    "The three \"mode\" arguments that can be passed to the open() function in Python are:\n",
    "\n",
    "1 - 'r': This is used for reading files (default mode).\n",
    "2 - 'w': This is used for writing to files. It overwrites the file if it already exists, and creates a new file if it doesn't exist.\n",
    "3 - 'a': This is used for appending to a file. It adds new data to the end of the file, without overwriting any existing data."
   ]
  },
  {
   "cell_type": "markdown",
   "id": "b4793a50",
   "metadata": {},
   "source": [
    "7.What happens if an existing file is opened in write mode?\n",
    "\n",
    "ANS-\n",
    "If an existing file is opened in write mode using the open() function, the file is truncated to zero length, and any existing data is removed. If the file does not exist, a new file is created. Therefore, opening an existing file in write mode may result in the loss of data. It is advisable to use the append mode ('a') or read-write mode ('r+') if you need to modify an existing file without losing its data."
   ]
  },
  {
   "cell_type": "markdown",
   "id": "dc499ce0",
   "metadata": {},
   "source": [
    "8.How do you tell the difference between read() and readlines()?\n",
    "\n",
    "ANS-\n",
    "1 - read() method reads the entire content of the file as a single string\n",
    "2 - readlines() method reads the entire content of the file line by line and returns a list of strings, where each string represents a line."
   ]
  },
  {
   "cell_type": "markdown",
   "id": "eb09a0cd",
   "metadata": {},
   "source": [
    "9.What data structure does a shelf value resemble?\n",
    "\n",
    "ANS-\n",
    "\n",
    "A shelf value in Python resembles a dictionary data structure. However, the difference is that while dictionaries store their contents in memory, a shelf value is stored on disk, allowing you to store and access large amounts of data without using up all of your computer's memory. Like dictionaries, shelf values also consist of key-value pairs."
   ]
  }
 ],
 "metadata": {
  "kernelspec": {
   "display_name": "Python 3 (ipykernel)",
   "language": "python",
   "name": "python3"
  },
  "language_info": {
   "codemirror_mode": {
    "name": "ipython",
    "version": 3
   },
   "file_extension": ".py",
   "mimetype": "text/x-python",
   "name": "python",
   "nbconvert_exporter": "python",
   "pygments_lexer": "ipython3",
   "version": "3.9.7"
  }
 },
 "nbformat": 4,
 "nbformat_minor": 5
}
