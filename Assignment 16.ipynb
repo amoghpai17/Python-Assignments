{
 "cells": [
  {
   "cell_type": "markdown",
   "id": "f50e873a",
   "metadata": {},
   "source": [
    "1.Create a list called years_list, starting with the year of your birth, and each year thereafter until\n",
    "the year of your fifth birthday. For example, if you were born in 1980. the list would be years_list =\n",
    "[1980, 1981, 1982, 1983, 1984, 1985].\n",
    "\n",
    "\n",
    "years_list = [1995, 1996, 1997, 1998, 1999, 2000]\n"
   ]
  },
  {
   "cell_type": "markdown",
   "id": "29fbe14c",
   "metadata": {},
   "source": [
    "2.In which year in years_list was your third birthday? Remember, you were 0 years of age for your\n",
    "first year.\n",
    "\n",
    "\n",
    "ANS-\n",
    "1998"
   ]
  },
  {
   "cell_type": "markdown",
   "id": "5fe28f70",
   "metadata": {},
   "source": [
    "3.In the years list, which year were you the oldest?\n",
    "\n",
    "ANS-\n",
    "2000"
   ]
  },
  {
   "cell_type": "markdown",
   "id": "4c0e6919",
   "metadata": {},
   "source": [
    "4.Make a list called things with these three strings as elements: \"mozzarella\", \"cinderella\",\n",
    "\"salmonella\".\n",
    "\n",
    "\n",
    "things = [\"mozzarella\", \"cinderella\", \"salmonella\"]\n"
   ]
  },
  {
   "cell_type": "markdown",
   "id": "98c54f81",
   "metadata": {},
   "source": [
    "5.Capitalize the element in things that refers to a person and then print the list. Did it change the\n",
    "element in the list?\n",
    "\n",
    "\n",
    "ANS-\n",
    "\n",
    "things = [\"mozzarella\", \"cinderella\", \"salmonella\"]\n",
    "things = [thing.capitalize() for thing in things]\n",
    "print(things)\n",
    "\n",
    "output-\n",
    "[\"Mozzarella\", \"Cinderella\", \"Salmonella\"]\n",
    "\n",
    "\n",
    "The original list has been modified"
   ]
  },
  {
   "cell_type": "markdown",
   "id": "55c8f43a",
   "metadata": {},
   "source": [
    "6.Make a surprise list with the elements 'Groucho,' 'Chico,' and 'Harpo.'\n",
    "\n",
    "\n",
    "surprise = ['Groucho', 'Chico', 'Harpo']\n"
   ]
  },
  {
   "cell_type": "code",
   "execution_count": 1,
   "id": "5d0bb4fb",
   "metadata": {},
   "outputs": [
    {
     "name": "stdout",
     "output_type": "stream",
     "text": [
      "['Groucho', 'Chico', 'Oprah']\n"
     ]
    }
   ],
   "source": [
    "#7.Lowercase the last element of the surprise list, reverse it, and then capitalize it.\n",
    "\n",
    "\n",
    "surprise = ['Groucho', 'Chico', 'Harpo']\n",
    "last_element = surprise[-1].lower() # Get the last element, lowercase it\n",
    "reversed_element = last_element[::-1] # Reverse the lowercase element\n",
    "capitalized_element = reversed_element.capitalize() # Capitalize the reversed element\n",
    "surprise[-1] = capitalized_element # Replace the last element in the original list with the new capitalized element\n",
    "print(surprise)\n"
   ]
  },
  {
   "cell_type": "code",
   "execution_count": 2,
   "id": "a44d0405",
   "metadata": {},
   "outputs": [
    {
     "name": "stdout",
     "output_type": "stream",
     "text": [
      "{'dog': 'chien', 'cat': 'chat', 'walrus': 'morse'}\n"
     ]
    }
   ],
   "source": [
    "#8.\n",
    "'''Make an English-to-French dictionary called e2f and print it. Here are your starter words: dog is\n",
    "chien, cat is chat, and walrus is morse.'''\n",
    "\n",
    "\n",
    "e2f = {'dog': 'chien', 'cat': 'chat', 'walrus': 'morse'}\n",
    "print(e2f)\n"
   ]
  },
  {
   "cell_type": "code",
   "execution_count": 3,
   "id": "f909104c",
   "metadata": {},
   "outputs": [
    {
     "name": "stdout",
     "output_type": "stream",
     "text": [
      "morse\n"
     ]
    }
   ],
   "source": [
    "#9.Write the French word for walrus in your three-word dictionary e2f.\n",
    "\n",
    "e2f = {'dog': 'chien', 'cat': 'chat', 'walrus': 'morse'}\n",
    "french_word = e2f['walrus']\n",
    "print(french_word)\n"
   ]
  },
  {
   "cell_type": "code",
   "execution_count": 4,
   "id": "a0df1553",
   "metadata": {},
   "outputs": [
    {
     "name": "stdout",
     "output_type": "stream",
     "text": [
      "{'chien': 'dog', 'chat': 'cat', 'morse': 'walrus'}\n"
     ]
    }
   ],
   "source": [
    "#10.Make a French-to-English dictionary called f2e from e2f. Use the items method.\n",
    "\n",
    "\n",
    "e2f = {'dog': 'chien', 'cat': 'chat', 'walrus': 'morse'}\n",
    "f2e = {value: key for key, value in e2f.items()}\n",
    "print(f2e)\n"
   ]
  },
  {
   "cell_type": "code",
   "execution_count": 5,
   "id": "4795824c",
   "metadata": {},
   "outputs": [
    {
     "name": "stdout",
     "output_type": "stream",
     "text": [
      "dog\n"
     ]
    }
   ],
   "source": [
    "#11.Print the English version of the French word chien using f2e.\n",
    "\n",
    "f2e = {'chien': 'dog', 'chat': 'cat', 'morse': 'walrus'}\n",
    "english_word = f2e['chien']\n",
    "print(english_word)\n"
   ]
  },
  {
   "cell_type": "code",
   "execution_count": 6,
   "id": "db4c042a",
   "metadata": {},
   "outputs": [
    {
     "name": "stdout",
     "output_type": "stream",
     "text": [
      "{'walrus', 'cat', 'dog'}\n"
     ]
    }
   ],
   "source": [
    "#12.Make and print a set of English words from the keys in e2f.\n",
    "\n",
    "e2f = {'dog': 'chien', 'cat': 'chat', 'walrus': 'morse'}\n",
    "english_words = set(e2f.keys())\n",
    "print(english_words)\n"
   ]
  },
  {
   "cell_type": "markdown",
   "id": "592d8e99",
   "metadata": {},
   "source": [
    "13.Make a multilevel dictionary called life. Use these strings for the topmost keys:'animals', 'plants',\n",
    "and 'other'. Make the 'animals' key refer to another dictionary with the keys 'cats', 'octopi', and\n",
    "'emus'. Make the 'cats' key refer to a list of strings with the values 'Henri', 'Grumpy', and 'Lucy'.\n",
    "Make all the other keys refer to empty dictionaries.\n"
   ]
  },
  {
   "cell_type": "code",
   "execution_count": 8,
   "id": "467fa7bd",
   "metadata": {},
   "outputs": [
    {
     "data": {
      "text/plain": [
       "{'animals': {'cats': ['Henri', 'Grumpy', 'Lucy'], 'octopi': {}, 'emus': {}},\n",
       " 'plants': {},\n",
       " 'other': {}}"
      ]
     },
     "execution_count": 8,
     "metadata": {},
     "output_type": "execute_result"
    }
   ],
   "source": [
    "life = {\n",
    "    'animals': {\n",
    "        'cats': ['Henri', 'Grumpy', 'Lucy'],\n",
    "        'octopi': {},\n",
    "        'emus': {}\n",
    "    },\n",
    "    'plants': {},\n",
    "    'other': {}\n",
    "}\n",
    "life\n"
   ]
  },
  {
   "cell_type": "code",
   "execution_count": 9,
   "id": "69349913",
   "metadata": {},
   "outputs": [
    {
     "name": "stdout",
     "output_type": "stream",
     "text": [
      "dict_keys(['animals', 'plants', 'other'])\n"
     ]
    }
   ],
   "source": [
    "#14.Print the top-level keys of life.\n",
    "\n",
    "print(life.keys())\n"
   ]
  },
  {
   "cell_type": "code",
   "execution_count": 11,
   "id": "76f0b4ee",
   "metadata": {},
   "outputs": [
    {
     "name": "stdout",
     "output_type": "stream",
     "text": [
      "dict_keys(['cats', 'octopi', 'emus'])\n"
     ]
    }
   ],
   "source": [
    "#15.Print the keys for life['animals'].\n",
    "\n",
    "print(life['animals'].keys())"
   ]
  },
  {
   "cell_type": "code",
   "execution_count": 12,
   "id": "1614925a",
   "metadata": {},
   "outputs": [
    {
     "name": "stdout",
     "output_type": "stream",
     "text": [
      "['Henri', 'Grumpy', 'Lucy']\n"
     ]
    }
   ],
   "source": [
    "#16.Print the values for life['animals']['cats']\n",
    "\n",
    "print(life['animals']['cats'])\n"
   ]
  },
  {
   "cell_type": "markdown",
   "id": "01e8c15b",
   "metadata": {},
   "source": []
  }
 ],
 "metadata": {
  "kernelspec": {
   "display_name": "Python 3 (ipykernel)",
   "language": "python",
   "name": "python3"
  },
  "language_info": {
   "codemirror_mode": {
    "name": "ipython",
    "version": 3
   },
   "file_extension": ".py",
   "mimetype": "text/x-python",
   "name": "python",
   "nbconvert_exporter": "python",
   "pygments_lexer": "ipython3",
   "version": "3.9.7"
  }
 },
 "nbformat": 4,
 "nbformat_minor": 5
}
