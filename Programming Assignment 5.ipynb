{
 "cells": [
  {
   "cell_type": "code",
   "execution_count": 1,
   "id": "18427313",
   "metadata": {},
   "outputs": [
    {
     "name": "stdout",
     "output_type": "stream",
     "text": [
      "The LCM of 12 and 18 is 36\n"
     ]
    }
   ],
   "source": [
    "1. #Write a Python Program to Find LCM?\n",
    "\n",
    "def gcd(a, b):\n",
    "    \"\"\"Returns the greatest common divisor of a and b\"\"\"\n",
    "    if b == 0:\n",
    "        return a\n",
    "    else:\n",
    "        return gcd(b, a % b)\n",
    "\n",
    "def lcm(a, b):\n",
    "    \"\"\"Returns the least common multiple of a and b\"\"\"\n",
    "    return (a * b) // gcd(a, b)\n",
    "\n",
    "# Example usage\n",
    "num1 = 12\n",
    "num2 = 18\n",
    "print(\"The LCM of\", num1, \"and\", num2, \"is\", lcm(num1, num2))\n"
   ]
  },
  {
   "cell_type": "code",
   "execution_count": 2,
   "id": "3b25e126",
   "metadata": {},
   "outputs": [
    {
     "name": "stdout",
     "output_type": "stream",
     "text": [
      "The HCF of 24 and 36 is 12\n"
     ]
    }
   ],
   "source": [
    "2. #Write a Python Program to Find HCF?\n",
    "\n",
    "def hcf(a, b):\n",
    "    \"\"\"Returns the highest common factor of a and b\"\"\"\n",
    "    if b == 0:\n",
    "        return a\n",
    "    else:\n",
    "        return hcf(b, a % b)\n",
    "\n",
    "# Example usage\n",
    "num1 = 24\n",
    "num2 = 36\n",
    "print(\"The HCF of\", num1, \"and\", num2, \"is\", hcf(num1, num2))\n"
   ]
  },
  {
   "cell_type": "code",
   "execution_count": 3,
   "id": "1d9fdbae",
   "metadata": {},
   "outputs": [
    {
     "name": "stdout",
     "output_type": "stream",
     "text": [
      "Enter a decimal number: 20\n",
      "The binary representation of 20 is 0b10100\n",
      "The octal representation of 20 is 0o24\n",
      "The hexadecimal representation of 20 is 0x14\n"
     ]
    }
   ],
   "source": [
    "3. #Write a Python Program to Convert Decimal to Binary, Octal and Hexadecimal?\n",
    "\n",
    "decimal_num = int(input(\"Enter a decimal number: \"))\n",
    "\n",
    "# Convert decimal to binary\n",
    "binary_num = bin(decimal_num)\n",
    "print(\"The binary representation of\", decimal_num, \"is\", binary_num)\n",
    "\n",
    "# Convert decimal to octal\n",
    "octal_num = oct(decimal_num)\n",
    "print(\"The octal representation of\", decimal_num, \"is\", octal_num)\n",
    "\n",
    "# Convert decimal to hexadecimal\n",
    "hex_num = hex(decimal_num)\n",
    "print(\"The hexadecimal representation of\", decimal_num, \"is\", hex_num)\n"
   ]
  },
  {
   "cell_type": "code",
   "execution_count": 6,
   "id": "582bb62b",
   "metadata": {},
   "outputs": [
    {
     "name": "stdout",
     "output_type": "stream",
     "text": [
      "Enter a character: A\n",
      "The ASCII value of A is 65\n"
     ]
    }
   ],
   "source": [
    "4. #Write a Python Program To Find ASCII value of a character?\n",
    "\n",
    "char = input(\"Enter a character: \")\n",
    "\n",
    "# Convert the character to its ASCII value\n",
    "ascii_value = ord(char)\n",
    "\n",
    "print(\"The ASCII value of\", char, \"is\", ascii_value)\n"
   ]
  },
  {
   "cell_type": "code",
   "execution_count": 7,
   "id": "942cf0a4",
   "metadata": {},
   "outputs": [
    {
     "name": "stdout",
     "output_type": "stream",
     "text": [
      "Enter the first number: 4 \n",
      "Enter the second number: 5\n",
      "Enter an operator (+, -, *, /): +\n",
      "4.0 + 5.0 = 9.0\n"
     ]
    }
   ],
   "source": [
    "5. #Write a Python Program to Make a Simple Calculator with 4 basic mathematical operations?\n",
    "\n",
    "# Define a function to add two numbers\n",
    "def add(a, b):\n",
    "    return a + b\n",
    "\n",
    "# Define a function to subtract two numbers\n",
    "def subtract(a, b):\n",
    "    return a - b\n",
    "\n",
    "# Define a function to multiply two numbers\n",
    "def multiply(a, b):\n",
    "    return a * b\n",
    "\n",
    "# Define a function to divide two numbers\n",
    "def divide(a, b):\n",
    "    return a / b\n",
    "\n",
    "# Prompt the user to enter two numbers and an operator\n",
    "num1 = float(input(\"Enter the first number: \"))\n",
    "num2 = float(input(\"Enter the second number: \"))\n",
    "operator = input(\"Enter an operator (+, -, *, /): \")\n",
    "\n",
    "# Perform the selected operation and print the result\n",
    "if operator == '+':\n",
    "    result = add(num1, num2)\n",
    "elif operator == '-':\n",
    "    result = subtract(num1, num2)\n",
    "elif operator == '*':\n",
    "    result = multiply(num1, num2)\n",
    "elif operator == '/':\n",
    "    result = divide(num1, num2)\n",
    "else:\n",
    "    print(\"Invalid operator\")\n",
    "    exit()\n",
    "\n",
    "print(num1, operator, num2, \"=\", result)\n"
   ]
  },
  {
   "cell_type": "code",
   "execution_count": null,
   "id": "359da43f",
   "metadata": {},
   "outputs": [],
   "source": []
  }
 ],
 "metadata": {
  "kernelspec": {
   "display_name": "Python 3 (ipykernel)",
   "language": "python",
   "name": "python3"
  },
  "language_info": {
   "codemirror_mode": {
    "name": "ipython",
    "version": 3
   },
   "file_extension": ".py",
   "mimetype": "text/x-python",
   "name": "python",
   "nbconvert_exporter": "python",
   "pygments_lexer": "ipython3",
   "version": "3.9.7"
  }
 },
 "nbformat": 4,
 "nbformat_minor": 5
}
