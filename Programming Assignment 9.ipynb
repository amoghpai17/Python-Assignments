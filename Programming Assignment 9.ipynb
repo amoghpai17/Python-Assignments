{
 "cells": [
  {
   "cell_type": "code",
   "execution_count": 1,
   "id": "efed17be",
   "metadata": {},
   "outputs": [
    {
     "name": "stdout",
     "output_type": "stream",
     "text": [
      "175 is a Disarium number\n"
     ]
    }
   ],
   "source": [
    "1. #Write a Python program to check if the given number is a Disarium Number?\n",
    "\n",
    "def is_disarium_number(num):\n",
    "    # Convert the number to a string to access each digit\n",
    "    num_str = str(num)\n",
    "    # Calculate the sum of each digit raised to its own position\n",
    "    sum = 0\n",
    "    for i in range(len(num_str)):\n",
    "        digit = int(num_str[i])\n",
    "        sum += digit**(i+1)\n",
    "    # Check if the sum is equal to the original number\n",
    "    return sum == num\n",
    "\n",
    "# Example usage\n",
    "num = 175\n",
    "if is_disarium_number(num):\n",
    "    print(num, \"is a Disarium number\")\n",
    "else:\n",
    "    print(num, \"is not a Disarium number\")\n",
    "\n"
   ]
  },
  {
   "cell_type": "code",
   "execution_count": 2,
   "id": "97eb3a5d",
   "metadata": {},
   "outputs": [
    {
     "name": "stdout",
     "output_type": "stream",
     "text": [
      "1\n",
      "2\n",
      "3\n",
      "4\n",
      "5\n",
      "6\n",
      "7\n",
      "8\n",
      "9\n",
      "89\n"
     ]
    }
   ],
   "source": [
    "2. #Write a Python program to print all disarium numbers between 1 to 100?\n",
    "\n",
    "def is_disarium_number(num):\n",
    "    # Convert the number to a string to access each digit\n",
    "    num_str = str(num)\n",
    "    # Calculate the sum of each digit raised to its own position\n",
    "    sum = 0\n",
    "    for i in range(len(num_str)):\n",
    "        digit = int(num_str[i])\n",
    "        sum += digit**(i+1)\n",
    "    # Check if the sum is equal to the original number\n",
    "    return sum == num\n",
    "\n",
    "# Loop through all numbers between 1 and 100\n",
    "for i in range(1, 101):\n",
    "    if is_disarium_number(i):\n",
    "        print(i)\n"
   ]
  },
  {
   "cell_type": "code",
   "execution_count": 4,
   "id": "c9327e36",
   "metadata": {},
   "outputs": [
    {
     "name": "stdout",
     "output_type": "stream",
     "text": [
      "19 is a Happy number\n"
     ]
    }
   ],
   "source": [
    "3. #Write a Python program to check if the given number is Happy Number?\n",
    "\n",
    "def is_happy_number(num):\n",
    "    visited = set()  # Keep track of visited numbers to detect loops\n",
    "    while True:\n",
    "        # Calculate the sum of squares of digits\n",
    "        sum = 0\n",
    "        while num > 0:\n",
    "            digit = num % 10\n",
    "            sum += digit ** 2\n",
    "            num //= 10\n",
    "        # If the sum is 1, the number is happy\n",
    "        if sum == 1:\n",
    "            return True\n",
    "        # If we have already visited this sum, the number is not happy\n",
    "        if sum in visited:\n",
    "            return False\n",
    "        # Otherwise, continue with the sum\n",
    "        visited.add(sum)\n",
    "        num = sum\n",
    "\n",
    "# Example usage\n",
    "num = 19\n",
    "if is_happy_number(num):\n",
    "    print(num, \"is a Happy number\")\n",
    "else:\n",
    "    print(num, \"is not a Happy number\")"
   ]
  },
  {
   "cell_type": "code",
   "execution_count": 5,
   "id": "d7e14cc9",
   "metadata": {},
   "outputs": [
    {
     "name": "stdout",
     "output_type": "stream",
     "text": [
      "1\n",
      "7\n",
      "10\n",
      "13\n",
      "19\n",
      "23\n",
      "28\n",
      "31\n",
      "32\n",
      "44\n",
      "49\n",
      "68\n",
      "70\n",
      "79\n",
      "82\n",
      "86\n",
      "91\n",
      "94\n",
      "97\n",
      "100\n"
     ]
    }
   ],
   "source": [
    "4. #Write a Python program to print all happy numbers between 1 and 100?\n",
    "\n",
    "def is_happy_number(num):\n",
    "    visited = set()  # Keep track of visited numbers to detect loops\n",
    "    while True:\n",
    "        # Calculate the sum of squares of digits\n",
    "        sum = 0\n",
    "        while num > 0:\n",
    "            digit = num % 10\n",
    "            sum += digit ** 2\n",
    "            num //= 10\n",
    "        # If the sum is 1, the number is happy\n",
    "        if sum == 1:\n",
    "            return True\n",
    "        # If we have already visited this sum, the number is not happy\n",
    "        if sum in visited:\n",
    "            return False\n",
    "        # Otherwise, continue with the sum\n",
    "        visited.add(sum)\n",
    "        num = sum\n",
    "\n",
    "# Loop through all numbers between 1 and 100\n",
    "for i in range(1, 101):\n",
    "    if is_happy_number(i):\n",
    "        print(i)\n",
    "\n",
    "\n"
   ]
  },
  {
   "cell_type": "code",
   "execution_count": 8,
   "id": "7dc44441",
   "metadata": {},
   "outputs": [
    {
     "name": "stdout",
     "output_type": "stream",
     "text": [
      "Enter a number: 23\n",
      "23 is not a Harshad number\n"
     ]
    }
   ],
   "source": [
    "5. #Write a Python program to determine whether the given number is a Harshad Number?\n",
    "\n",
    "def is_harshad_number(num):\n",
    "    # Calculate the sum of digits of num\n",
    "    sum = 0\n",
    "    temp = num\n",
    "    while temp > 0:\n",
    "        digit = temp % 10\n",
    "        sum += digit\n",
    "        temp //= 10\n",
    "    # Check if num is divisible by the sum of its digits\n",
    "    if num % sum == 0:\n",
    "        return True\n",
    "    else:\n",
    "        return False\n",
    "\n",
    "num = int(input(\"Enter a number: \"))\n",
    "if is_harshad_number(num):\n",
    "    print(num, \"is a Harshad number\")\n",
    "else:\n",
    "    print(num, \"is not a Harshad number\")\n",
    "\n"
   ]
  },
  {
   "cell_type": "code",
   "execution_count": 6,
   "id": "876f7a27",
   "metadata": {},
   "outputs": [
    {
     "name": "stdout",
     "output_type": "stream",
     "text": [
      "2\n",
      "6\n",
      "12\n",
      "20\n",
      "30\n",
      "42\n",
      "56\n",
      "72\n",
      "90\n"
     ]
    }
   ],
   "source": [
    "6. #Write a Python program to print all pronic numbers between 1 and 100?\n",
    "\n",
    "def is_pronic_number(num):\n",
    "    for i in range(1, num):\n",
    "        # Check if i * (i + 1) is equal to num\n",
    "        if i * (i + 1) == num:\n",
    "            return True\n",
    "    return False\n",
    "\n",
    "# Loop through all numbers between 1 and 100\n",
    "for i in range(1, 101):\n",
    "    if is_pronic_number(i):\n",
    "        print(i)\n"
   ]
  },
  {
   "cell_type": "code",
   "execution_count": null,
   "id": "45739db9",
   "metadata": {},
   "outputs": [],
   "source": []
  }
 ],
 "metadata": {
  "kernelspec": {
   "display_name": "Python 3 (ipykernel)",
   "language": "python",
   "name": "python3"
  },
  "language_info": {
   "codemirror_mode": {
    "name": "ipython",
    "version": 3
   },
   "file_extension": ".py",
   "mimetype": "text/x-python",
   "name": "python",
   "nbconvert_exporter": "python",
   "pygments_lexer": "ipython3",
   "version": "3.9.7"
  }
 },
 "nbformat": 4,
 "nbformat_minor": 5
}
