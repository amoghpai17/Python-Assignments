{
 "cells": [
  {
   "cell_type": "code",
   "execution_count": 2,
   "id": "162fcce4",
   "metadata": {},
   "outputs": [
    {
     "name": "stdout",
     "output_type": "stream",
     "text": [
      "0\n",
      "7\n",
      "14\n",
      "21\n",
      "28\n",
      "35\n",
      "42\n",
      "49\n"
     ]
    }
   ],
   "source": [
    "#Question 1:\n",
    "'''Define a class with a generator which can iterate the numbers, which are divisible by\n",
    "7, between a given range 0 and n.'''\n",
    "\n",
    "class DivisibleBySeven:\n",
    "    def __init__(self, n):\n",
    "        self.n = n\n",
    "        \n",
    "    def divisible_by_seven_generator(self):\n",
    "        for i in range(self.n + 1):\n",
    "            if i % 7 == 0:\n",
    "                yield i\n",
    "db7 = DivisibleBySeven(50)\n",
    "\n",
    "for num in db7.divisible_by_seven_generator():\n",
    "    print(num)\n"
   ]
  },
  {
   "cell_type": "code",
   "execution_count": 3,
   "id": "d01657e0",
   "metadata": {},
   "outputs": [
    {
     "name": "stdout",
     "output_type": "stream",
     "text": [
      "2:2\n",
      "3.:1\n",
      "3?:1\n",
      "New:1\n",
      "Python:5\n",
      "Read:1\n",
      "and:1\n",
      "between:1\n",
      "choosing:1\n",
      "or:2\n",
      "to:1\n"
     ]
    }
   ],
   "source": [
    "#Question 2:\n",
    "'''Write a program to compute the frequency of the words from the input. The output\n",
    "should output after sorting the key alphanumerically.\n",
    "Suppose the following input is supplied to the program:\n",
    "New to Python or choosing between Python 2 and Python 3? Read Python 2 or\n",
    "Python 3.\n",
    "Then, the output should be:\n",
    "2:2\n",
    "3.:1\n",
    "3?:1\n",
    "New:1\n",
    "Python:5\n",
    "Read:1\n",
    "and:1\n",
    "between:1\n",
    "choosing:1\n",
    "or:2\n",
    "to:1 '''\n",
    "\n",
    "from collections import defaultdict\n",
    "\n",
    "input_str = \"New to Python or choosing between Python 2 and Python 3? Read Python 2 or Python 3.\"\n",
    "\n",
    "# split the input string into words\n",
    "words = input_str.split()\n",
    "\n",
    "# create a dictionary to store the frequency of each word\n",
    "freq_dict = defaultdict(int)\n",
    "\n",
    "# loop through each word and update its frequency\n",
    "for word in words:\n",
    "    freq_dict[word] += 1\n",
    "\n",
    "# sort the keys of the dictionary alphabetically\n",
    "sorted_keys = sorted(freq_dict.keys())\n",
    "\n",
    "# print the frequency of each word\n",
    "for key in sorted_keys:\n",
    "    print(f\"{key}:{freq_dict[key]}\")\n"
   ]
  },
  {
   "cell_type": "code",
   "execution_count": 5,
   "id": "6cdbb391",
   "metadata": {},
   "outputs": [
    {
     "name": "stdout",
     "output_type": "stream",
     "text": [
      "Unknown\n",
      "Male\n",
      "Female\n"
     ]
    }
   ],
   "source": [
    "#Question 3:\n",
    "'''Define a class Person and its two child classes: Male and Female. All classes have a\n",
    "method 'getGender' which can print 'Male'for Male class and 'Female' for Female\n",
    "class.'''\n",
    "\n",
    "class Person:\n",
    "    def getGender(self):\n",
    "        return \"Unknown\"\n",
    "\n",
    "class Male(Person):\n",
    "    def getGender(self):\n",
    "        return \"Male\"\n",
    "\n",
    "class Female(Person):\n",
    "    def getGender(self):\n",
    "        return \"Female\"\n",
    "person = Person()\n",
    "print(person.getGender()) \n",
    "\n",
    "male = Male()\n",
    "print(male.getGender()) \n",
    "\n",
    "female = Female()\n",
    "print(female.getGender()) \n"
   ]
  },
  {
   "cell_type": "code",
   "execution_count": 7,
   "id": "c15a8171",
   "metadata": {},
   "outputs": [
    {
     "name": "stdout",
     "output_type": "stream",
     "text": [
      "I Play Hockey\n",
      "I Play Football\n",
      "I Love Hockey\n",
      "I Love Football\n",
      "You Play Hockey\n",
      "You Play Football\n",
      "You Love Hockey\n",
      "You Love Football\n"
     ]
    }
   ],
   "source": [
    "#Question 4:\n",
    "'''Please write a program to generate all sentences where subject is in ['I','You'] and\n",
    "verb is in [\"Play\",\"Love\"] and the object is in [\"Hockey\",\"Football\"].    '''\n",
    "\n",
    "import itertools\n",
    "\n",
    "subjects = ['I', 'You']\n",
    "verbs = ['Play', 'Love']\n",
    "objects = ['Hockey', 'Football']\n",
    "\n",
    "sentences = [' '.join(x) for x in itertools.product(subjects, verbs, objects)]\n",
    "\n",
    "for sentence in sentences:\n",
    "    print(sentence)\n"
   ]
  },
  {
   "cell_type": "code",
   "execution_count": 8,
   "id": "ab79cf09",
   "metadata": {},
   "outputs": [
    {
     "name": "stdout",
     "output_type": "stream",
     "text": [
      "Compressed String:  b'x\\x9c\\xcbH\\xcd\\xc9\\xc9W(\\xcf/\\xcaIQ\\xcc \\xcc\\x06\\x00\\xabf\\x11\\xd4'\n",
      "Decompressed String:  hello world!hello world!hello world!hello world\n"
     ]
    }
   ],
   "source": [
    "#Question 5:\n",
    "'''Please write a program to compress and decompress the string \"hello world!hello\n",
    "world!hello world!hello world\".'''\n",
    "\n",
    "import zlib\n",
    "\n",
    "# the string to be compressed\n",
    "text = \"hello world!hello world!hello world!hello world\"\n",
    "\n",
    "# compress the string\n",
    "compressed = zlib.compress(text.encode())\n",
    "\n",
    "# print the compressed string\n",
    "print(\"Compressed String: \", compressed)\n",
    "\n",
    "# decompress the string\n",
    "decompressed = zlib.decompress(compressed)\n",
    "\n",
    "# print the decompressed string\n",
    "print(\"Decompressed String: \", decompressed.decode())\n"
   ]
  },
  {
   "cell_type": "code",
   "execution_count": 9,
   "id": "1bc53f02",
   "metadata": {},
   "outputs": [
    {
     "name": "stdout",
     "output_type": "stream",
     "text": [
      "Element is present at index 3\n"
     ]
    }
   ],
   "source": [
    "#Question 6:\n",
    "'''Please write a binary search function which searches an item in a sorted list. The\n",
    "function should return the index of element to be searched in the list.'''\n",
    "\n",
    "def binary_search(arr, x):\n",
    "    low = 0\n",
    "    high = len(arr) - 1\n",
    "    mid = 0\n",
    " \n",
    "    while low <= high:\n",
    "        mid = (high + low) // 2\n",
    " \n",
    "        if arr[mid] < x:\n",
    "            low = mid + 1\n",
    "        elif arr[mid] > x:\n",
    "            high = mid - 1\n",
    "        else:\n",
    "            return mid\n",
    " \n",
    "    return -1\n",
    "\n",
    "arr = [2, 3, 4, 10, 40]\n",
    "x = 10\n",
    "\n",
    "result = binary_search(arr, x)\n",
    "\n",
    "if result != -1:\n",
    "    print(\"Element is present at index\", str(result))\n",
    "else:\n",
    "    print(\"Element is not present in array\")\n"
   ]
  },
  {
   "cell_type": "code",
   "execution_count": null,
   "id": "f403139e",
   "metadata": {},
   "outputs": [],
   "source": []
  }
 ],
 "metadata": {
  "kernelspec": {
   "display_name": "Python 3 (ipykernel)",
   "language": "python",
   "name": "python3"
  },
  "language_info": {
   "codemirror_mode": {
    "name": "ipython",
    "version": 3
   },
   "file_extension": ".py",
   "mimetype": "text/x-python",
   "name": "python",
   "nbconvert_exporter": "python",
   "pygments_lexer": "ipython3",
   "version": "3.9.7"
  }
 },
 "nbformat": 4,
 "nbformat_minor": 5
}
