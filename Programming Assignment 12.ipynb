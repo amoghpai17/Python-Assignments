{
 "cells": [
  {
   "cell_type": "code",
   "execution_count": 4,
   "id": "8abd667b",
   "metadata": {},
   "outputs": [
    {
     "name": "stdout",
     "output_type": "stream",
     "text": [
      "{'value1', 'value2', 'value3'}\n"
     ]
    }
   ],
   "source": [
    "1. #Write a Python program to Extract Unique values dictionary values?\n",
    "\n",
    "def get_unique_values(d):\n",
    "    unique_values = set()\n",
    "    for value in d.values():\n",
    "        if isinstance(value, (list, set, tuple)):\n",
    "            unique_values.update(value)\n",
    "        else:\n",
    "            unique_values.add(value)\n",
    "    return unique_values\n",
    "\n",
    "# Example usage:\n",
    "my_dict = {'key1': 'value1', 'key2': ['value2', 'value3'], 'key3': 'value1'}\n",
    "unique_values = get_unique_values(my_dict)\n",
    "print(unique_values)\n"
   ]
  },
  {
   "cell_type": "code",
   "execution_count": 5,
   "id": "d18c30af",
   "metadata": {},
   "outputs": [
    {
     "name": "stdout",
     "output_type": "stream",
     "text": [
      "Sum of all values in the dictionary is: 100\n"
     ]
    }
   ],
   "source": [
    "2. #Write a Python program to find the sum of all items in a dictionary?\n",
    "\n",
    "# dictionary\n",
    "d = {'a': 10, 'b': 20, 'c': 30, 'd': 40}\n",
    "\n",
    "# calculate the sum of all values in the dictionary\n",
    "sum_of_values = sum(d.values())\n",
    "\n",
    "# print the sum\n",
    "print(\"Sum of all values in the dictionary is:\", sum_of_values)\n"
   ]
  },
  {
   "cell_type": "code",
   "execution_count": 7,
   "id": "6a51e36f",
   "metadata": {},
   "outputs": [
    {
     "name": "stdout",
     "output_type": "stream",
     "text": [
      "{'name': 'Jane', 'age': 30, 'city': 'New York', 'gender': 'female'}\n"
     ]
    }
   ],
   "source": [
    "3. #Write a Python program to Merging two Dictionaries?\n",
    "\n",
    "def merge_dicts(dict1, dict2):\n",
    "    \"\"\" Merge two dictionaries and return the merged result \"\"\"\n",
    "    result = dict1.copy()\n",
    "    result.update(dict2)\n",
    "    return result\n",
    "dict1 = {\"name\": \"John\", \"age\": 30, \"city\": \"New York\"}\n",
    "dict2 = {\"name\": \"Jane\", \"gender\": \"female\"}\n",
    "\n",
    "merged_dict = merge_dicts(dict1, dict2)\n",
    "print(merged_dict)\n"
   ]
  },
  {
   "cell_type": "code",
   "execution_count": 6,
   "id": "f19964c6",
   "metadata": {},
   "outputs": [
    {
     "name": "stdout",
     "output_type": "stream",
     "text": [
      "{'name': 'John', 'age': 30, 'address.street': '123 Main St', 'address.city': 'Anytown', 'address.state': 'CA', 'address.zip': '12345'}\n"
     ]
    }
   ],
   "source": [
    "4. #Write a Python program to convert key-values list to flat dictionary?\n",
    "\n",
    "def flatten_dict(items):\n",
    "    \"\"\" Convert a list of key-value pairs to a flat dictionary \"\"\"\n",
    "    result = {}\n",
    "    for key, value in items:\n",
    "        if isinstance(value, dict):\n",
    "            for sub_key, sub_value in value.items():\n",
    "                result[f\"{key}.{sub_key}\"] = sub_value\n",
    "        else:\n",
    "            result[key] = value\n",
    "    return result\n",
    "\n",
    "items = [\n",
    "    (\"name\", \"John\"),\n",
    "    (\"age\", 30),\n",
    "    (\"address\", {\n",
    "        \"street\": \"123 Main St\",\n",
    "        \"city\": \"Anytown\",\n",
    "        \"state\": \"CA\",\n",
    "        \"zip\": \"12345\"\n",
    "    })\n",
    "]\n",
    "\n",
    "flat_dict = flatten_dict(items)\n",
    "print(flat_dict)\n"
   ]
  },
  {
   "cell_type": "code",
   "execution_count": 8,
   "id": "4eb0959b",
   "metadata": {},
   "outputs": [
    {
     "name": "stdout",
     "output_type": "stream",
     "text": [
      "OrderedDict([('name', 'John'), ('age', 30), ('city', 'New York')])\n"
     ]
    }
   ],
   "source": [
    "5. #Write a Python program to insertion at the beginning in OrderedDict?\n",
    "\n",
    "from collections import OrderedDict\n",
    "\n",
    "def insert_at_beginning(odict, key, value):\n",
    "    \"\"\" Insert a new key-value pair at the beginning of an OrderedDict \"\"\"\n",
    "    odict.update(OrderedDict([(key, value)] + list(odict.items())))\n",
    "odict = OrderedDict({\"name\": \"John\", \"age\": 30})\n",
    "\n",
    "insert_at_beginning(odict, \"city\", \"New York\")\n",
    "print(odict)\n"
   ]
  },
  {
   "cell_type": "code",
   "execution_count": 11,
   "id": "3d683740",
   "metadata": {},
   "outputs": [
    {
     "name": "stdout",
     "output_type": "stream",
     "text": [
      "True\n"
     ]
    }
   ],
   "source": [
    "6. #Write a Python program to check order of character in string using OrderedDict()?\n",
    "\n",
    "from collections import OrderedDict\n",
    "\n",
    "def check_order(input_str, pattern):\n",
    "    \"\"\" Check if the characters in input_str follow the order in pattern \"\"\"\n",
    "    # Create an OrderedDict with the pattern characters as keys and None as values\n",
    "    pattern_dict = OrderedDict.fromkeys(pattern, None)\n",
    "    # Loop through the characters in the input string\n",
    "    for char in input_str:\n",
    "        # If the character is not in the pattern, skip it\n",
    "        if char not in pattern:\n",
    "            continue\n",
    "        # If the character is in the pattern, mark it as seen in the pattern_dict\n",
    "        pattern_dict[char] = True\n",
    "        # Check if all the characters in the pattern have been seen in the input string\n",
    "        if all(pattern_dict.values()):\n",
    "            return True\n",
    "    # If we've reached the end of the input string and not found all the characters in the pattern, return False\n",
    "    return False\n",
    "\n",
    "input_str = \"hello world\"\n",
    "pattern = \"oowd\"\n",
    "result = check_order(input_str, pattern)\n",
    "print(result)  \n"
   ]
  },
  {
   "cell_type": "code",
   "execution_count": 13,
   "id": "4203d7d5",
   "metadata": {},
   "outputs": [
    {
     "name": "stdout",
     "output_type": "stream",
     "text": [
      "{'a': 1, 'b': 2, 'c': 3}\n"
     ]
    }
   ],
   "source": [
    "7. #Write a Python program to sort Python Dictionaries by Key or Value?\n",
    "\n",
    "def sort_dict(input_dict, by_value=False):\n",
    "    \"\"\" Sort a dictionary by key or value \"\"\"\n",
    "    if by_value:\n",
    "        return dict(sorted(input_dict.items(), key=lambda item: item[1]))\n",
    "    else:\n",
    "        return dict(sorted(input_dict.items()))\n",
    "input_dict = {\"c\": 3, \"a\": 1, \"b\": 2}\n",
    "\n",
    "sorted_dict_by_key = sort_dict(input_dict)\n",
    "print(sorted_dict_by_key)  \n"
   ]
  },
  {
   "cell_type": "code",
   "execution_count": null,
   "id": "47615619",
   "metadata": {},
   "outputs": [],
   "source": []
  }
 ],
 "metadata": {
  "kernelspec": {
   "display_name": "Python 3 (ipykernel)",
   "language": "python",
   "name": "python3"
  },
  "language_info": {
   "codemirror_mode": {
    "name": "ipython",
    "version": 3
   },
   "file_extension": ".py",
   "mimetype": "text/x-python",
   "name": "python",
   "nbconvert_exporter": "python",
   "pygments_lexer": "ipython3",
   "version": "3.9.7"
  }
 },
 "nbformat": 4,
 "nbformat_minor": 5
}
