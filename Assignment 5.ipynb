{
 "cells": [
  {
   "cell_type": "markdown",
   "id": "787e5656",
   "metadata": {},
   "source": [
    "1.What does an empty dictionary's code look like?\n",
    "\n",
    "ANS-\n",
    "An empty dictionary can be created using a pair of curly braces {} or the built-in dict() function without any arguments."
   ]
  },
  {
   "cell_type": "markdown",
   "id": "a07a35e7",
   "metadata": {},
   "source": [
    "2.What is the value of a dictionary value with the key 'foo' and the value 42?\n",
    "\n",
    "ANS-\n",
    "If a dictionary has the key 'foo' with a value of 42, then the value of that dictionary's 'foo' key would be 42."
   ]
  },
  {
   "cell_type": "markdown",
   "id": "c0519d7d",
   "metadata": {},
   "source": [
    "3.What is the most significant distinction between a dictionary and a list?\n",
    "\n",
    "ANS-\n",
    "The most significant distinction between a dictionary and a list is how they store and access data.\n",
    "\n",
    "A list is an ordered collection of items that can be of any data type (e.g., numbers, strings, or other objects). The items are stored in a specific order, and each item can be accessed by its index (a numerical position) within the list. For example, the first item in a list has an index of 0, the second item has an index of 1, and so on.\n",
    "\n",
    "On the other hand, a dictionary is an unordered collection of key-value pairs. Each key in the dictionary is unique and associated with a value, which can be of any data type. Rather than accessing items in a dictionary by their position, you access them by their associated keys. For example, if you had a dictionary that represented a person, you could access the person's name by using the key \"name\"."
   ]
  },
  {
   "cell_type": "markdown",
   "id": "17b1692c",
   "metadata": {},
   "source": [
    "4.What happens if you try to access spam['foo'] if spam is {'bar': 100}?\n",
    "\n",
    "ANS-\n",
    "If you try to access spam['foo'] and spam is {'bar': 100}, a 'KeyError' will be raised, because the key 'foo' does not exist in the dictionary spam.\n"
   ]
  },
  {
   "cell_type": "markdown",
   "id": "282c20c6",
   "metadata": {},
   "source": [
    "5.If a dictionary is stored in spam, what is the difference between the expressions 'cat' in spam and\n",
    "'cat' in spam.keys()?\n",
    "\n",
    "ANS-\n",
    "'cat' in spam: This expression checks if the key 'cat' is present in the dictionary spam. If 'cat' is a key in the dictionary, this expression will evaluate to True. If 'cat' is not a key in the dictionary, the expression will evaluate to False. This expression is equivalent to using the in operator with a dictionary, which checks for the presence of a key, not a value.\n",
    "\n",
    "'cat' in spam.keys(): This expression checks if the key 'cat' is present in the list of keys for the dictionary spam. The keys() method returns a list of all the keys in the dictionary, and this expression checks if the key 'cat' is present in that list. If 'cat' is a key in the dictionary, this expression will evaluate to True. If 'cat' is not a key in the dictionary, the expression will evaluate to False. This expression is equivalent to using the in operator with a list, which checks for the presence of a value, not a key.\n"
   ]
  },
  {
   "cell_type": "markdown",
   "id": "74317e28",
   "metadata": {},
   "source": [
    "6.If a dictionary is stored in spam, what is the difference between the expressions 'cat' in spam and\n",
    "'cat' in spam.values()?\n",
    "\n",
    "ANS-\n",
    "'cat' in spam: This expression checks if the key 'cat' is present in the dictionary spam. If 'cat' is a key in the dictionary, this expression will evaluate to True. If 'cat' is not a key in the dictionary, the expression will evaluate to False. This expression checks for the presence of a key, not a value.\n",
    "\n",
    "'cat' in spam.values(): This expression checks if the value 'cat' is present in the dictionary spam. If 'cat' is a value in the dictionary, this expression will evaluate to True. If 'cat' is not a value in the dictionary, the expression will evaluate to False. This expression checks for the presence of a value, not a key.\n",
    "\n"
   ]
  },
  {
   "cell_type": "markdown",
   "id": "0e03ac0d",
   "metadata": {},
   "source": [
    "7.What is a shortcut for the following code?\n",
    "if color not in spam:\n",
    "spam['color'] = 'black'\n",
    "\n",
    "ANS-\n",
    "We can use the setdefault() method of the dictionary to set the value of a key if it doesn't exist in the dictionary. \n",
    "spam.setdefault('color', 'black')\n"
   ]
  },
  {
   "cell_type": "markdown",
   "id": "90752306",
   "metadata": {},
   "source": [
    "8.How do you \" pretty print\" dictionary values using which module and function?\n",
    "\n",
    "ANS-\n",
    "To \"pretty print\" dictionary values in Python, you can use the built-in pprint module, which provides a function called pprint (short for \"pretty print\") that formats complex data structures such as dictionaries, lists, and tuples in a more human-readable way.\n",
    "Eg-\n",
    "import pprint\n",
    "\n",
    "my_dict = {'name': 'John', 'age': 30, 'hobbies': ['reading', 'hiking', 'cooking']}\n",
    "\n",
    "pprint.pprint(my_dict)\n"
   ]
  }
 ],
 "metadata": {
  "kernelspec": {
   "display_name": "Python 3 (ipykernel)",
   "language": "python",
   "name": "python3"
  },
  "language_info": {
   "codemirror_mode": {
    "name": "ipython",
    "version": 3
   },
   "file_extension": ".py",
   "mimetype": "text/x-python",
   "name": "python",
   "nbconvert_exporter": "python",
   "pygments_lexer": "ipython3",
   "version": "3.9.7"
  }
 },
 "nbformat": 4,
 "nbformat_minor": 5
}
