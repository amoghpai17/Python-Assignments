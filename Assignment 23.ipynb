{
 "cells": [
  {
   "cell_type": "markdown",
   "id": "abacb2ce",
   "metadata": {},
   "source": [
    "1.What is the result of the code, and why?\n",
    "\n",
    "def func(a, b=6, c=8):\n",
    "print(a, b, c)\n",
    "func(1, 2)\n",
    "\n",
    "ANS-\n",
    "The code defines a function func that takes three parameters a, b, and c, with default values of 6 and 8 for the b and c parameters, respectively. The func function then prints the values of a, b, and c.\n",
    "When the func function is called with the arguments (1, 2), the value 1 is assigned to the first parameter a, the value 2 is assigned to the second parameter b, and the default value of 8 is assigned to the third parameter c, since it was not provided in the function call.\n",
    "Therefore, the output of the func(1, 2) call will be:  1 2 8"
   ]
  },
  {
   "cell_type": "markdown",
   "id": "cfdecb3e",
   "metadata": {},
   "source": [
    "2.What is the result of this code, and why?\n",
    "\n",
    "def func(a, b, c=5):\n",
    "print(a, b, c)\n",
    "func(1, c=3, b=2)\n",
    "\n",
    "ANS-\n",
    "The code defines a function func that takes three parameters a, b, and c, with a default value of 5 for the c parameter. The func function then prints the values of a, b, and c.\n",
    "When the func function is called with the arguments (1, c=3, b=2), the value 1 is assigned to the first parameter a, the value 2 is assigned to the second parameter b, and the value 3 is assigned to the third parameter c, since it was explicitly provided in the function call.\n",
    "Therefore, the output of the func(1, c=3, b=2) call will be: 1 2 3\n"
   ]
  },
  {
   "cell_type": "markdown",
   "id": "9d273049",
   "metadata": {},
   "source": [
    "3.How about this code: what is its result, and why?\n",
    "\n",
    "def func(a, *pargs):\n",
    "print(a, pargs)\n",
    "func(1, 2, 3)\n",
    "\n",
    "ANS-\n",
    "he code defines a function func that takes a mandatory parameter a and a variable number of positional arguments *pargs. The func function then prints the values of a and pargs.\n",
    "When the func function is called with the arguments (1, 2, 3), the value 1 is assigned to the mandatory parameter a, and the values (2, 3) are collected into the pargs tuple.\n",
    "Therefore, the output of the func(1, 2, 3) call will be:  1 (2, 3)\n"
   ]
  },
  {
   "cell_type": "markdown",
   "id": "90b2b9dd",
   "metadata": {},
   "source": [
    "4.What does this code print, and why?\n",
    "\n",
    "def func(a, **kargs):\n",
    "print(a, kargs)\n",
    "func(a=1, c=3, b=2)\n",
    "\n",
    "ANS-\n",
    "The code defines a function func that takes a mandatory parameter a and a variable number of keyword arguments **kargs. The func function then prints the values of a and kargs.\n",
    "When the func function is called with the keyword arguments a=1, c=3, and b=2, the value 1 is assigned to the mandatory parameter a, and the keyword arguments c=3 and b=2 are collected into the kargs dictionary.\n",
    "Therefore, the output of the func(a=1, c=3, b=2) call will be:   1 {'c': 3, 'b': 2}\n"
   ]
  },
  {
   "cell_type": "markdown",
   "id": "fc4f9057",
   "metadata": {},
   "source": [
    "5.What gets printed by this, and explain?\n",
    "\n",
    "def func(a, b, c=8, d=5): print(a, b, c, d)\n",
    "func(1, *(5, 6))\n",
    "\n",
    "ANS-\n",
    "The code defines a function func that takes four parameters a, b, c, and d, with default values of 8 and 5 for the c and d parameters, respectively. The func function then prints the values of a, b, c, and d.\n",
    "When the func function is called with the arguments (1, *(5, 6)), the value 1 is assigned to the first parameter a, the value 5 is assigned to the second parameter b, and the remaining arguments (6,) are collected into the *args parameter. Since there are no positional arguments left to assign to the c and d parameters, the default values of 8 and 5 are used for them.\n",
    "Therefore, the output of the func(1, *(5, 6)) call will be:  1 5 8 5"
   ]
  },
  {
   "cell_type": "markdown",
   "id": "3ccc97e9",
   "metadata": {},
   "source": [
    "6.what is the result of this, and explain?\n",
    "\n",
    "def func(a, b, c): a = 2; b[0] = 'x' c['a'] ='y'\n",
    "l=1; m=[1]; n={'a':0}\n",
    "func(l, m, n)\n",
    "\n",
    "ANS-\n",
    "The code defines a function func that takes three parameters a, b, and c. Inside the function, the value of a is set to 2, the first element of b is set to 'x', and a new key-value pair ('a', 'y') is added to the dictionary c.\n",
    "\n",
    "When the function is called with the arguments l=1, m=[1], and n={'a':0}, the value of l is bound to the parameter a, the value of m is bound to the parameter b, and the value of n is bound to the parameter c. Since m and n are mutable objects (a list and a dictionary, respectively), any changes made to them inside the function will be visible outside the function.\n",
    "\n",
    "Therefore, after the function call, the values of l, m, and n will be:\n",
    "\n",
    "1 - l: 1 (unchanged, since it is an immutable object)\n",
    "2 - m: ['x'] (the first element of the list m is changed to 'x')\n",
    "3 - n: {'a': 'y'} (a new key-value pair ('a', 'y') is added to the dictionary n)"
   ]
  }
 ],
 "metadata": {
  "kernelspec": {
   "display_name": "Python 3 (ipykernel)",
   "language": "python",
   "name": "python3"
  },
  "language_info": {
   "codemirror_mode": {
    "name": "ipython",
    "version": 3
   },
   "file_extension": ".py",
   "mimetype": "text/x-python",
   "name": "python",
   "nbconvert_exporter": "python",
   "pygments_lexer": "ipython3",
   "version": "3.9.7"
  }
 },
 "nbformat": 4,
 "nbformat_minor": 5
}
