{
 "cells": [
  {
   "cell_type": "markdown",
   "id": "08417a48",
   "metadata": {},
   "source": [
    "Q1. Define the relationship between a class and its instances. Is it a one-to-one or a one-to-many\n",
    "partnership, for example?\n",
    "\n",
    "ANS-\n",
    "A class is a blueprint or template that defines the properties and behavior of a type of object. An instance, on the other hand, is an individual object created from that class.\n",
    "\n",
    "The relationship between a class and its instances is a one-to-many partnership, also known as a one-to-unknown relationship. This is because a class can have many instances, each with its own unique set of properties and behaviors. When a new instance is created, it is distinct from all other instances of the same class and can have its own values for the instance variables defined in the class."
   ]
  },
  {
   "cell_type": "markdown",
   "id": "c54c1139",
   "metadata": {},
   "source": [
    "Q2. What kind of data is held only in an instance?\n",
    "\n",
    "ANS-\n",
    "Instance variables are data that is held only in an instance, and not in the class itself. They are created when a new instance of a class is created, and their values can be set or accessed through the instance methods or directly through the instance itself.\n",
    "\n",
    "Instance variables can hold any type of data, including primitive types like integers, floating-point numbers, and Boolean values, as well as more complex types like strings, arrays, and objects. The specific instance variables that are defined in a class and their data types depend on the requirements of the class and the objects that will be created from it."
   ]
  },
  {
   "cell_type": "markdown",
   "id": "6e8705a7",
   "metadata": {},
   "source": [
    "Q3. What kind of knowledge is stored in a class?\n",
    "\n",
    "ANS-\n",
    "The knowledge stored in a class includes:\n",
    "\n",
    "1 - Properties: A class defines the properties or attributes of objects created from that class. These properties may include data types such as strings, integers, or Boolean values.\n",
    "\n",
    "2 - Methods: A class defines the behavior or methods of objects created from that class. These methods may include functions that perform calculations or operations on the object's properties.\n",
    "\n",
    "3 - Relationships: A class can define relationships between objects created from that class and other objects. For example, a class representing a bank account might have a relationship with a class representing a customer, as a customer can have multiple accounts.\n",
    "\n",
    "4 - Inheritance: A class can inherit properties, methods, and relationships from a parent class. This allows for code reuse and can help to organize related classes into a hierarchy.\n",
    "\n",
    "5 - Visibility: A class can specify the visibility of its properties and methods, indicating which are accessible to other classes and which are not."
   ]
  },
  {
   "cell_type": "markdown",
   "id": "16c3f4fb",
   "metadata": {},
   "source": [
    "Q4. What exactly is a method, and how is it different from a regular function?\n",
    "\n",
    "ANS-\n",
    "A method is a function that is associated with an object or class. A method can be called on an instance of a class, and it has access to the data and properties of that instance.\n",
    "\n",
    "The main differences between a method and a regular function are:\n",
    "\n",
    "1 - Associated with an object or class: A method is associated with an object or class, and it can access the data and properties of that object or class. In contrast, a regular function is not associated with any object or class.\n",
    "\n",
    "2 - Access control: A method can have different access control levels, such as public, private, or protected, that determine whether it can be called from outside the class or object. A regular function does not have access control levels.\n",
    "\n",
    "3 - Inheritance: Methods can be inherited by child classes from parent classes. This allows for code reuse and helps to organize related classes into a hierarchy. Regular functions cannot be inherited.\n",
    "\n",
    "4 - Polymorphism: Methods can be overridden in child classes, allowing for different implementations of the same method in different classes. This is not possible with regular functions.\n",
    "\n"
   ]
  },
  {
   "cell_type": "markdown",
   "id": "cf63f1ec",
   "metadata": {},
   "source": [
    "Q5. Is inheritance supported in Python, and if so, what is the syntax?\n",
    "\n",
    "ANS-\n",
    "Yes, inheritance is supported in Python. Inheritance is the mechanism by which a new class is created from an existing class, inheriting all the properties and methods of the existing class, and then adding new or modifying existing properties and methods.\n",
    "\n",
    "In Python, the syntax for inheritance is -\n",
    "\n",
    "class ChildClass(ParentClass):\n",
    "    "
   ]
  },
  {
   "cell_type": "markdown",
   "id": "dc67a828",
   "metadata": {},
   "source": [
    "Q6. How much encapsulation (making instance or class variables private) does Python support?\n",
    "\n",
    "ANS-\n",
    "In Python, encapsulation is supported through the use of access modifiers, specifically the private and protected access modifiers. However, unlike some other object-oriented languages, Python does not provide strict enforcement of access modifiers.\n",
    "\n",
    "In Python, we can use a single underscore (_) prefix to indicate that a class variable or method is intended to be protected or private, respectively. This convention is widely used and serves as a hint to other developers that the variable or method should not be accessed or modified directly."
   ]
  },
  {
   "cell_type": "markdown",
   "id": "86ab44b0",
   "metadata": {},
   "source": [
    "Q7. How do you distinguish between a class variable and an instance variable?\n",
    "\n",
    "ANS-\n",
    "In Python, a class variable is a variable that is shared by all instances of a class, whereas an instance variable is a variable that is unique to each instance of a class."
   ]
  },
  {
   "cell_type": "markdown",
   "id": "9bd2054d",
   "metadata": {},
   "source": [
    "Q8. When, if ever, can self be included in a class's method definitions?\n",
    "\n",
    "ANS-\n",
    "In Python, self is included in a class's method definitions as the first parameter in order to refer to the instance of the class that the method is being called on.\n",
    "\n",
    "self is a reference to the instance of the class, and it is used to access instance variables and other instance methods. When a method is called on an instance of a class, self is automatically passed as the first argument to the method, so that the method can access the instance's attributes.\n",
    "\n"
   ]
  },
  {
   "cell_type": "markdown",
   "id": "9ec2b57f",
   "metadata": {},
   "source": [
    "Q9. What is the difference between the _ _add_ _ and the _ _radd_ _ methods?\n",
    "\n",
    "ANS-\n",
    "The __add__ method is called when the addition operator is used with an object of the class as the left operand. The __radd__ method is called when the addition operator is used with an object of the class as the right operand."
   ]
  },
  {
   "cell_type": "markdown",
   "id": "a3d9e7b2",
   "metadata": {},
   "source": [
    "Q10. When is it necessary to use a reflection method? When do you not need it, even though you\n",
    "support the operation in question?\n",
    "\n",
    "ANS-\n",
    "Reflection methods are used to dynamically access the attributes and methods of an object. The most commonly used reflection methods are getattr, setattr, and hasattr.\n",
    "\n",
    "It is necessary to use reflection methods when you need to dynamically access the attributes and methods of an object. For example, if you are building a generic function that needs to work with different types of objects, you may need to use getattr to access specific attributes of those objects."
   ]
  },
  {
   "cell_type": "markdown",
   "id": "90a1fc39",
   "metadata": {},
   "source": [
    "Q11. What is the _ _iadd_ _ method called?\n",
    "\n",
    "ANS-\n",
    "The __iadd__ method is called the \"in-place addition\" method in Python. It is used to implement the += operator for a custom object.\n",
    "\n",
    "When you use the += operator with an object, Python first tries to call the object's __iadd__ method. If this method is defined, it should modify the object in place and return the modified object. If __iadd__ is not defined, Python falls back to using the regular __add__ method and assigns the result back to the original object.\n",
    "\n"
   ]
  },
  {
   "cell_type": "markdown",
   "id": "f280ede9",
   "metadata": {},
   "source": [
    "Q12. Is the _ _init_ _ method inherited by subclasses? What do you do if you need to customize its\n",
    "behavior within a subclass?\n",
    "\n",
    "ANS-\n",
    "Yes, the __init__ method is inherited by subclasses in Python. If you need to customize the behavior of the __init__ method in a subclass, you can override the method in the subclass and implement the desired behavior.\n",
    "\n",
    "To override the __init__ method, you define a new __init__ method in the subclass and define the additional attributes or behavior that you want to add to the subclass. Within the new __init__ method, you can call the __init__ method of the parent class to initialize any attributes from the parent class, and then add any additional attributes specific to the subclass."
   ]
  }
 ],
 "metadata": {
  "kernelspec": {
   "display_name": "Python 3 (ipykernel)",
   "language": "python",
   "name": "python3"
  },
  "language_info": {
   "codemirror_mode": {
    "name": "ipython",
    "version": 3
   },
   "file_extension": ".py",
   "mimetype": "text/x-python",
   "name": "python",
   "nbconvert_exporter": "python",
   "pygments_lexer": "ipython3",
   "version": "3.9.7"
  }
 },
 "nbformat": 4,
 "nbformat_minor": 5
}
