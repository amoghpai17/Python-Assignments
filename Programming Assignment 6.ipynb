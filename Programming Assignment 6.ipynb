{
 "cells": [
  {
   "cell_type": "code",
   "execution_count": 1,
   "id": "5df3ae00",
   "metadata": {},
   "outputs": [
    {
     "name": "stdout",
     "output_type": "stream",
     "text": [
      "How many terms do you want to display? 3\n",
      "Fibonacci sequence:\n",
      "0\n",
      "1\n",
      "1\n"
     ]
    }
   ],
   "source": [
    "1. #Write a Python Program to Display Fibonacci Sequence Using Recursion?\n",
    "\n",
    "def fibonacci(n):\n",
    "    \"\"\"Returns the nth number in the Fibonacci sequence using recursion\"\"\"\n",
    "    if n <= 1:\n",
    "        return n\n",
    "    else:\n",
    "        return (fibonacci(n-1) + fibonacci(n-2))\n",
    "\n",
    "# Prompt the user to enter the number of terms in the sequence\n",
    "nterms = int(input(\"How many terms do you want to display? \"))\n",
    "\n",
    "# Check if the input is valid\n",
    "if nterms <= 0:\n",
    "    print(\"Please enter a positive integer.\")\n",
    "else:\n",
    "    print(\"Fibonacci sequence:\")\n",
    "    for i in range(nterms):\n",
    "        print(fibonacci(i))\n"
   ]
  },
  {
   "cell_type": "code",
   "execution_count": 2,
   "id": "099c0b6b",
   "metadata": {},
   "outputs": [
    {
     "name": "stdout",
     "output_type": "stream",
     "text": [
      "Enter a positive integer: 5\n",
      "Factorial of 5 is 120\n"
     ]
    }
   ],
   "source": [
    "2. #Write a Python Program to Find Factorial of Number Using Recursion?\n",
    "\n",
    "def factorial(n):\n",
    "    \"\"\"Returns the factorial of a number using recursion\"\"\"\n",
    "    if n == 1:\n",
    "        return 1\n",
    "    else:\n",
    "        return n * factorial(n-1)\n",
    "\n",
    "# Prompt the user to enter a number\n",
    "num = int(input(\"Enter a positive integer: \"))\n",
    "\n",
    "# Check if the input is valid\n",
    "if num < 1:\n",
    "    print(\"Please enter a positive integer.\")\n",
    "else:\n",
    "    print(\"Factorial of\", num, \"is\", factorial(num))\n"
   ]
  },
  {
   "cell_type": "code",
   "execution_count": 3,
   "id": "3592eb81",
   "metadata": {},
   "outputs": [
    {
     "name": "stdout",
     "output_type": "stream",
     "text": [
      "Enter your height in meters: 1.71\n",
      "Enter your weight in kilograms: 78\n",
      "Your Body Mass Index (BMI) is:  26.67\n"
     ]
    }
   ],
   "source": [
    "3. #Write a Python Program to calculate your Body Mass Index?\n",
    "\n",
    "# BMI calculator\n",
    "height = float(input(\"Enter your height in meters: \"))\n",
    "weight = float(input(\"Enter your weight in kilograms: \"))\n",
    "\n",
    "bmi = weight / (height ** 2)\n",
    "\n",
    "print(\"Your Body Mass Index (BMI) is: \", round(bmi, 2))\n"
   ]
  },
  {
   "cell_type": "code",
   "execution_count": 4,
   "id": "7b1a0529",
   "metadata": {},
   "outputs": [
    {
     "name": "stdout",
     "output_type": "stream",
     "text": [
      "Enter a number: 100\n",
      "The natural logarithm of 100.0 is 4.605170185988092\n"
     ]
    }
   ],
   "source": [
    "4. #Write a Python Program to calculate the natural logarithm of any number?\n",
    "\n",
    "import math\n",
    "\n",
    "# Take user input\n",
    "x = float(input(\"Enter a number: \"))\n",
    "\n",
    "# Calculate natural logarithm\n",
    "result = math.log(x)\n",
    "\n",
    "# Display result\n",
    "print(\"The natural logarithm of\", x, \"is\", result)\n"
   ]
  },
  {
   "cell_type": "code",
   "execution_count": 5,
   "id": "f29792a2",
   "metadata": {},
   "outputs": [
    {
     "name": "stdout",
     "output_type": "stream",
     "text": [
      "Enter a positive integer: 6\n",
      "The cube sum of the first 6 natural numbers is 441\n"
     ]
    }
   ],
   "source": [
    "5. #Write a Python Program for cube sum of first n natural numbers?\n",
    "\n",
    "# Take user input\n",
    "n = int(input(\"Enter a positive integer: \"))\n",
    "\n",
    "# Calculate cube sum\n",
    "cube_sum = 0\n",
    "for i in range(1, n+1):\n",
    "    cube_sum += i**3\n",
    "\n",
    "# Display result\n",
    "print(\"The cube sum of the first\", n, \"natural numbers is\", cube_sum)\n"
   ]
  },
  {
   "cell_type": "code",
   "execution_count": null,
   "id": "fe5de47d",
   "metadata": {},
   "outputs": [],
   "source": []
  }
 ],
 "metadata": {
  "kernelspec": {
   "display_name": "Python 3 (ipykernel)",
   "language": "python",
   "name": "python3"
  },
  "language_info": {
   "codemirror_mode": {
    "name": "ipython",
    "version": 3
   },
   "file_extension": ".py",
   "mimetype": "text/x-python",
   "name": "python",
   "nbconvert_exporter": "python",
   "pygments_lexer": "ipython3",
   "version": "3.9.7"
  }
 },
 "nbformat": 4,
 "nbformat_minor": 5
}
