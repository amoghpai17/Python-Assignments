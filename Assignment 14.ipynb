{
 "cells": [
  {
   "cell_type": "markdown",
   "id": "ccbbaca1",
   "metadata": {},
   "source": [
    "1.What does RGBA stand for?\n",
    "\n",
    "ANS-\n",
    "RGBA stands for Red, Green, Blue, and Alpha. "
   ]
  },
  {
   "cell_type": "markdown",
   "id": "d6db4752",
   "metadata": {},
   "source": [
    "2.From the Pillow module, how do you get the RGBA value of any images?\n",
    "\n",
    "ANS-\n",
    "To get the RGBA (red-green-blue-alpha) value of any image using the Pillow module, you can use the getpixel() method of the Image object."
   ]
  },
  {
   "cell_type": "markdown",
   "id": "957e95f9",
   "metadata": {},
   "source": [
    "3.What is a box tuple, and how does it work?\n",
    "\n",
    "ANS-\n",
    "The box. tuple submodule provides read-only access for the tuple userdata type. It allows, for a single tuple: selective retrieval of the field contents, retrieval of information about size, iteration over all the fields, and conversion to a Lua table."
   ]
  },
  {
   "cell_type": "markdown",
   "id": "de633074",
   "metadata": {},
   "source": [
    "4.Use your image and load in notebook then, How can you find out the width and height of an\n",
    "Image object?\n",
    "\n",
    "ANS-\n",
    "1 - First, you need to import the necessary libraries. For image manipulation, you can use the Pillow library (Python Imaging Library) which can be installed using pip:\n",
    "\n",
    "2 - Next, you need to open the image using the Image.open() method and assign it to a variable. For example, if the image is located in the same directory as your notebook\n",
    "\n",
    "3 - Once you have the image object, you can use the size attribute to get a tuple containing the width and height of the image in pixels.\n",
    "\n",
    "4 - Finally, you can print the width and height values"
   ]
  },
  {
   "cell_type": "markdown",
   "id": "51bbef86",
   "metadata": {},
   "source": [
    "5.What method would you call to get Image object for a 100×100 image, excluding the lower-left\n",
    "quarter of it?\n",
    "\n",
    "ANS-\n",
    "\n",
    "To get an Image object for a 100x100 image, excluding the lower-left quarter of it, you can use the crop() method"
   ]
  },
  {
   "cell_type": "markdown",
   "id": "21382b1d",
   "metadata": {},
   "source": [
    "6.After making changes to an Image object, how could you save it as an image file?\n",
    "\n",
    "ANS-\n",
    "After making changes to an Image object using the Python Imaging Library (Pillow), you can save it as an image file using the save() method. "
   ]
  },
  {
   "cell_type": "markdown",
   "id": "dca1fa54",
   "metadata": {},
   "source": [
    "7.What module contains Pillow’s shape-drawing code?\n",
    "\n",
    "ANS-\n",
    "Pillow is a fork of the Python Imaging Library (PIL) and provides a module called ImageDraw for shape-drawing code."
   ]
  },
  {
   "cell_type": "markdown",
   "id": "fa3d3b89",
   "metadata": {},
   "source": [
    "8.Image objects do not have drawing methods. What kind of object does? How do you get this kind\n",
    "of object?\n",
    "\n",
    "ANS-\n",
    "Image objects themselves do not have drawing methods. Instead, shape-drawing methods are provided by the ImageDraw module of Pillow.\n",
    "\n",
    "To use the drawing methods, you need to create an ImageDraw object that is associated with an Image object. You can create an ImageDraw object by calling the ImageDraw.Draw() function and passing in an Image object as an argument."
   ]
  }
 ],
 "metadata": {
  "kernelspec": {
   "display_name": "Python 3 (ipykernel)",
   "language": "python",
   "name": "python3"
  },
  "language_info": {
   "codemirror_mode": {
    "name": "ipython",
    "version": 3
   },
   "file_extension": ".py",
   "mimetype": "text/x-python",
   "name": "python",
   "nbconvert_exporter": "python",
   "pygments_lexer": "ipython3",
   "version": "3.9.7"
  }
 },
 "nbformat": 4,
 "nbformat_minor": 5
}
