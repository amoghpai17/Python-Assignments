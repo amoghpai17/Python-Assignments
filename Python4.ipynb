{
 "cells": [
  {
   "cell_type": "markdown",
   "id": "dd978668",
   "metadata": {},
   "source": [
    "Q1. Which two operator overloading methods can you use in your classes to support iteration?\n",
    "\n",
    "ANS-\n",
    "To support iteration in a custom class in Python, we can use the following two operator overloading methods:\n",
    "\n",
    "1 - __iter__: This method returns an iterator object and is called when an iteration starts. It should return an object that implements the __next__ method.\n",
    "\n",
    "2 - __next__: This method returns the next value from the iterator. It should raise a StopIteration exception when there are no more items to return."
   ]
  },
  {
   "cell_type": "markdown",
   "id": "d3af0091",
   "metadata": {},
   "source": [
    "Q2. In what contexts do the two operator overloading methods manage printing?\n",
    "\n",
    "ANS-\n",
    "1 - __str__: This method is used to return a string representation of the object. It is called when str() is called on the object or when the object is used in a string context, such as with string concatenation or string formatting. The string returned by __str__ should be a human-readable representation of the object.\n",
    "\n",
    "2 - __repr__: This method is used to return a string representation of the object that can be used to recreate the object. It is called when repr() is called on the object or when the object is displayed in the interactive console. The string returned by __repr__ should be a complete representation of the object that can be used to create a new instance of the object with the same state."
   ]
  },
  {
   "cell_type": "markdown",
   "id": "0971bcd3",
   "metadata": {},
   "source": [
    "Q3. In a class, how do you intercept slice operations?\n",
    "\n",
    "ANS-\n",
    "We can intercept slice operations in a class by defining the __getitem__ method with a slice object as its argument.\n",
    "\n",
    "The __getitem__ method is called when an object is accessed using the square bracket notation with an argument that represents a slice. The slice object has three attributes: start, stop, and step, which represent the start index, stop index, and step size of the slice, respectively."
   ]
  },
  {
   "cell_type": "markdown",
   "id": "13ab401e",
   "metadata": {},
   "source": [
    "Q4. In a class, how do you capture in-place addition?\n",
    "\n",
    "ANS-\n",
    "We can capture in-place addition in a class by defining the __iadd__ method. This method is called when the += operator is used with an instance of your class."
   ]
  },
  {
   "cell_type": "markdown",
   "id": "e51a1e2a",
   "metadata": {},
   "source": [
    "Q5. When is it appropriate to use operator overloading?\n",
    "\n",
    "ANS-\n",
    "Operator overloading is appropriate when you want to customize the behavior of built-in Python operators for instances of your own custom classes. "
   ]
  }
 ],
 "metadata": {
  "kernelspec": {
   "display_name": "Python 3 (ipykernel)",
   "language": "python",
   "name": "python3"
  },
  "language_info": {
   "codemirror_mode": {
    "name": "ipython",
    "version": 3
   },
   "file_extension": ".py",
   "mimetype": "text/x-python",
   "name": "python",
   "nbconvert_exporter": "python",
   "pygments_lexer": "ipython3",
   "version": "3.9.7"
  }
 },
 "nbformat": 4,
 "nbformat_minor": 5
}
