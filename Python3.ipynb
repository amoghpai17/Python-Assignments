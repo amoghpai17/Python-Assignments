{
 "cells": [
  {
   "cell_type": "markdown",
   "id": "dc65f687",
   "metadata": {},
   "source": [
    "1.What is the concept of an abstract superclass?\n",
    "\n",
    "ANS-\n",
    "In object-oriented programming, an abstract superclass is a class that provides a general template for its subclasses to follow. It is a class that is designed to be inherited by other classes, but cannot be instantiated on its own because it contains one or more abstract methods that must be implemented by its concrete subclasses.\n",
    "\n",
    "An abstract superclass defines a set of common attributes and behaviors that are shared by its subclasses. It typically provides default implementations of some methods, and leaves others to be implemented by its concrete subclasses. This allows for code reuse and promotes consistency among related classes."
   ]
  },
  {
   "cell_type": "markdown",
   "id": "a1baf163",
   "metadata": {},
   "source": [
    "2.What happens when a class statement's top level contains a basic assignment statement?\n",
    "\n",
    "ANS-\n",
    "When a class statement's top level contains a basic assignment statement, the assignment statement creates a class-level variable or attribute that is shared by all instances of the class."
   ]
  },
  {
   "cell_type": "markdown",
   "id": "448b493e",
   "metadata": {},
   "source": [
    "3.Why does a class need to manually call a superclass's __init__ method?\n",
    "\n",
    "ANS-\n",
    "A class needs to manually call a superclass's __init__ method to ensure that the initialization code defined in the superclass is executed properly. The __init__ method is a special method that is called when an object of a class is created. It initializes the attributes and state of the object.\n",
    "\n",
    "When a class inherits from a superclass, it inherits the attributes and methods of the superclass. However, the subclass may have its own attributes and methods that need to be initialized as well. In order to do this, the subclass needs to call the __init__ method of the superclass to ensure that the initialization code defined in the superclass is executed."
   ]
  },
  {
   "cell_type": "markdown",
   "id": "e7149fa3",
   "metadata": {},
   "source": [
    "4.How can you augment, instead of completely replacing, an inherited method?\n",
    "\n",
    "ANS-\n",
    "We can augment an inherited method instead of completely replacing it by calling the superclass's implementation of the method using the super() function. The super() function returns a temporary object of the superclass that allows you to call its methods.\n",
    "\n",
    "To augment an inherited method, you can follow these steps:\n",
    "\n",
    "1 - Define the method in the subclass with the same name as the method in the superclass.\n",
    "2 - Call the superclass's implementation of the method using super().\n",
    "3 - Add any additional code to the method that you want to augment the superclass's implementation."
   ]
  },
  {
   "cell_type": "markdown",
   "id": "81506120",
   "metadata": {},
   "source": [
    "5.How is the local scope of a class different from that of a function?\n",
    "\n",
    "ANS-\n",
    "In a function, the local scope is created when the function is called and is destroyed when the function returns. The local scope includes any variables defined within the function, as well as any parameters passed to the function. Variables defined within the function are not visible outside of the function.\n",
    "\n",
    "In contrast, the local scope of a class is created when the class is defined and is available throughout the class definition, including in any methods defined within the class. Variables defined within the class definition are class-level variables or attributes, and are shared by all instances of the class. However, these variables are not visible outside of the class definition."
   ]
  }
 ],
 "metadata": {
  "kernelspec": {
   "display_name": "Python 3 (ipykernel)",
   "language": "python",
   "name": "python3"
  },
  "language_info": {
   "codemirror_mode": {
    "name": "ipython",
    "version": 3
   },
   "file_extension": ".py",
   "mimetype": "text/x-python",
   "name": "python",
   "nbconvert_exporter": "python",
   "pygments_lexer": "ipython3",
   "version": "3.9.7"
  }
 },
 "nbformat": 4,
 "nbformat_minor": 5
}
