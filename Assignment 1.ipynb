{
 "cells": [
  {
   "cell_type": "markdown",
   "id": "7c5bfa61",
   "metadata": {},
   "source": [
    "1. In the below elements which of them are values or an expression? eg:- values can be\n",
    "integer or string and expressions will be mathematical operators.\n",
    "ANS-\n",
    "*  - Expressions\n",
    "-87.8  - Values \n",
    "-  Expressions\n",
    "/  Expressions\n",
    "+  Expressions\n",
    "6  Values"
   ]
  },
  {
   "cell_type": "markdown",
   "id": "ebd5aaec",
   "metadata": {},
   "source": [
    "2. What is the difference between string and variable?\n",
    "ANS- The difference between a string and a variable is that a string is a type of data that represents a sequence of characters, while a variable is a named storage location that can hold a value of any data type, including strings. In other words, a string is a specific type of data, while a variable is a general concept for storing data. A variable can hold a string value, but it can also hold other types of values.\n"
   ]
  },
  {
   "cell_type": "markdown",
   "id": "9737b846",
   "metadata": {},
   "source": [
    "3. Describe three different data types.\n",
    "ANS-\n",
    "Integer- An integer is a data type that represents whole numbers (positive, negative, or zero) that do not contain a fractional part. For example, 5, -12, and 0 are all integers.\n",
    "\n",
    "Floating-point: A floating-point data type represents decimal numbers, including those with fractional parts.\n",
    "\n",
    "String: A string is a data type that represents a sequence of characters. It is used to store text, which can include letters, numbers, and symbols. Strings are typically enclosed in quotes, either single quotes (' ') or double quotes (\" \"). For example, \"hello world\" and '1234' are both strings."
   ]
  },
  {
   "cell_type": "markdown",
   "id": "9b0635ba",
   "metadata": {},
   "source": [
    "4. What is an expression made up of? What do all expressions do?\n",
    "ANS-\n",
    "An expression is a combination of one or more values, variables, operators and functions that can be evaluated to produce a result. \n",
    "An expression can be made up of-\n",
    "1-Values\n",
    "2-Operators\n",
    "3-Functions\n"
   ]
  },
  {
   "cell_type": "markdown",
   "id": "bbb7a712",
   "metadata": {},
   "source": [
    "5. This assignment statements, like spam = 10. What is the difference between an\n",
    "expression and a statement?\n",
    "ANS-\n",
    "The difference between expressions and statements is that an expression evaluates to a value, whereas a statement does not. A statement may include expressions as part of its execution, but it itself does not have a value.\n"
   ]
  },
  {
   "cell_type": "markdown",
   "id": "df35a349",
   "metadata": {},
   "source": [
    "6. After running the following code, what does the variable bacon contain?\n",
    "bacon = 22\n",
    "bacon + 1\n",
    "ANS-\n",
    "23"
   ]
  },
  {
   "cell_type": "markdown",
   "id": "5721fb3d",
   "metadata": {},
   "source": [
    "7. What should the values of the following two terms be?\n",
    "ANS_\n",
    "'spam'+'spamspam' - 'spamspamspam'\n",
    "'spam'*3 -'spamspamspam'"
   ]
  },
  {
   "cell_type": "markdown",
   "id": "0f4e1d52",
   "metadata": {},
   "source": [
    "8. Why is eggs a valid variable name while 100 is invalid?\n",
    "ANS-\n",
    "\"eggs\" is a valid variable name because it starts with a letter and includes only letters. On the other hand, \"100\" is an invalid variable name because it starts with a digit, which is not allowed."
   ]
  },
  {
   "cell_type": "markdown",
   "id": "d7e6acbd",
   "metadata": {},
   "source": [
    "9. What three functions can be used to get the integer, floating-point number, or string\n",
    "version of a value?\n",
    "ANS-\n",
    "Interger - int() \n",
    "Floating-point number - float()\n",
    "String - str()"
   ]
  },
  {
   "cell_type": "markdown",
   "id": "93cfabd4",
   "metadata": {},
   "source": [
    "10. Why does this expression cause an error? How can you fix it?\n",
    "'I have  eaten '+99+'burritos.'\n",
    "ANS-\n",
    "As we are trying to concatenate a string ('I have eaten ') with an integer (99). Python does not allow concatenation of different data types.\n",
    "To fix this error, you can convert the integer to a string using the str() function, like-\n",
    "'I have eaten ' + str(99) + ' burritos.'\n"
   ]
  },
  {
   "cell_type": "code",
   "execution_count": null,
   "id": "b403b742",
   "metadata": {},
   "outputs": [],
   "source": []
  }
 ],
 "metadata": {
  "kernelspec": {
   "display_name": "Python 3 (ipykernel)",
   "language": "python",
   "name": "python3"
  },
  "language_info": {
   "codemirror_mode": {
    "name": "ipython",
    "version": 3
   },
   "file_extension": ".py",
   "mimetype": "text/x-python",
   "name": "python",
   "nbconvert_exporter": "python",
   "pygments_lexer": "ipython3",
   "version": "3.9.7"
  }
 },
 "nbformat": 4,
 "nbformat_minor": 5
}
