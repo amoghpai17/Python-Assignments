{
 "cells": [
  {
   "cell_type": "markdown",
   "id": "fcc62a4e",
   "metadata": {},
   "source": [
    "1.In what modes should the PdfFileReader() and PdfFileWriter() File objects will be opened?\n",
    "\n",
    "ANS-\n",
    "The PdfFileReader() and PdfFileWriter() objects should be opened in binary mode using the \"rb\" and \"wb\" modes, respectively."
   ]
  },
  {
   "cell_type": "markdown",
   "id": "8f0d32e4",
   "metadata": {},
   "source": [
    "2.From a PdfFileReader object, how do you get a Page object for page 5?\n",
    "\n",
    "ANS-\n",
    "We can use the getPage() method with the index of the page you want to retrieve as the argument. It's important to note that the index starts at 0, so to get the fifth page, you would pass in 4 as the index. \n",
    "getPage(4)"
   ]
  },
  {
   "cell_type": "markdown",
   "id": "845d396e",
   "metadata": {},
   "source": [
    "3.What PdfFileReader variable stores the number of pages in the PDF document?\n",
    "\n",
    "ANS-\n",
    "'numPages' which stores the total number of pages in the PDF document."
   ]
  },
  {
   "cell_type": "markdown",
   "id": "6a4d25f3",
   "metadata": {},
   "source": [
    "4.If a PdfFileReader object’s PDF is encrypted with the password swordfish, what must you do\n",
    "before you can obtain Page objects from it?\n",
    "\n",
    "ANS-\n",
    "If a PdfFileReader object's PDF is encrypted with a password, you need to decrypt the PDF file by providing the correct password before you can obtain Page objects from it."
   ]
  },
  {
   "cell_type": "markdown",
   "id": "60b2a9ad",
   "metadata": {},
   "source": [
    "5.What methods do you use to rotate a page?\n",
    "\n",
    "ANS-\n",
    "We can use the rotateClockwise() and rotateCounterClockwise() methods of the PageObject class. These methods allow to rotate a page by 90 degrees clockwise or counterclockwise, respectively."
   ]
  },
  {
   "cell_type": "markdown",
   "id": "10f89f02",
   "metadata": {},
   "source": [
    "6.What is the difference between a Run object and a Paragraph object?\n",
    "\n",
    "ANS-\n",
    "Run object: A Run object is a contiguous sequence of characters within a paragraph that all share the same character formatting.\n",
    "\n",
    "Paragraph object: A Paragraph object is a block of text that is separated from other blocks of text by a paragraph break. A Paragraph object can contain one or more Run objects. "
   ]
  },
  {
   "cell_type": "markdown",
   "id": "e5bfe880",
   "metadata": {},
   "source": [
    "7.How do you obtain a list of Paragraph objects for a Document object that’s stored in a variable\n",
    "named doc?\n",
    "\n",
    "ANS-\n",
    "To obtain a list of Paragraph objects for a Document object that's stored in a variable named doc, you can use the paragraphs attribute of the Document object.\n"
   ]
  },
  {
   "cell_type": "markdown",
   "id": "cddb74c1",
   "metadata": {},
   "source": [
    "8.What type of object has bold, underline, italic, strike, and outline variables?\n",
    "\n",
    "ANS-\n",
    "'python-docx' library, the Run object has the bold, underline, italic, strike, and outline variables. These variables represent the character formatting applied to the Run object."
   ]
  },
  {
   "cell_type": "markdown",
   "id": "68ad321f",
   "metadata": {},
   "source": [
    "9.What is the difference between False, True, and None for the bold variable?\n",
    "\n",
    "ANS-\n",
    "1 - False: This value means that the text in the Run object should not be bolded.\n",
    "2 - True: This value means that the text in the Run object should be bolded.\n",
    "3 - None: This value means that the text in the Run object should inherit its bold "
   ]
  },
  {
   "cell_type": "markdown",
   "id": "82522b22",
   "metadata": {},
   "source": [
    "10.How do you create a Document object for a new Word document?\n",
    "\n",
    "ANS-\n",
    "To create a new Word document using the python-docx library, you can create a Document object with no arguments passed to it."
   ]
  },
  {
   "cell_type": "markdown",
   "id": "e6079f21",
   "metadata": {},
   "source": [
    "11.How do you add a paragraph with the text 'Hello, there!' to a Document object stored in a\n",
    "variable named doc?\n",
    "\n",
    "ANS-\n",
    "We can add a paragraph with the text 'Hello, there!' to a Document object stored in a variable named doc by using the add_paragraph() method of the Document object."
   ]
  },
  {
   "cell_type": "markdown",
   "id": "2b46ee24",
   "metadata": {},
   "source": [
    "12.What integers represent the levels of headings available in Word documents?\n",
    "\n",
    "ANS-\n",
    "We can create a new heading by using the add_heading() method of the Document object, and specifying the heading level as an integer argument. "
   ]
  }
 ],
 "metadata": {
  "kernelspec": {
   "display_name": "Python 3 (ipykernel)",
   "language": "python",
   "name": "python3"
  },
  "language_info": {
   "codemirror_mode": {
    "name": "ipython",
    "version": 3
   },
   "file_extension": ".py",
   "mimetype": "text/x-python",
   "name": "python",
   "nbconvert_exporter": "python",
   "pygments_lexer": "ipython3",
   "version": "3.9.7"
  }
 },
 "nbformat": 4,
 "nbformat_minor": 5
}
