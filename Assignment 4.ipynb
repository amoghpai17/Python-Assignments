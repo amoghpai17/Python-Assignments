{
 "cells": [
  {
   "cell_type": "markdown",
   "id": "15210bc2",
   "metadata": {},
   "source": [
    "1.What exactly is []?\n",
    "\n",
    "ANS-\n",
    "The empty square brackets \"[]\" represent an empty list, which is a data structure that can hold an ordered sequence of elements.\n"
   ]
  },
  {
   "cell_type": "markdown",
   "id": "d6318d8c",
   "metadata": {},
   "source": [
    "2.In a list of values stored in a variable called spam, how would you assign the value 'hello'  as the\n",
    "third value? (Assume [2, 4, 6, 8, 10] are in spam.)\n",
    "\n",
    "ANS-\n",
    "spam=[2,4,6,8,10]\n",
    "spam[2]='hello'\n"
   ]
  },
  {
   "cell_type": "markdown",
   "id": "edf020e7",
   "metadata": {},
   "source": [
    "Let's pretend the spam includes the list ['a','b','c','d'] for the next three queries.\n"
   ]
  },
  {
   "cell_type": "markdown",
   "id": "fe965616",
   "metadata": {},
   "source": [
    "3.What is the value of spam[int(int(3 * 2) / 11)]?\n",
    "\n",
    "ANS- 'a'\n"
   ]
  },
  {
   "cell_type": "markdown",
   "id": "ed996ab4",
   "metadata": {},
   "source": [
    "4.What is the value of spam[-1]?\n",
    "\n",
    "ANS- 'd'\n"
   ]
  },
  {
   "cell_type": "markdown",
   "id": "12dd05ed",
   "metadata": {},
   "source": [
    "5.What is the value of spam[:2]?\n",
    "\n",
    "ANS- \n",
    "['a', 'b']\n"
   ]
  },
  {
   "cell_type": "markdown",
   "id": "580d044b",
   "metadata": {},
   "source": [
    "Let's pretend bacon has the list [3.14, 'cat','11', 'cat', True] for the next three questions.\n"
   ]
  },
  {
   "cell_type": "markdown",
   "id": "728e81c9",
   "metadata": {},
   "source": [
    "6.What is the value of bacon.index('cat')?\n",
    "\n",
    "ANS-  '1'\n"
   ]
  },
  {
   "cell_type": "markdown",
   "id": "dfabd560",
   "metadata": {},
   "source": [
    "7.How does bacon.append(99) change the look of the list value in bacon?\n",
    "\n",
    "ANS-\n",
    " [3.14, 'cat', '11', 'cat', True, 99]"
   ]
  },
  {
   "cell_type": "markdown",
   "id": "42547bd3",
   "metadata": {},
   "source": [
    "8.How does bacon.remove('cat') change the look of the list in bacon?\n",
    "\n",
    "ANS-\n",
    " [3.14, '11', True, 99]"
   ]
  },
  {
   "cell_type": "markdown",
   "id": "8bd3e949",
   "metadata": {},
   "source": [
    "9.What are the list concatenation and list replication operators?\n",
    "\n",
    "ANS-\n",
    " The list concatenation operator is +, which can be used to concatenate two or more lists together. \n",
    " \n",
    " The list replication operator is *, which can be used to create a new list that consists of multiple copies of an  existing list.\n"
   ]
  },
  {
   "cell_type": "markdown",
   "id": "1320ddb5",
   "metadata": {},
   "source": [
    "10.What is difference between the list methods append() and insert()?\n",
    "\n",
    "ANS-\n",
    "The append() method adds an element to the end of the list.\n",
    "\n",
    "The insert() method adds an element to the list at a specific position."
   ]
  },
  {
   "cell_type": "markdown",
   "id": "bdfb340a",
   "metadata": {},
   "source": [
    "11.What are the two methods for removing items from a list?\n",
    "\n",
    "ANS-\n",
    "\n",
    "The remove() method: It is used to remove the first occurrence of an element in the list.\n",
    "\n",
    "\n",
    "The pop() method: It is used to remove an element from a list by its index position, and it returns the removed item. If no index is specified, it removes and returns the last element in the list."
   ]
  },
  {
   "cell_type": "markdown",
   "id": "bbc5331e",
   "metadata": {},
   "source": [
    "12.Describe how list values and string values are identical.\n",
    "\n",
    "ANS-\n",
    " List values and string values are sequences of individual elements. The elements of a list or a string can be accessed using an index, and they can be sliced or concatenated.\n",
    " \n",
    " 1-Indexing: Both lists and strings can be indexed, which means that you can access individual elements by their position in the sequence. In both cases, the first element has an index of 0, the second element has an index of 1, and so on.\n",
    " 2-Slicing: Both lists and strings can be sliced, which means that you can extract a subset of the sequence by specifying a range of indices.\n"
   ]
  },
  {
   "cell_type": "markdown",
   "id": "39a60ae9",
   "metadata": {},
   "source": [
    "13.What's the difference between tuples and lists?\n",
    "\n",
    "ANS-\n",
    " 1- Lists are mutable, which means that you can add, remove, or modify elements after the list is created. Tuples, on the other hand, are immutable, which means that once a tuple is created, you cannot add, remove, or modify any elements.\n",
    " 2-Lists are defined using square brackets [], while tuples are defined using parentheses ().\n",
    " 3-Tuples are generally more performant than lists, especially when the data set is small. This is because tuples have a simpler structure and require less overhead to create and manipulate.\n",
    " 4-Lists are typically used for storing collections of items that may change over time, while tuples are typically used for storing collections of items that are constant or do not change. \n",
    " 5-Tuples are often used to return multiple values from a function, while lists are not. Since tuples are immutable, they provide a safe and efficient way to return multiple values without the risk of unintended modification of the returned values."
   ]
  },
  {
   "cell_type": "markdown",
   "id": "0b17b7ab",
   "metadata": {},
   "source": [
    "14.How do you type a tuple value that only contains the integer 42?\n",
    "\n",
    "ANS-\n",
    " tuple = (42,)"
   ]
  },
  {
   "cell_type": "markdown",
   "id": "f2265c59",
   "metadata": {},
   "source": [
    "15.How do you get a list value's tuple form? How do you get a tuple value's list form?\n",
    "\n",
    "ANS-\n",
    "To get a list value's tuple form, you can use the built-in tuple() function.\n",
    "\n",
    "To get a tuple value's list form, you can use the built-in list() function. \n"
   ]
  },
  {
   "cell_type": "markdown",
   "id": "33f0a151",
   "metadata": {},
   "source": [
    "16.Variables that \"contain\"list values are not necessarily lists themselves. Instead, what do they\n",
    "contain?\n",
    "\n",
    "ANS-\n",
    " The variable that \"contains\" a list value stores a pointer to the list object, which is a collection of values that can be accessed and manipulated using various list methods and operations. The variable itself does not contain the list values directly, but rather a reference to the memory location where the list values are stored."
   ]
  },
  {
   "cell_type": "markdown",
   "id": "f89a9f05",
   "metadata": {},
   "source": [
    "17.How do you distinguish between copy.copy() and copy.deepcopy()?\n",
    "\n",
    "ANS-\n",
    " copy.copy() creates a shallow copy of the object, which means that it creates a new object but uses references to the original object's nested objects. In other words, the new object points to the same nested objects as the original object.\n",
    " \n",
    " copy.deepcopy() creates a deep copy of the object, which means that it creates a new object and recursively copies all nested objects as well. In other words, the new object and all of its nested objects are completely independent of the original object and its nested objects."
   ]
  }
 ],
 "metadata": {
  "kernelspec": {
   "display_name": "Python 3 (ipykernel)",
   "language": "python",
   "name": "python3"
  },
  "language_info": {
   "codemirror_mode": {
    "name": "ipython",
    "version": 3
   },
   "file_extension": ".py",
   "mimetype": "text/x-python",
   "name": "python",
   "nbconvert_exporter": "python",
   "pygments_lexer": "ipython3",
   "version": "3.9.7"
  }
 },
 "nbformat": 4,
 "nbformat_minor": 5
}
