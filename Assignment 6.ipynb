{
 "cells": [
  {
   "cell_type": "markdown",
   "id": "66e18951",
   "metadata": {},
   "source": [
    "1.What are escape characters, and how do you use them?\n",
    "\n",
    "ANS-\n",
    "Escape characters are special characters that are used to represent certain non-printable or special characters in a string. They are represented by a backslash () followed by a character or a sequence of characters. The backslash tells the interpreter to treat the following character in a special way.\n",
    "\n",
    "Some commonly used escape characters are\n",
    "1- \\n: Newline - inserts a new line in the string\n",
    "2- \\t: Tab - inserts a tab in the string\n",
    "3- \": Double quote - inserts a double quote in the string\n",
    "4- ': Single quote - inserts a single quote in the string\n",
    "\n",
    "Eg\n",
    "print(\"Hello\\nworld!\")  # output: Hello\n",
    "                         #         world!\n",
    "print(\"She said, \\\"Hello!\\\"\")  # output: She said, \"Hello!\"\n"
   ]
  },
  {
   "cell_type": "markdown",
   "id": "7cb66358",
   "metadata": {},
   "source": [
    "2.What do the escape characters n and t stand for?\n",
    "\n",
    "ANS-\n",
    "The escape character \"\\n\" stands for a newline, and the escape character \"\\t\" stands for a tab.\n",
    "\n",
    "The \"\\n\" character is used to insert a newline or line break in a string, which means that the text that follows it will be printed on a new line.\n",
    "\n",
    "The \"\\t\" character is used to insert a horizontal tab in a string, which means that the text that follows it will be indented."
   ]
  },
  {
   "cell_type": "markdown",
   "id": "bc040e08",
   "metadata": {},
   "source": [
    "3.What is the way to include backslash characters in a string?\n",
    "\n",
    "ANS-\n",
    "To include a backslash character in a string, you need to use an escape character before the backslash. Since the backslash character is an escape character itself, you need to use the escape character to tell the interpreter that you want to include a backslash in the string."
   ]
  },
  {
   "cell_type": "markdown",
   "id": "361e31f2",
   "metadata": {},
   "source": [
    "4.The string \"Howl's Moving Castle\" is a correct value. Why isn't the single quote character in the\n",
    "word Howl's not escaped a problem?\n",
    "\n",
    "ANS-\n",
    " single quotes and double quotes can be used interchangeably to create string literals. In Python, you can use either single quotes or double quotes to create a string literal. For example, the following two lines of code are equivalent:\n",
    "my_string = 'Howl\\'s Moving Castle'\n",
    "my_string = \"Howl's Moving Castle\"\n",
    "\n",
    "The backslash in the first line is an escape character that tells Python to treat the single quote as a literal character, rather than as a delimiter for the string.\n",
    "\n",
    "So in the case of the string \"Howl's Moving Castle\", the single quote character within the string is not a problem because it is enclosed within double quotes. Python treats the single quote character as a literal character and does not interpret it as the end of the string. However, if the string was enclosed within single quotes, the presence of a single quote character within the string would cause an error, unless it was escaped with a backslash as in the first example above."
   ]
  },
  {
   "cell_type": "markdown",
   "id": "121074ae",
   "metadata": {},
   "source": [
    "5.How do you write a string of newlines if you don't want to use the n character?\n",
    "\n",
    "ANS-\n",
    "If you don't want to use the \"\\n\" escape character to insert newlines in a string, there are a few different approaches you can take to write a string of newlines:\n",
    "\n",
    "1- Use multiple print statements: You can use multiple print statements, with each statement printing a single newline character. For example:\n",
    "print(\"\")\n",
    "print(\"\")\n",
    "print(\"\")\n",
    "\n",
    "2-Use the string concatenation operator (+): You can create a string of newlines by concatenating multiple empty strings. Each empty string will represent a single newline character. For example:\n",
    "newlines = \"\" + \"\" + \"\"\n",
    "\n",
    "3-Use a multiline string: You can create a multiline string by enclosing your text within triple quotes (either single or double). Within this string, you can add multiple blank lines to create a string of newlines. For example:\n",
    "newlines = '''\n",
    "\n",
    "\n",
    "'''\n"
   ]
  },
  {
   "cell_type": "markdown",
   "id": "6dc102c1",
   "metadata": {},
   "source": [
    "6.What are the values of the given expressions?\n",
    "\n",
    "1 - 'Hello, world!'[1] - 'e'\n",
    "\n",
    "2 - 'Hello, world!'[0:5]  - 'Hello'\n",
    "\n",
    "3 - 'Hello, world!'[:5]  - 'Hello'\n",
    "\n",
    "4 - 'Hello, world!'[3:]  - 'lo, world!'\n"
   ]
  },
  {
   "cell_type": "markdown",
   "id": "4ea7d97b",
   "metadata": {},
   "source": [
    "7.What are the values of the following expressions?\n",
    "\n",
    "1 - 'Hello'.upper()  - 'HELLO'\n",
    "\n",
    "2 - 'Hello'.upper().isupper() - True\n",
    "\n",
    "3 - 'Hello'.upper().lower() - 'hello'\n"
   ]
  },
  {
   "cell_type": "markdown",
   "id": "1c7f66af",
   "metadata": {},
   "source": [
    "8.What are the values of the following expressions?\n",
    "\n",
    "1 - 'Remember, remember, the fifth of July.'.split() - ['Remember,', 'remember,', 'the', 'fifth', 'of', 'July.']\n",
    "\n",
    "2 - '-'.join('There can only one.'.split()) - 'There-can-only-one.'\n"
   ]
  },
  {
   "cell_type": "markdown",
   "id": "70f64b6b",
   "metadata": {},
   "source": [
    "9.What are the methods for right-justifying, left-justifying, and centering a string?\n",
    "\n",
    "ANS-\n",
    "1- Right-justifying a string: You can use the rjust() method to right-justify a string by padding it with spaces on the left side. The rjust() method takes one required argument, which is the width of the output string, and one optional argument, which is the character to use for padding (default is space). \n",
    "\n",
    "2- Left-justifying a string: You can use the ljust() method to left-justify a string by padding it with spaces on the right side. The ljust() method takes one required argument, which is the width of the output string, and one optional argument, which is the character to use for padding (default is space). \n",
    "\n",
    "3- Centering a string: You can use the center() method to center a string by padding it with spaces on both sides. The center() method takes one required argument, which is the width of the output string, and one optional argument, which is the character to use for padding (default is space). "
   ]
  },
  {
   "cell_type": "markdown",
   "id": "6b24c928",
   "metadata": {},
   "source": [
    "10.What is the best way to remove whitespace characters from the start or end?\n",
    "\n",
    "ANS-\n",
    " We can use the strip() method to remove whitespace characters from the start and end of a string. This method returns a new string with any leading or trailing whitespace characters removed.\n",
    " \n",
    " If we only want to remove whitespace characters from the start or end of a string, you can use the lstrip() method to remove leading whitespace characters or the rstrip() method to remove trailing whitespace characters."
   ]
  }
 ],
 "metadata": {
  "kernelspec": {
   "display_name": "Python 3 (ipykernel)",
   "language": "python",
   "name": "python3"
  },
  "language_info": {
   "codemirror_mode": {
    "name": "ipython",
    "version": 3
   },
   "file_extension": ".py",
   "mimetype": "text/x-python",
   "name": "python",
   "nbconvert_exporter": "python",
   "pygments_lexer": "ipython3",
   "version": "3.9.7"
  }
 },
 "nbformat": 4,
 "nbformat_minor": 5
}
