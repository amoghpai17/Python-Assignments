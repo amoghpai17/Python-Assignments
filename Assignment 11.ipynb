{
 "cells": [
  {
   "cell_type": "markdown",
   "id": "ac2b4e58",
   "metadata": {},
   "source": [
    "1.Create an assert statement that throws an AssertionError if the variable spam is a negative\n",
    "integer.\n",
    "\n",
    "ANS-\n",
    "assert spam >= 0, \"spam should be a non-negative integer\"\n"
   ]
  },
  {
   "cell_type": "markdown",
   "id": "76974af1",
   "metadata": {},
   "source": [
    "2.Write an assert statement that triggers an AssertionError if the variables eggs and bacon contain\n",
    "strings that are the same as each other, even if their cases are different (that is, 'hello' and 'hello' are\n",
    "considered the same, and 'goodbye' and 'GOODbye' are also considered the same).\n",
    "\n",
    "ANS-\n",
    "assert eggs.lower() != bacon.lower(), \"eggs and bacon should not be the same, even if their cases are different\"\n"
   ]
  },
  {
   "cell_type": "markdown",
   "id": "0151a53c",
   "metadata": {},
   "source": [
    "3.Create an assert statement that throws an AssertionError every time.\n",
    "\n",
    "ANS-\n",
    "assert False, \"This assertion always fails\"\n"
   ]
  },
  {
   "cell_type": "markdown",
   "id": "bc91acd9",
   "metadata": {},
   "source": [
    "4.What are the two lines that must be present in your software in order to call logging.debug()?\n",
    "\n",
    "ANS-\n",
    "import logging\n",
    "logging.basicConfig(level=logging.DEBUG)\n"
   ]
  },
  {
   "cell_type": "markdown",
   "id": "23bf2d5d",
   "metadata": {},
   "source": [
    "5.What are the two lines that your program must have in order to have logging.debug() send a\n",
    "logging message to a file named programLog.txt?\n",
    "\n",
    "ANS-\n",
    "import logging\n",
    "\n",
    "logging.basicConfig(filename='programLog.txt', level=logging.DEBUG)\n",
    "\n",
    "\n"
   ]
  },
  {
   "cell_type": "markdown",
   "id": "727a0410",
   "metadata": {},
   "source": [
    "6.What are the five levels of logging?\n",
    "\n",
    "ANS-\n",
    "The five levels of logging, in increasing order of severity, are:\n",
    "\n",
    "1 - DEBUG: Detailed information, typically of interest only when diagnosing problems.\n",
    "2 - INFO: Confirmation that things are working as expected.\n",
    "3 - WARNING: An indication that something unexpected happened or indicative of some problem in the near future (e.g., ‘disk space low’). The software is still working as expected.\n",
    "4 - ERROR: Due to a more serious problem, the software has not been able to perform some function.\n",
    "5 - CRITICAL: A very serious error, indicating that the program itself may be unable to continue running."
   ]
  },
  {
   "cell_type": "markdown",
   "id": "ef6e3b3c",
   "metadata": {},
   "source": [
    "7.What line of code would you add to your software to disable all logging messages?\n",
    "\n",
    "ANS-\n",
    "\n",
    "logging.disable(logging.CRITICAL)\n"
   ]
  },
  {
   "cell_type": "markdown",
   "id": "230eb672",
   "metadata": {},
   "source": [
    "8.Why is using logging messages better than using print() to display the same message?\n",
    "\n",
    "ANS-\n",
    "1 - Logging messages are more flexible\n",
    "2 - Logging messages are more granular\n",
    "3 - Logging messages are more efficient\n",
    "4 - Logging messages are easier to disable"
   ]
  },
  {
   "cell_type": "markdown",
   "id": "49027d11",
   "metadata": {},
   "source": [
    "9.What are the differences between the Step Over, Step In, and Step Out buttons in the debugger?\n",
    "\n",
    "ANS-\n",
    "\n",
    "Step Over: This button executes the current line of code and moves the debugger to the next line. If the current line contains a function call, the function is executed, but the debugger does not stop inside the function. This is useful for quickly stepping through code and skipping over details you're not interested in.\n",
    "\n",
    "Step In: This button executes the current line of code and stops at the first line inside any function called by the current line. This is useful for inspecting the details of a function and understanding how it works.\n",
    "\n",
    "Step Out: This button stops the execution of the current function and returns to the line that called the function. This is useful for quickly moving out of a function you're not interested in and returning to the caller."
   ]
  },
  {
   "cell_type": "markdown",
   "id": "6a9c372d",
   "metadata": {},
   "source": [
    "10.After you click Continue, when will the debugger stop ?\n",
    "\n",
    "ANS-\n",
    "When you click the Continue button in a debugger, the debugger will continue executing the code without stopping at any breakpoints or other stopping points until one of the following conditions is met:\n",
    "\n",
    "1 - A breakpoint is encountered\n",
    "2 - An unhandled exception is raised\n",
    "3 - he program finishes executing\n"
   ]
  },
  {
   "cell_type": "markdown",
   "id": "e27a1080",
   "metadata": {},
   "source": [
    "11.What is the concept of a breakpoint?\n",
    "\n",
    "ANS-\n",
    "A breakpoint is a point in your code where the debugger will stop executing and allow you to inspect the state of the program. When you set a breakpoint, the debugger will pause execution of your code at the line where the breakpoint is set, allowing you to examine the values of variables, evaluate expressions, and step through the code line by line.\n",
    "\n"
   ]
  }
 ],
 "metadata": {
  "kernelspec": {
   "display_name": "Python 3 (ipykernel)",
   "language": "python",
   "name": "python3"
  },
  "language_info": {
   "codemirror_mode": {
    "name": "ipython",
    "version": 3
   },
   "file_extension": ".py",
   "mimetype": "text/x-python",
   "name": "python",
   "nbconvert_exporter": "python",
   "pygments_lexer": "ipython3",
   "version": "3.9.7"
  }
 },
 "nbformat": 4,
 "nbformat_minor": 5
}
