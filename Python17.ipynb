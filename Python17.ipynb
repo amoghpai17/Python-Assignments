{
 "cells": [
  {
   "cell_type": "markdown",
   "id": "3e184a3a",
   "metadata": {},
   "source": [
    "Q1. Explain the difference between greedy and non-greedy syntax with visual terms in as few wordsas possible. What is the bare minimum effort required to transform a greedy pattern into a non-greedy\n",
    "one? What characters or characters can you introduce or change?\n",
    "\n",
    "ANS-\n",
    "Greedy syntax tries to match as much as possible, while non-greedy (also called lazy) syntax matches as little as possible. In visual terms, greedy matches would consume as much of the string as possible, while non-greedy matches would only consume what is necessary.\n",
    "\n",
    "To transform a greedy pattern into a non-greedy one, you can introduce a question mark '?' after the quantifier that specifies the pattern's repetition. This changes the quantifier from greedy to non-greedy. For example, the greedy pattern \".\" can be transformed into a non-greedy pattern \".?\" by adding a question mark after the asterisk.\n",
    "\n",
    "In summary, the bare minimum effort required to transform a greedy pattern into a non-greedy one is to add a question mark after the quantifier."
   ]
  },
  {
   "cell_type": "markdown",
   "id": "07f2d9b9",
   "metadata": {},
   "source": [
    "Q2. When exactly does greedy versus non-greedy make a difference?  What if you're looking for a\n",
    "non-greedy match but the only one available is greedy?\n",
    "\n",
    "ANS-\n",
    "Greedy versus non-greedy matching makes a difference when there are multiple possible matches for a pattern in a given string. In such cases, greedy matching will consume as much of the string as possible, potentially resulting in a longer match than desired. Non-greedy matching, on the other hand, will consume as little of the string as possible, resulting in a shorter match.\n",
    "\n",
    "If you are looking for a non-greedy match, but the only available match is greedy, you can modify the pattern to make it non-greedy. As mentioned in the previous answer, adding a question mark after the quantifier is the simplest way to make a greedy pattern non-greedy. However, it's important to note that modifying the pattern may change the matched substring, so it's important to carefully consider the desired output when choosing between greedy and non-greedy matching."
   ]
  },
  {
   "cell_type": "markdown",
   "id": "ba7cda07",
   "metadata": {},
   "source": [
    "Q3. In a simple match of a string, which looks only for one match and does not do any replacement, is\n",
    "the use of a nontagged group likely to make any practical difference?\n",
    "\n",
    "ANS-\n",
    "In a simple match of a string that only looks for one match and does not do any replacement, the use of a non-tagged group is unlikely to make any practical difference. Non-tagged groups are used to group together parts of a regular expression without capturing them as a separate match. However, in a simple match where only one match is required, capturing the group is not necessary.\n",
    "\n",
    "That being said, non-tagged groups can still be useful in certain situations, even if they don't make a practical difference in a simple match. For example, non-tagged groups can be used to apply a quantifier to a group of characters without capturing them, or to group together parts of a regular expression for clarity and organization."
   ]
  },
  {
   "cell_type": "markdown",
   "id": "32f25353",
   "metadata": {},
   "source": [
    "Q4. Describe a scenario in which using a nontagged category would have a significant impact on the\n",
    "program's outcomes.\n",
    "\n",
    "ANS-\n",
    "Non-tagged categories, also known as non-capturing groups, can have a significant impact on a program's outcomes in certain scenarios where the captured groups affect the behavior of the regular expression engine. One such scenario is when using alternation (the pipe symbol '|') to match one of multiple patterns.\n",
    "\n",
    "Consider the following regular expression that matches a string containing either \"foo\" or \"bar\":\n",
    "\n",
    "(foo|bar)\n",
    "\n",
    "In this case, the entire regular expression is a capturing group, so the matched substring will include either \"foo\" or \"bar\". However, if we want to group the alternation together without capturing the matched substring, we can use a non-capturing group like this:\n",
    "(?:foo|bar)\n",
    "\n",
    "In this case, the non-capturing group still matches either \"foo\" or \"bar\", but the matched substring only includes the matched text, without the surrounding parentheses. This can be useful in cases where we don't want the captured groups to affect the behavior of the regular expression engine, for example, when using backreferences or lookaheads/lookbehinds. In such cases, using a non-capturing group can be critical to achieving the desired outcome."
   ]
  },
  {
   "cell_type": "markdown",
   "id": "fb49323f",
   "metadata": {},
   "source": [
    "Q5. Unlike a normal regex pattern, a look-ahead condition does not consume the characters it\n",
    "examines. Describe a situation in which this could make a difference in the results of your\n",
    "programme.\n",
    "\n",
    "ANS-\n",
    "a look-ahead condition in a regular expression does not consume the characters it examines can make a difference in the results of a program in scenarios where we need to match a pattern that is followed by a specific sequence of characters, but we don't want to include that sequence in the match."
   ]
  },
  {
   "cell_type": "markdown",
   "id": "08ad47c6",
   "metadata": {},
   "source": [
    "Q6. In standard expressions, what is the difference between positive look-ahead and negative look-\n",
    "ahead?\n",
    "\n",
    "ANS-\n",
    "The main difference between positive lookahead and negative lookahead is that positive lookahead matches if the pattern is present, while negative lookahead matches if the pattern is absent.\n",
    "\n",
    "Positive lookahead: It is denoted by (?=pattern). It matches the first pattern only if it is followed by another pattern. For example, the regular expression \\w+(?=ing) would match \"run\" in the string \"running\", because \"run\" is followed by \"ing\". However, it would not match \"run\" in the string \"runs\", because \"run\" is not followed by \"ing\".\n",
    "\n",
    "Negative lookahead: It is denoted by (?!pattern). It matches the first pattern only if it is NOT followed by another pattern. For example, the regular expression \\w+(?!ing) would match \"runs\" in the string \"The dog runs\", because \"runs\" is not followed by \"ing\". However, it would not match \"running\" in the string \"The dog is running\", because \"running\" is followed by \"ing\"."
   ]
  },
  {
   "cell_type": "markdown",
   "id": "0547f6ea",
   "metadata": {},
   "source": [
    "Q7. What is the benefit of referring to groups by name rather than by number in a standard\n",
    "expression?\n",
    "\n",
    "ANS-\n",
    "1 - Clarity: Using named groups makes the regular expression easier to read and understand, especially for complex expressions with many capture groups. Named groups make it clear what each group represents and how it is used in the expression.\n",
    "\n",
    "2 - Maintainability: Named groups make it easier to modify the regular expression later on, especially if the number or order of the groups changes. With named groups, you don't need to change the index number of each reference to the group in the expression.\n",
    "\n",
    "3 - Reusability: Named groups can be reused in the same expression, without needing to repeat the regular expression pattern. This can simplify the expression and make it more efficient.\n",
    "\n",
    "4 - Self-documenting: Named groups can serve as self-documenting labels for the captured substrings, making it easier to understand the meaning of the matched text.\n",
    "\n",
    "5 - Error handling: Named groups can help with error handling, as they can be used to provide meaningful error messages when a regular expression fails to match."
   ]
  },
  {
   "cell_type": "markdown",
   "id": "af7b9435",
   "metadata": {},
   "source": [
    "Q8. Can you identify repeated items within a target string using named groups, as in 'The cow\n",
    "jumped over the moon'?\n",
    "\n",
    "ANS-\n",
    "Yes, you can identify repeated items within a target string using named groups in regular expressions."
   ]
  },
  {
   "cell_type": "markdown",
   "id": "638e263b",
   "metadata": {},
   "source": [
    "Q9. When parsing a string, what is at least one thing that the Scanner interface does for you that the\n",
    "re.findall feature does not?\n",
    "\n",
    "ANS-\n",
    "The Scanner interface provides several advantages over the re.findall() feature when parsing a string:\n",
    "\n",
    "1 - More precise control: The Scanner interface provides more precise control over how the input is parsed, as it allows you to specify delimiters and patterns to match. This can be useful for parsing structured input that has a well-defined format.\n",
    "\n",
    "2 - More efficient: The Scanner interface can be more efficient than re.findall() for parsing large input streams, as it reads input incrementally and only parses the next token when needed. This can save memory and improve performance, especially for long or complex inputs.\n",
    "\n",
    "3 - Built-in error handling: The Scanner interface provides built-in error handling, including exceptions and error messages, which can help to detect and recover from parsing errors.\n",
    "\n",
    "4 - Formatting options: The Scanner interface provides formatting options, such as locale-specific number and date parsing, that are not available in re.findall().\n",
    "\n",
    "5 - Data type conversions: The Scanner interface provides data type conversion methods, such as nextInt() and nextDouble(), that can convert the parsed input to specific data types, which is not possible with re.findall()."
   ]
  },
  {
   "cell_type": "markdown",
   "id": "e1aad101",
   "metadata": {},
   "source": [
    "Q10. Does a scanner object have to be named scanner?\n",
    "\n",
    "ANS-\n",
    "No, a scanner object does not have to be named \"scanner\". The name of the object is arbitrary and can be any valid identifier that follows the naming conventions of the programming language being used."
   ]
  }
 ],
 "metadata": {
  "kernelspec": {
   "display_name": "Python 3 (ipykernel)",
   "language": "python",
   "name": "python3"
  },
  "language_info": {
   "codemirror_mode": {
    "name": "ipython",
    "version": 3
   },
   "file_extension": ".py",
   "mimetype": "text/x-python",
   "name": "python",
   "nbconvert_exporter": "python",
   "pygments_lexer": "ipython3",
   "version": "3.9.7"
  }
 },
 "nbformat": 4,
 "nbformat_minor": 5
}
