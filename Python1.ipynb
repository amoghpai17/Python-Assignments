{
 "cells": [
  {
   "cell_type": "markdown",
   "id": "fed7e117",
   "metadata": {},
   "source": [
    "Q1. What is the purpose of Pythons OOP?\n",
    "\n",
    "ANS-\n",
    "The purpose of Python's Object-Oriented Programming (OOP) is to enable developers to organize their code into reusable, modular structures that can be easily maintained and extended over time.\n",
    "\n",
    "Python's OOP is based on the fundamental principles of abstraction, encapsulation, inheritance, and polymorphism. These principles allow developers to create classes that define objects with attributes (data) and behaviors (methods) that can be used across an application or project."
   ]
  },
  {
   "cell_type": "markdown",
   "id": "31aa8fd1",
   "metadata": {},
   "source": [
    "Q2. Where does an inheritance search look for an attribute?\n",
    "\n",
    "ANS-\n",
    "An inheritance search for an attribute looks for the attribute in the instance dictionary, then the class dictionary, and then in the base class dictionaries following the method resolution order of the class hierarchy."
   ]
  },
  {
   "cell_type": "markdown",
   "id": "778876a1",
   "metadata": {},
   "source": [
    "Q3. How do you distinguish between a class object and an instance object?\n",
    "\n",
    "ANS-\n",
    "A class object is a blueprint or template for creating objects, while an instance object is a specific object that is created using a class.\n",
    "\n",
    "A class object is created using the class keyword, and defines the properties and methods that the instances of the class will have. The class object is a type of object itself and can be passed around as any other object.\n",
    "\n",
    "An instance object, on the other hand, is created using the class as a blueprint. To create an instance object, we call the class and provide the necessary arguments (if any) for the class constructor. An instance object is a specific instance of the class with its own set of values for the instance variables."
   ]
  },
  {
   "cell_type": "markdown",
   "id": "60d61ff2",
   "metadata": {},
   "source": [
    "Q4. What makes the first argument in a class’s method function special?\n",
    "\n",
    "ANS-\n",
    "The first argument in a class's method function is conventionally called self. This argument is special because it refers to the instance of the class on which the method is being called.\n",
    "\n",
    "When a method is called on an instance object, the instance object is automatically passed to the method as the self argument. This allows the method to access and modify the attributes of the instance object."
   ]
  },
  {
   "cell_type": "markdown",
   "id": "9020cdfa",
   "metadata": {},
   "source": [
    "Q5. What is the purpose of the __init__ method?\n",
    "\n",
    "ANS-\n",
    "The __init__ method is a special method in Python classes that is called when an instance of the class is created. The purpose of the __init__ method is to initialize the instance variables of the class, which define the state of the instance object."
   ]
  },
  {
   "cell_type": "markdown",
   "id": "6ffc361c",
   "metadata": {},
   "source": [
    "Q6. What is the process for creating a class instance?\n",
    "\n",
    "ANS-\n",
    "The process for creating a class instance involves defining the class, using the class name to create a new instance, and passing in any necessary arguments to the class constructor. Once the instance has been created, you can access its attributes using dot notation."
   ]
  },
  {
   "cell_type": "markdown",
   "id": "e4859d63",
   "metadata": {},
   "source": [
    "Q7. What is the process for creating a class?\n",
    "\n",
    "ANS-\n",
    "The process for creating a class involves the following steps:\n",
    "\n",
    "1 - Use the class keyword to define the class, followed by the name of the class.\n",
    "2 - Define the class attributes and methods inside the class block.\n",
    "3 - Optionally, define a constructor method (__init__) to initialize the instance attributes when a new instance is created.\n",
    "4 - Optionally, define other methods to implement the behavior of the class.\n",
    "5 - Use the class name to create new instances of the class."
   ]
  },
  {
   "cell_type": "markdown",
   "id": "91855c67",
   "metadata": {},
   "source": [
    "Q8. How would you define the superclasses of a class?\n",
    "\n",
    "ANS-\n",
    "To define the superclass of a class, you simply include the superclass name in the class definition, \n",
    "like this:\n",
    "class Subclass(Superclass):\n"
   ]
  }
 ],
 "metadata": {
  "kernelspec": {
   "display_name": "Python 3 (ipykernel)",
   "language": "python",
   "name": "python3"
  },
  "language_info": {
   "codemirror_mode": {
    "name": "ipython",
    "version": 3
   },
   "file_extension": ".py",
   "mimetype": "text/x-python",
   "name": "python",
   "nbconvert_exporter": "python",
   "pygments_lexer": "ipython3",
   "version": "3.9.7"
  }
 },
 "nbformat": 4,
 "nbformat_minor": 5
}
