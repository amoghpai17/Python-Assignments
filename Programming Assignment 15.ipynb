{
 "cells": [
  {
   "cell_type": "code",
   "execution_count": 1,
   "id": "ab884caa",
   "metadata": {},
   "outputs": [
    {
     "name": "stdout",
     "output_type": "stream",
     "text": [
      "Enter a value for n: 100\n",
      "0,35,70\n"
     ]
    }
   ],
   "source": [
    "#Question 1:\n",
    "'''Please write a program using generator to print the numbers which can be divisible by 5 and\n",
    "7 between 0 and n in comma separated form while n is input by console.\n",
    "Example:\n",
    "If the following n is given as input to the program:\n",
    "100\n",
    "Then, the output of the program should be:\n",
    "0,35,70  '''\n",
    "\n",
    "def divisible_by_5_and_7(n):\n",
    "    for i in range(n+1):\n",
    "        if i % 5 == 0 and i % 7 == 0:\n",
    "            yield str(i)\n",
    "\n",
    "n = int(input(\"Enter a value for n: \"))\n",
    "result = \",\".join(divisible_by_5_and_7(n))\n",
    "print(result)\n"
   ]
  },
  {
   "cell_type": "code",
   "execution_count": 2,
   "id": "c07ae4de",
   "metadata": {},
   "outputs": [
    {
     "name": "stdout",
     "output_type": "stream",
     "text": [
      "Enter a number: 10\n",
      "0,2,4,6,8,10\n"
     ]
    }
   ],
   "source": [
    "#Question 2:\n",
    "'''Please write a program using generator to print the even numbers between 0 and n in comma\n",
    "separated form while n is input by console.\n",
    "Example:\n",
    "If the following n is given as input to the program:\n",
    "10\n",
    "Then, the output of the program should be:\n",
    "0,2,4,6,8,10'''\n",
    "\n",
    "def even_numbers(n):\n",
    "    i = 0\n",
    "    while i <= n:\n",
    "        if i % 2 == 0:\n",
    "            yield str(i)\n",
    "        i += 1\n",
    "\n",
    "n = int(input(\"Enter a number: \"))\n",
    "even_nums = even_numbers(n)\n",
    "print(\",\".join(even_nums))\n"
   ]
  },
  {
   "cell_type": "code",
   "execution_count": 3,
   "id": "8964c187",
   "metadata": {},
   "outputs": [
    {
     "name": "stdout",
     "output_type": "stream",
     "text": [
      "Enter the value of n: 7\n",
      "0, 1, 1, 2, 3, 5, 8, 13\n"
     ]
    }
   ],
   "source": [
    "#Question 3:\n",
    "'''The Fibonacci Sequence is computed based on the following formula:\n",
    "f(n)=0 if n=0\n",
    "f(n)=1 if n=1\n",
    "f(n)=f(n-1)+f(n-2) if n>1\n",
    "Please write a program using list comprehension to print the Fibonacci Sequence in comma\n",
    "separated form with a given n input by console.\n",
    "Example:\n",
    "If the following n is given as input to the program:\n",
    "7\n",
    "Then, the output of the program should be:\n",
    "0,1,1,2,3,5,8,13   '''\n",
    "\n",
    "n = int(input(\"Enter the value of n: \"))\n",
    "\n",
    "fib = [0, 1]\n",
    "[fib.append(fib[-1] + fib[-2]) for i in range(n-1) if n > 1]\n",
    "\n",
    "print(', '.join(str(x) for x in fib))\n"
   ]
  },
  {
   "cell_type": "code",
   "execution_count": 4,
   "id": "efb37c0d",
   "metadata": {},
   "outputs": [
    {
     "name": "stdout",
     "output_type": "stream",
     "text": [
      "Enter an email address: john@google.com\n",
      "john\n"
     ]
    }
   ],
   "source": [
    "#Question 4:\n",
    "'''Assuming that we have some email addresses in the &quot;username@companyname.com&quot; format,\n",
    "please write program to print the user name of a given email address. Both user names and\n",
    "company names are composed of letters only.\n",
    "Example:\n",
    "If the following email address is given as input to the program:\n",
    "john@google.com\n",
    "Then, the output of the program should be:\n",
    "john'''\n",
    "\n",
    "email = input(\"Enter an email address: \")\n",
    "\n",
    "username = email.split(\"@\")[0]\n",
    "\n",
    "print(username)\n"
   ]
  },
  {
   "cell_type": "code",
   "execution_count": 6,
   "id": "0f8c62e1",
   "metadata": {},
   "outputs": [
    {
     "name": "stdout",
     "output_type": "stream",
     "text": [
      "Enter the length of the square: 5\n",
      "Area of the square: 25\n"
     ]
    }
   ],
   "source": [
    "#Question 5:\n",
    "'''Define a class named Shape and its subclass Square. The Square class has an init function\n",
    "which takes a length as argument. Both classes have a area function which can print the area\n",
    "of the shape where Shape's area is 0 by default.'''\n",
    "\n",
    "class Shape:\n",
    "    def area(self):\n",
    "        return 0\n",
    "\n",
    "class Square(Shape):\n",
    "    def __init__(self, length):\n",
    "        self.length = length\n",
    "\n",
    "    def area(self):\n",
    "        return self.length * self.length\n",
    "\n",
    "length = int(input(\"Enter the length of the square: \"))\n",
    "sq = Square(length)\n",
    "print(\"Area of the square:\", sq.area())\n",
    "\n"
   ]
  },
  {
   "cell_type": "code",
   "execution_count": null,
   "id": "06ccec49",
   "metadata": {},
   "outputs": [],
   "source": []
  }
 ],
 "metadata": {
  "kernelspec": {
   "display_name": "Python 3 (ipykernel)",
   "language": "python",
   "name": "python3"
  },
  "language_info": {
   "codemirror_mode": {
    "name": "ipython",
    "version": 3
   },
   "file_extension": ".py",
   "mimetype": "text/x-python",
   "name": "python",
   "nbconvert_exporter": "python",
   "pygments_lexer": "ipython3",
   "version": "3.9.7"
  }
 },
 "nbformat": 4,
 "nbformat_minor": 5
}
