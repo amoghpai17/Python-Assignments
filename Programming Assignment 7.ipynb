{
 "cells": [
  {
   "cell_type": "code",
   "execution_count": 1,
   "id": "18eb9d3e",
   "metadata": {},
   "outputs": [
    {
     "name": "stdout",
     "output_type": "stream",
     "text": [
      "15\n"
     ]
    }
   ],
   "source": [
    "1. #Write a Python Program to find sum of array?\n",
    "\n",
    "def sum_array(arr):\n",
    "    sum = 0\n",
    "    for i in range(len(arr)):\n",
    "        sum += arr[i]\n",
    "    return sum\n",
    "\n",
    "# Example usage\n",
    "arr = [1, 2, 3, 4, 5]\n",
    "print(sum_array(arr)) "
   ]
  },
  {
   "cell_type": "code",
   "execution_count": 2,
   "id": "8d3a8f2a",
   "metadata": {},
   "outputs": [
    {
     "name": "stdout",
     "output_type": "stream",
     "text": [
      "9\n"
     ]
    }
   ],
   "source": [
    "2. #Write a Python Program to find largest element in an array?\n",
    "\n",
    "def find_largest(arr):\n",
    "    max = arr[0]\n",
    "    for i in range(1, len(arr)):\n",
    "        if arr[i] > max:\n",
    "            max = arr[i]\n",
    "    return max\n",
    "\n",
    "# Example usage\n",
    "arr = [1, 5, 3, 9, 2]\n",
    "print(find_largest(arr)) \n"
   ]
  },
  {
   "cell_type": "code",
   "execution_count": 3,
   "id": "5b301527",
   "metadata": {},
   "outputs": [
    {
     "name": "stdout",
     "output_type": "stream",
     "text": [
      "[4, 5, 1, 2, 3]\n"
     ]
    }
   ],
   "source": [
    "3. #Write a Python Program for array rotation?\n",
    "\n",
    "def rotate_array(arr, k):\n",
    "    n = len(arr)\n",
    "    k = k % n\n",
    "    arr[:] = arr[n-k:] + arr[:n-k]\n",
    "    return arr\n",
    "\n",
    "# Example usage\n",
    "arr = [1, 2, 3, 4, 5]\n",
    "k = 2\n",
    "print(rotate_array(arr, k)) "
   ]
  },
  {
   "cell_type": "code",
   "execution_count": 4,
   "id": "8c26aee3",
   "metadata": {},
   "outputs": [
    {
     "name": "stdout",
     "output_type": "stream",
     "text": [
      "[3, 4, 5, 1, 2]\n"
     ]
    }
   ],
   "source": [
    "4. #Write a Python Program to Split the array and add the first part to the end?\n",
    "\n",
    "def split_and_add(arr, n):\n",
    "    arr = arr[n:] + arr[:n]\n",
    "    return arr\n",
    "\n",
    "# Example usage\n",
    "arr = [1, 2, 3, 4, 5]\n",
    "n = 2\n",
    "print(split_and_add(arr, n)) \n"
   ]
  },
  {
   "cell_type": "code",
   "execution_count": 5,
   "id": "a3940760",
   "metadata": {},
   "outputs": [
    {
     "name": "stdout",
     "output_type": "stream",
     "text": [
      "True\n",
      "True\n",
      "False\n"
     ]
    }
   ],
   "source": [
    "5. #Write a Python Program to check if given array is Monotonic?\n",
    "\n",
    "def is_monotonic(arr):\n",
    "    increasing = True\n",
    "    decreasing = True\n",
    "    for i in range(1, len(arr)):\n",
    "        if arr[i] < arr[i-1]:\n",
    "            increasing = False\n",
    "        if arr[i] > arr[i-1]:\n",
    "            decreasing = False\n",
    "    return increasing or decreasing\n",
    "\n",
    "# Example usage\n",
    "arr1 = [1, 2, 3, 4, 5]\n",
    "arr2 = [5, 4, 3, 2, 1]\n",
    "arr3 = [1, 3, 2, 4, 5]\n",
    "print(is_monotonic(arr1)) \n",
    "print(is_monotonic(arr2)) \n",
    "print(is_monotonic(arr3)) \n"
   ]
  },
  {
   "cell_type": "code",
   "execution_count": null,
   "id": "ffdca03b",
   "metadata": {},
   "outputs": [],
   "source": []
  }
 ],
 "metadata": {
  "kernelspec": {
   "display_name": "Python 3 (ipykernel)",
   "language": "python",
   "name": "python3"
  },
  "language_info": {
   "codemirror_mode": {
    "name": "ipython",
    "version": 3
   },
   "file_extension": ".py",
   "mimetype": "text/x-python",
   "name": "python",
   "nbconvert_exporter": "python",
   "pygments_lexer": "ipython3",
   "version": "3.9.7"
  }
 },
 "nbformat": 4,
 "nbformat_minor": 5
}
