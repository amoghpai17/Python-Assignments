{
 "cells": [
  {
   "cell_type": "markdown",
   "id": "44827b0d",
   "metadata": {},
   "source": [
    "1.Is the Python Standard Library included with PyInputPlus?\n",
    "\n",
    "ANS-\n",
    "No, the Python Standard Library is separate from PyInputPlus. PyInputPlus is a third-party library that provides additional functionality for taking user input in Python, while the Python Standard Library contains the basic functionality for working with Python."
   ]
  },
  {
   "cell_type": "markdown",
   "id": "a0806c93",
   "metadata": {},
   "source": [
    "2.Why is PyInputPlus commonly imported with import pyinputplus as pypi?\n",
    "\n",
    "ANS-\n",
    "PyInputPlus is often imported with the import pyinputplus as pypi statement to make it easier to refer to the library throughout the code.\n"
   ]
  },
  {
   "cell_type": "markdown",
   "id": "7b1aa4e4",
   "metadata": {},
   "source": [
    "3.How do you distinguish between inputInt() and inputFloat()?\n",
    "\n",
    "ANS-\n",
    "The inputInt() function prompts the user to enter an integer value, and will keep asking for input until the user enters a valid integer. It then returns the integer value.\n",
    "\n",
    "The inputFloat() function prompts the user to enter a floating-point value (a number with a decimal point), and will keep asking for input until the user enters a valid floating-point value. It then returns the float value."
   ]
  },
  {
   "cell_type": "markdown",
   "id": "59dba871",
   "metadata": {},
   "source": [
    "4.Using PyInputPlus, how do you ensure that the user enters a whole number between 0 and 99?\n",
    "\n",
    "ANS-\n",
    "To ensure that the user enters a whole number between 0 and 99 using PyInputPlus, you can use the inputInt() function along with its various parameters."
   ]
  },
  {
   "cell_type": "code",
   "execution_count": 8,
   "id": "e242eb9c",
   "metadata": {},
   "outputs": [
    {
     "name": "stdout",
     "output_type": "stream",
     "text": [
      "Enter a whole number between 0 and 99: 10\n"
     ]
    }
   ],
   "source": [
    "import pyinputplus as pyip\n",
    "\n",
    "# enters a whole number between 0 and 99\n",
    "user_input = pyip.inputInt(prompt='Enter a whole number between 0 and 99: ',\n",
    "                            min=0, max=99)\n"
   ]
  },
  {
   "cell_type": "markdown",
   "id": "ad0b2745",
   "metadata": {},
   "source": [
    "5.What is transferred to the keyword arguments allowRegexes and blockRegexes?\n",
    "\n",
    "ANS-\n",
    "The allowRegexes argument takes in a list of regular expressions. If the user's input matches any of these regular expressions, it is considered valid input.\n",
    "\n",
    "On the other hand, the blockRegexes argument takes in a list of regular expressions. If the user's input matches any of these regular expressions, it is considered invalid input and an error message is displayed."
   ]
  },
  {
   "cell_type": "markdown",
   "id": "8f60ec56",
   "metadata": {},
   "source": [
    "6.If a blank input is entered three times, what does inputStr(limit=3) do?\n",
    "\n",
    "ANS-\n",
    "\n",
    "If a blank input is entered three times while using 'inputStr(limit=3)', the function will raise a 'TimeoutException' with the message \"Blank values are not allowed.\" This is because the 'limit=3' argument specifies that the user has a maximum of three attempts to provide a non-blank input. If the user fails to do so within three attempts, the function will raise the 'TimeoutException'."
   ]
  },
  {
   "cell_type": "markdown",
   "id": "a60306a5",
   "metadata": {},
   "source": [
    "7.If blank input is entered three times, what does inputStr(limit=3, default='hello') do?\n",
    "\n",
    "ANS-\n",
    "\n",
    "If a blank input is entered three times while using 'inputStr(limit=3, default='hello')', the function will return the default value 'hello'. This is because the 'limit=3' argument specifies that the user has a maximum of three attempts to provide a non-blank input. If the user fails to do so within three attempts, the function will return the 'default' value specified by the default argument, which is 'hello' in this case."
   ]
  }
 ],
 "metadata": {
  "kernelspec": {
   "display_name": "Python 3 (ipykernel)",
   "language": "python",
   "name": "python3"
  },
  "language_info": {
   "codemirror_mode": {
    "name": "ipython",
    "version": 3
   },
   "file_extension": ".py",
   "mimetype": "text/x-python",
   "name": "python",
   "nbconvert_exporter": "python",
   "pygments_lexer": "ipython3",
   "version": "3.9.7"
  }
 },
 "nbformat": 4,
 "nbformat_minor": 5
}
