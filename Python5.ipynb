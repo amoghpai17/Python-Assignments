{
 "cells": [
  {
   "cell_type": "markdown",
   "id": "40f592b1",
   "metadata": {},
   "source": [
    "Q1. What is the meaning of multiple inheritance?\n",
    "\n",
    "ANS-\n",
    "Multiple inheritance is a feature of object-oriented programming languages where a class can inherit properties and behaviors from more than one parent class. In other words, a child class can inherit attributes and methods from multiple base or parent classes."
   ]
  },
  {
   "cell_type": "markdown",
   "id": "f2b1d64e",
   "metadata": {},
   "source": [
    "Q2. What is the concept of delegation?\n",
    "\n",
    "ANS-\n",
    "Delegation is a programming concept where an object or method passes on a responsibility or task to another object or method to perform on its behalf. In other words, an object delegates a task to another object to carry out, rather than performing the task itself."
   ]
  },
  {
   "cell_type": "markdown",
   "id": "5732f480",
   "metadata": {},
   "source": [
    "Q3. What is the concept of composition?\n",
    "\n",
    "ANS-\n",
    "Composition is a programming concept where a class or object is composed of one or more other classes or objects. It is a way of combining simple or independent objects to create more complex objects, without requiring the complex object to inherit from the simple objects."
   ]
  },
  {
   "cell_type": "markdown",
   "id": "d1e77077",
   "metadata": {},
   "source": [
    "Q4. What are bound methods and how do we use them?\n",
    "\n",
    "ANS-\n",
    "Bound methods are a concept in object-oriented programming that refers to a method of an object that is bound to the object itself. This means that the method can access and modify the state of the object, and is implicitly passed the object as its first argument when it is called.\n",
    "\n",
    "Bound methods can be useful for encapsulating behavior within an object and allowing the object to control its own state. They can also be passed as arguments to other methods or functions, or stored as attributes of other objects."
   ]
  },
  {
   "cell_type": "markdown",
   "id": "7dca76d0",
   "metadata": {},
   "source": [
    "Q5. What is the purpose of pseudoprivate attributes?\n",
    "\n",
    "ANS-\n",
    "Pseudoprivate attributes (sometimes also referred to as \"name mangling\") are a feature in Python that allows for the creation of attributes with names that are partially obscured or \"mangled\" to prevent accidental name conflicts in subclasses or other parts of the program.\n",
    "\n",
    "The purpose of pseudoprivate attributes is to provide a way to create private attributes that are not accessible from outside the class, while also allowing subclasses to override or extend the attribute if necessary. By mangling the attribute name, it reduces the risk of accidental name conflicts with other attributes in the program.\n",
    "\n"
   ]
  }
 ],
 "metadata": {
  "kernelspec": {
   "display_name": "Python 3 (ipykernel)",
   "language": "python",
   "name": "python3"
  },
  "language_info": {
   "codemirror_mode": {
    "name": "ipython",
    "version": 3
   },
   "file_extension": ".py",
   "mimetype": "text/x-python",
   "name": "python",
   "nbconvert_exporter": "python",
   "pygments_lexer": "ipython3",
   "version": "3.9.7"
  }
 },
 "nbformat": 4,
 "nbformat_minor": 5
}
