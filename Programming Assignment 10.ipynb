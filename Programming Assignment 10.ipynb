{
 "cells": [
  {
   "cell_type": "code",
   "execution_count": 1,
   "id": "e1823b50",
   "metadata": {},
   "outputs": [
    {
     "name": "stdout",
     "output_type": "stream",
     "text": [
      "Enter a list of numbers separated by commas: 2,4,6,8,12\n",
      "Sum of list elements: 32\n"
     ]
    }
   ],
   "source": [
    "1. #Write a Python program to find sum of elements in list?\n",
    "\n",
    "def sum_of_list_elements(lst):\n",
    "    sum = 0\n",
    "    for i in lst:\n",
    "        sum += i\n",
    "    return sum\n",
    "\n",
    "lst = input(\"Enter a list of numbers separated by commas: \")\n",
    "lst = lst.split(\",\")\n",
    "lst = [int(i) for i in lst]\n",
    "print(\"Sum of list elements:\", sum_of_list_elements(lst))\n",
    "\n"
   ]
  },
  {
   "cell_type": "code",
   "execution_count": 2,
   "id": "e07bbef5",
   "metadata": {},
   "outputs": [
    {
     "name": "stdout",
     "output_type": "stream",
     "text": [
      "Enter a list of numbers separated by commas: 2,4,6,8\n",
      "Product of list elements: 384\n"
     ]
    }
   ],
   "source": [
    "2. #Write a Python program to Multiply all numbers in the list?\n",
    "\n",
    "def multiply_list_numbers(lst):\n",
    "    result = 1\n",
    "    for i in lst:\n",
    "        result *= i\n",
    "    return result\n",
    "\n",
    "lst = input(\"Enter a list of numbers separated by commas: \")\n",
    "lst = lst.split(\",\")\n",
    "lst = [int(i) for i in lst]\n",
    "print(\"Product of list elements:\", multiply_list_numbers(lst))\n"
   ]
  },
  {
   "cell_type": "code",
   "execution_count": 3,
   "id": "6947df8d",
   "metadata": {},
   "outputs": [
    {
     "name": "stdout",
     "output_type": "stream",
     "text": [
      "Enter a list of numbers separated by commas: 3,4,6,8,1\n",
      "Smallest number in the list: 1\n"
     ]
    }
   ],
   "source": [
    "3. #Write a Python program to find smallest number in a list?\n",
    "\n",
    "def find_smallest(lst):\n",
    "    if len(lst) == 0:\n",
    "        return None\n",
    "    else:\n",
    "        smallest = lst[0]\n",
    "        for num in lst:\n",
    "            if num < smallest:\n",
    "                smallest = num\n",
    "        return smallest\n",
    "\n",
    "lst = input(\"Enter a list of numbers separated by commas: \")\n",
    "lst = lst.split(\",\")\n",
    "lst = [int(i) for i in lst]\n",
    "print(\"Smallest number in the list:\", find_smallest(lst))\n"
   ]
  },
  {
   "cell_type": "code",
   "execution_count": 4,
   "id": "d1d83d97",
   "metadata": {},
   "outputs": [
    {
     "name": "stdout",
     "output_type": "stream",
     "text": [
      "Enter a list of numbers separated by commas: 11,23,45,64\n",
      "Largest number in the list: 64\n"
     ]
    }
   ],
   "source": [
    "4. #Write a Python program to find largest number in a list?\n",
    "\n",
    "def find_largest(lst):\n",
    "    if len(lst) == 0:\n",
    "        return None\n",
    "    else:\n",
    "        largest = lst[0]\n",
    "        for num in lst:\n",
    "            if num > largest:\n",
    "                largest = num\n",
    "        return largest\n",
    "\n",
    "lst = input(\"Enter a list of numbers separated by commas: \")\n",
    "lst = lst.split(\",\")\n",
    "lst = [int(i) for i in lst]\n",
    "print(\"Largest number in the list:\", find_largest(lst))\n"
   ]
  },
  {
   "cell_type": "code",
   "execution_count": 5,
   "id": "4028e065",
   "metadata": {},
   "outputs": [
    {
     "name": "stdout",
     "output_type": "stream",
     "text": [
      "Enter a list of numbers separated by commas: 11,23,43,56,76\n",
      "Second largest number in the list: 56\n"
     ]
    }
   ],
   "source": [
    "5. #Write a Python program to find second largest number in a list?\n",
    "\n",
    "def find_second_largest(lst):\n",
    "    if len(lst) < 2:\n",
    "        return None\n",
    "    elif len(lst) == 2:\n",
    "        return min(lst)\n",
    "    else:\n",
    "        largest = max(lst[0], lst[1])\n",
    "        second_largest = min(lst[0], lst[1])\n",
    "        for i in range(2, len(lst)):\n",
    "            if lst[i] > largest:\n",
    "                second_largest = largest\n",
    "                largest = lst[i]\n",
    "            elif lst[i] > second_largest:\n",
    "                second_largest = lst[i]\n",
    "        return second_largest\n",
    "\n",
    "lst = input(\"Enter a list of numbers separated by commas: \")\n",
    "lst = lst.split(\",\")\n",
    "lst = [int(i) for i in lst]\n",
    "print(\"Second largest number in the list:\", find_second_largest(lst))\n"
   ]
  },
  {
   "cell_type": "code",
   "execution_count": 6,
   "id": "22cd1a87",
   "metadata": {},
   "outputs": [
    {
     "name": "stdout",
     "output_type": "stream",
     "text": [
      "[9, 8, 7]\n"
     ]
    }
   ],
   "source": [
    "6. #Write a Python program to find N largest elements from a list?\n",
    "\n",
    "def find_n_largest_elements(input_list, n):\n",
    "    # sort the list in descending order\n",
    "    input_list.sort(reverse=True)\n",
    "    # return the first n elements\n",
    "    return input_list[:n]\n",
    "# define a list of numbers\n",
    "my_list = [5, 9, 1, 4, 7, 8, 2, 3]\n",
    "\n",
    "# find the 3 largest elements in the list\n",
    "n = 3\n",
    "largest_elements = find_n_largest_elements(my_list, n)\n",
    "\n",
    "# print the largest elements\n",
    "print(largest_elements)\n"
   ]
  },
  {
   "cell_type": "code",
   "execution_count": 7,
   "id": "c64c72c2",
   "metadata": {},
   "outputs": [
    {
     "name": "stdout",
     "output_type": "stream",
     "text": [
      "4\n",
      "8\n",
      "2\n"
     ]
    }
   ],
   "source": [
    "7. #Write a Python program to print even numbers in a list?\n",
    "\n",
    "def print_even_numbers(input_list):\n",
    "    # iterate through the list\n",
    "    for number in input_list:\n",
    "        # check if the number is even\n",
    "        if number % 2 == 0:\n",
    "            # print the even number\n",
    "            print(number)\n",
    "# define a list of numbers\n",
    "my_list = [5, 9, 1, 4, 7, 8, 2, 3]\n",
    "\n",
    "# print the even numbers in the list\n",
    "print_even_numbers(my_list)\n"
   ]
  },
  {
   "cell_type": "code",
   "execution_count": 8,
   "id": "9804e357",
   "metadata": {},
   "outputs": [
    {
     "name": "stdout",
     "output_type": "stream",
     "text": [
      "5\n",
      "9\n",
      "1\n",
      "7\n",
      "3\n"
     ]
    }
   ],
   "source": [
    "8. #Write a Python program to print odd numbers in a List?\n",
    "\n",
    "def print_odd_numbers(input_list):\n",
    "    # iterate through the list\n",
    "    for number in input_list:\n",
    "        # check if the number is odd\n",
    "        if number % 2 != 0:\n",
    "            # print the odd number\n",
    "            print(number)\n",
    "# define a list of numbers\n",
    "my_list = [5, 9, 1, 4, 7, 8, 2, 3]\n",
    "\n",
    "# print the odd numbers in the list\n",
    "print_odd_numbers(my_list)\n"
   ]
  },
  {
   "cell_type": "code",
   "execution_count": 9,
   "id": "eaaec52a",
   "metadata": {},
   "outputs": [
    {
     "name": "stdout",
     "output_type": "stream",
     "text": [
      "[[1, 2], [3, 4], [5, 6, 7]]\n"
     ]
    }
   ],
   "source": [
    "9. #Write a Python program to Remove empty List from List?\n",
    "\n",
    "def remove_empty_lists(input_list):\n",
    "    # use list comprehension to create a new list without empty lists\n",
    "    return [x for x in input_list if x]\n",
    "\n",
    "# define a list with some empty lists\n",
    "my_list = [[1, 2], [], [3, 4], [], [], [5, 6, 7], []]\n",
    "\n",
    "# remove the empty lists from the list\n",
    "new_list = remove_empty_lists(my_list)\n",
    "\n",
    "# print the new list without empty lists\n",
    "print(new_list)\n"
   ]
  },
  {
   "cell_type": "code",
   "execution_count": 10,
   "id": "d5bb2156",
   "metadata": {},
   "outputs": [
    {
     "name": "stdout",
     "output_type": "stream",
     "text": [
      "[1, 2, 3, 4, 5]\n",
      "[1, 2, 3, 4, 5, 6]\n"
     ]
    }
   ],
   "source": [
    "10. #Write a Python program to Cloning or Copying a list?\n",
    "\n",
    "def clone_list(input_list):\n",
    "    # use slicing to create a copy of the list\n",
    "    return input_list[:]\n",
    "# define a list to be copied\n",
    "my_list = [1, 2, 3, 4, 5]\n",
    "\n",
    "# make a copy of the list\n",
    "new_list = clone_list(my_list)\n",
    "\n",
    "# modify the copy\n",
    "new_list.append(6)\n",
    "\n",
    "# print both lists\n",
    "print(my_list)\n",
    "print(new_list)\n"
   ]
  },
  {
   "cell_type": "code",
   "execution_count": 11,
   "id": "29418b47",
   "metadata": {},
   "outputs": [
    {
     "name": "stdout",
     "output_type": "stream",
     "text": [
      "4\n"
     ]
    }
   ],
   "source": [
    "11. #Write a Python program to Count occurrences of an element in a list?\n",
    "\n",
    "def count_occurrences(input_list, element):\n",
    "    # use the count() method to count the occurrences\n",
    "    return input_list.count(element)\n",
    "# define a list to be searched\n",
    "my_list = [1, 2, 3, 2, 4, 2, 5, 2]\n",
    "\n",
    "# count the occurrences of the element 2 in the list\n",
    "count = count_occurrences(my_list, 2)\n",
    "\n",
    "# print the count\n",
    "print(count)\n"
   ]
  },
  {
   "cell_type": "code",
   "execution_count": null,
   "id": "da530e84",
   "metadata": {},
   "outputs": [],
   "source": []
  }
 ],
 "metadata": {
  "kernelspec": {
   "display_name": "Python 3 (ipykernel)",
   "language": "python",
   "name": "python3"
  },
  "language_info": {
   "codemirror_mode": {
    "name": "ipython",
    "version": 3
   },
   "file_extension": ".py",
   "mimetype": "text/x-python",
   "name": "python",
   "nbconvert_exporter": "python",
   "pygments_lexer": "ipython3",
   "version": "3.9.7"
  }
 },
 "nbformat": 4,
 "nbformat_minor": 5
}
