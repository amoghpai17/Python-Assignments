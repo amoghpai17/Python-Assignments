{
 "cells": [
  {
   "cell_type": "code",
   "execution_count": 1,
   "id": "1c8c9961",
   "metadata": {},
   "outputs": [
    {
     "name": "stdout",
     "output_type": "stream",
     "text": [
      "Enter the number of kilometers: 45\n",
      "45.0 kilometers is equal to 27.961695 miles\n"
     ]
    }
   ],
   "source": [
    "1. #Write a Python program to convert kilometers to miles?\n",
    "\n",
    "# take input from the user\n",
    "kilometers = float(input(\"Enter the number of kilometers: \"))\n",
    "\n",
    "# conversion factor\n",
    "conv_fac = 0.621371\n",
    "\n",
    "# calculate miles\n",
    "miles = kilometers * conv_fac\n",
    "\n",
    "# print the result\n",
    "print(kilometers, \"kilometers is equal to\", miles, \"miles\")\n"
   ]
  },
  {
   "cell_type": "code",
   "execution_count": 2,
   "id": "04e221e6",
   "metadata": {},
   "outputs": [
    {
     "name": "stdout",
     "output_type": "stream",
     "text": [
      "Enter temperature in Celsius: 42\n",
      "42.0 degrees Celsius is equal to 107.60000000000001 degrees Fahrenheit\n"
     ]
    }
   ],
   "source": [
    "2. #Write a Python program to convert Celsius to Fahrenheit?\n",
    "\n",
    "# take input from the user\n",
    "celsius = float(input(\"Enter temperature in Celsius: \"))\n",
    "\n",
    "# calculate temperature in Fahrenheit\n",
    "fahrenheit = (celsius * 1.8) + 32\n",
    "\n",
    "# print the result\n",
    "print(celsius, \"degrees Celsius is equal to\", fahrenheit, \"degrees Fahrenheit\")\n"
   ]
  },
  {
   "cell_type": "code",
   "execution_count": 3,
   "id": "cb6c826a",
   "metadata": {},
   "outputs": [
    {
     "name": "stdout",
     "output_type": "stream",
     "text": [
      "Enter year: 1999\n",
      "Enter month: 09\n",
      "   September 1999\n",
      "Mo Tu We Th Fr Sa Su\n",
      "       1  2  3  4  5\n",
      " 6  7  8  9 10 11 12\n",
      "13 14 15 16 17 18 19\n",
      "20 21 22 23 24 25 26\n",
      "27 28 29 30\n",
      "\n"
     ]
    }
   ],
   "source": [
    "3. #Write a Python program to display calendar?\n",
    "\n",
    "import calendar\n",
    "\n",
    "# take input from the user\n",
    "year = int(input(\"Enter year: \"))\n",
    "month = int(input(\"Enter month: \"))\n",
    "\n",
    "# display the calendar\n",
    "print(calendar.month(year, month))\n"
   ]
  },
  {
   "cell_type": "code",
   "execution_count": 4,
   "id": "45369dad",
   "metadata": {},
   "outputs": [
    {
     "name": "stdout",
     "output_type": "stream",
     "text": [
      "Enter the value of a: 2\n",
      "Enter the value of b: 3\n",
      "Enter the value of c: 4\n",
      "The solutions are (-0.75-1.1989578808281798j) and (-0.75+1.1989578808281798j)\n"
     ]
    }
   ],
   "source": [
    "4. #Write a Python program to solve quadratic equation?\n",
    "\n",
    "import cmath\n",
    "\n",
    "# take input from the user\n",
    "a = float(input(\"Enter the value of a: \"))\n",
    "b = float(input(\"Enter the value of b: \"))\n",
    "c = float(input(\"Enter the value of c: \"))\n",
    "\n",
    "# calculate the discriminant\n",
    "d = (b**2) - (4*a*c)\n",
    "\n",
    "# find two solutions\n",
    "sol1 = (-b - cmath.sqrt(d)) / (2*a)\n",
    "sol2 = (-b + cmath.sqrt(d)) / (2*a)\n",
    "\n",
    "# print the solutions\n",
    "print(\"The solutions are {0} and {1}\".format(sol1, sol2))\n"
   ]
  },
  {
   "cell_type": "code",
   "execution_count": 5,
   "id": "b907ed94",
   "metadata": {},
   "outputs": [
    {
     "name": "stdout",
     "output_type": "stream",
     "text": [
      "Enter the value of x: 5\n",
      "Enter the value of y: 2\n",
      "Before swapping: x = 5, y = 2\n",
      "After swapping: x = 2, y = 5\n"
     ]
    }
   ],
   "source": [
    "5. #Write a Python program to swap two variables without temp variable?\n",
    "\n",
    "# take input from the user\n",
    "x = int(input(\"Enter the value of x: \"))\n",
    "y = int(input(\"Enter the value of y: \"))\n",
    "\n",
    "# print the values before swapping\n",
    "print(\"Before swapping: x = {0}, y = {1}\".format(x, y))\n",
    "\n",
    "# swap the values\n",
    "x, y = y, x\n",
    "\n",
    "# print the values after swapping\n",
    "print(\"After swapping: x = {0}, y = {1}\".format(x, y))\n"
   ]
  }
 ],
 "metadata": {
  "kernelspec": {
   "display_name": "Python 3 (ipykernel)",
   "language": "python",
   "name": "python3"
  },
  "language_info": {
   "codemirror_mode": {
    "name": "ipython",
    "version": 3
   },
   "file_extension": ".py",
   "mimetype": "text/x-python",
   "name": "python",
   "nbconvert_exporter": "python",
   "pygments_lexer": "ipython3",
   "version": "3.9.7"
  }
 },
 "nbformat": 4,
 "nbformat_minor": 5
}
