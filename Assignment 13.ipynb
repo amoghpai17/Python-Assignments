{
 "cells": [
  {
   "cell_type": "markdown",
   "id": "97c4c37b",
   "metadata": {},
   "source": [
    "1.What advantages do Excel spreadsheets have over CSV spreadsheets?\n",
    "\n",
    "ANS-\n",
    "1 - Formatting and Styling: Excel allows users to format and style data in a more visually appealing and organized way than CSV files. This includes features such as cell borders, font styles, color-coding, and conditional formatting.\n",
    "\n",
    "2 - Formulas and Functions: Excel has a vast range of built-in formulas and functions that allow users to perform complex calculations and analysis on data. These include mathematical functions, statistical functions, and more advanced functions for financial and scientific calculations.\n",
    "\n",
    "3 - Charts and Graphs: Excel makes it easy to create charts and graphs to visualize data. This can be useful for presenting data to others or for gaining insights into trends and patterns.\n",
    "\n",
    "4 - Data Validation: Excel allows users to set up data validation rules to ensure that data is entered correctly and consistently. This can help to prevent errors and ensure the accuracy of data.\n",
    "\n",
    "5 - Collaboration: Excel makes it easy for multiple users to collaborate on a spreadsheet simultaneously, with features such as track changes and comments.\n"
   ]
  },
  {
   "cell_type": "markdown",
   "id": "2c26efa4",
   "metadata": {},
   "source": [
    "2.What do you pass to csv.reader() and csv.writer() to create reader and writer objects?\n",
    "\n",
    "ANS-\n",
    "To create a reader object, you can pass an open file object (in read mode) that contains the CSV data as the first argument to csv.reader()\n",
    "\n",
    "To create a writer object, you can pass an open file object (in write mode) and optionally specify the desired delimiter and quote character as the first argument to csv.writer()"
   ]
  },
  {
   "cell_type": "markdown",
   "id": "68df3789",
   "metadata": {},
   "source": [
    "3.What modes do File objects for reader and writer objects need to be opened in?\n",
    "\n",
    "ANS-\n",
    "For a reader object, the file object should be opened in read-only mode ('r'), because the reader object only reads data from the file. \n",
    "\n",
    "For a writer object, the file object should be opened in write mode ('w'), because the writer object writes data to the file. In addition, you should also specify the newline='' parameter to ensure that the correct line endings are used when writing data to the CSV file."
   ]
  },
  {
   "cell_type": "markdown",
   "id": "c544277f",
   "metadata": {},
   "source": [
    "4.What method takes a list argument and writes it to a CSV file?\n",
    "\n",
    "ANS-\n",
    "The 'writerow()' method of a 'csv.writer' object takes a list argument and writes it to a CSV file."
   ]
  },
  {
   "cell_type": "markdown",
   "id": "f8ce44fe",
   "metadata": {},
   "source": [
    "5.What do the keyword arguments delimiter and line terminator do?\n",
    "\n",
    "ANS-\n",
    "delimiter: This keyword argument specifies the character used to separate fields in a CSV file. By default, the 'csv.writer' object uses a comma (',') as the delimiter, but you can specify a different character using the delimiter argument. \n",
    "\n",
    "lineterminator: This keyword argument specifies the character(s) used to terminate each row of data in a CSV file. "
   ]
  },
  {
   "cell_type": "markdown",
   "id": "6ef41250",
   "metadata": {},
   "source": [
    "6.What function takes a string of JSON data and returns a Python data structure?\n",
    "\n",
    "ANS-\n",
    "The 'json.loads()' function takes a string of JSON data as input and returns a Python data structure that represents the parsed JSON data."
   ]
  },
  {
   "cell_type": "markdown",
   "id": "8f955fd7",
   "metadata": {},
   "source": [
    "7.What function takes a Python data structure and returns a string of JSON data?\n",
    "\n",
    "ANS-\n",
    "The 'json.dumps()' function takes a Python data structure as input and returns a string of JSON data that represents the input data structure."
   ]
  }
 ],
 "metadata": {
  "kernelspec": {
   "display_name": "Python 3 (ipykernel)",
   "language": "python",
   "name": "python3"
  },
  "language_info": {
   "codemirror_mode": {
    "name": "ipython",
    "version": 3
   },
   "file_extension": ".py",
   "mimetype": "text/x-python",
   "name": "python",
   "nbconvert_exporter": "python",
   "pygments_lexer": "ipython3",
   "version": "3.9.7"
  }
 },
 "nbformat": 4,
 "nbformat_minor": 5
}
