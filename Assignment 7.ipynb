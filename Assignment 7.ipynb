{
 "cells": [
  {
   "cell_type": "markdown",
   "id": "eb1c78fc",
   "metadata": {},
   "source": [
    "1.What is the name of the feature responsible for generating Regex objects?\n",
    "\n",
    "ANS-\n",
    " The feature responsible for generating Regex objects is the re module, which provides support for regular expressions (regex). More specifically, the re.compile() function is used to create a Regex object from a regular expression pattern string. The resulting object can then be used to search, match, or manipulate strings that match the specified pattern."
   ]
  },
  {
   "cell_type": "markdown",
   "id": "21dff42f",
   "metadata": {},
   "source": [
    "2.Why do raw strings often appear in Regex objects?\n",
    "\n",
    "ANS-\n",
    "Raw strings are often used in regular expressions (regex) because they allow the use of special characters, such as backslashes ('\\'), without having to escape them with another backslash."
   ]
  },
  {
   "cell_type": "markdown",
   "id": "d8e6539f",
   "metadata": {},
   "source": [
    "3.What is the return value of the search() method?\n",
    "\n",
    "ANS-\n",
    "The search() method in Python's regular expression module returns a match object if it finds a match for the regular expression pattern in the searched string. If no match is found, the method returns 'None'.\n",
    "\n",
    "The match object contains information about the match, including the starting and ending position of the match within the searched string, as well as the matched substring itself."
   ]
  },
  {
   "cell_type": "markdown",
   "id": "f3414202",
   "metadata": {},
   "source": [
    "4.From a Match item, how do you get the actual strings that match the pattern?\n",
    "\n",
    "ANS-\n",
    "We can use the group() method of a match object to get the actual string(s) that match a regular expression pattern."
   ]
  },
  {
   "cell_type": "markdown",
   "id": "55c1b9ef",
   "metadata": {},
   "source": [
    "5.In the regex which created from the r'(\\d\\d\\d)-(\\d\\d\\d-\\d\\d\\d\\d)', what does group zero cover?\n",
    "Group 2? Group 1?\n",
    "\n",
    "ANS-\n",
    "\n",
    "The regular expression r'(\\d\\d\\d)-(\\d\\d\\d-\\d\\d\\d\\d)' defines two capture groups, indicated by the parentheses in the pattern.\n",
    "\n",
    "Group 0 (also called the whole match) covers the entire substring that matches the regular expression pattern, including both capture groups.\n",
    "Group 1 covers the first capture group, which matches a sequence of three digits separated by a hyphen.\n",
    "Group 2 covers the second capture group, which matches a sequence of three digits, a hyphen, and four more digits."
   ]
  },
  {
   "cell_type": "markdown",
   "id": "3878eb92",
   "metadata": {},
   "source": [
    "6.In standard expression syntax, parentheses and intervals have distinct meanings. How can you tell\n",
    "a regex that you want it to fit real parentheses and periods?\n",
    "\n",
    "ANS-\n",
    "In regular expressions, parentheses and periods have special meanings and are used to define groups and match any character, respectively. To match real parentheses and periods, you need to \"escape\" them with a backslash ('\\') character.\n",
    "\n",
    "In other words, to match a real left parenthesis, you can use the regular expression '\\(', and to match a real right parenthesis, you can use '\\)'.\n",
    "\n",
    "Similarly, to match a real period (or \"dot\"), you can use the regular expression '\\.'."
   ]
  },
  {
   "cell_type": "markdown",
   "id": "a6ef74bd",
   "metadata": {},
   "source": [
    "7.The findall() method returns a string list or a list of string tuples. What causes it to return one of\n",
    "the two options?\n",
    "\n",
    "ANS-\n",
    "\n",
    "Whether findall() returns a list of strings or a list of tuples depends on the regular expression pattern used and the capturing groups within that pattern.\n",
    "\n",
    "If the regular expression pattern has no capturing groups (i.e., no parentheses), findall() will return a list of strings. Each string in the list will be a match for the entire pattern.\n",
    "\n",
    "If the regular expression pattern has one or more capturing groups (i.e., one or more sets of parentheses), findall() will return a list of tuples. Each tuple in the list will contain the captured substrings for each capturing group in the pattern.\n",
    "\n"
   ]
  },
  {
   "cell_type": "markdown",
   "id": "45388c07",
   "metadata": {},
   "source": [
    "8.In standard expressions, what does the | character mean?\n",
    "\n",
    "ANS-\n",
    "In standard expressions, the | character represents the logical OR operator, which allows you to match one pattern or another."
   ]
  },
  {
   "cell_type": "markdown",
   "id": "ef833ad3",
   "metadata": {},
   "source": [
    "9.In regular expressions, what does the character stand for?\n",
    "\n",
    "ANS-\n",
    "In regular expressions, the dot (.) character, also known as the period or wildcard, matches any single character except for a newline character."
   ]
  },
  {
   "cell_type": "markdown",
   "id": "4b354e8e",
   "metadata": {},
   "source": [
    "10.In regular expressions, what is the difference between the + and * characters?\n",
    "\n",
    "ANS-\n",
    "n regular expressions, the + and * characters are both quantifiers that specify how many times the preceding character or group should be matched. \n",
    "The + character matches one or more occurrences of the preceding character or group. \n",
    "The * character matches zero or more occurrences of the preceding character or group. "
   ]
  },
  {
   "cell_type": "markdown",
   "id": "4ca147ed",
   "metadata": {},
   "source": [
    "11.What is the difference between {4} and {4,5} in regular expression?\n",
    "\n",
    "ANS-\n",
    "{4} matches exactly four occurrences of the preceding character or group. \n",
    "4,5} matches between four and five occurrences of the preceding character or group. "
   ]
  },
  {
   "cell_type": "markdown",
   "id": "dfe02290",
   "metadata": {},
   "source": [
    "12.What do you mean by the \\d, \\w, and \\s shorthand character classes signify in regular\n",
    "expressions?\n",
    "\n",
    "ANS-\n",
    "\\d matches any digit character (0-9). It is equivalent to the character class [0-9].\n",
    "\\w matches any word character, which includes uppercase and lowercase letters, digits, and underscores. It is equivalent to the character class [a-zA-Z0-9_]. \n",
    "\\s matches any whitespace character, including spaces, tabs, and newlines. It is equivalent to the character class [\\t\\n\\f\\r\\p{Z}]."
   ]
  },
  {
   "cell_type": "markdown",
   "id": "4804d0c6",
   "metadata": {},
   "source": [
    "13.What do means by \\D, \\W, and \\S shorthand character classes signify in regular expressions?\n",
    "\n",
    "ANS-\n",
    "\\D matches any character that is not a digit (0-9). It is equivalent to the character class [^0-9]\n",
    "\\W matches any character that is not a word character (i.e., not a letter, digit, or underscore). It is equivalent to the character class [^a-zA-Z0-9_].\n",
    "\\S matches any character that is not whitespace. It is equivalent to the character class [^\\t\\n\\f\\r\\p{Z}]. "
   ]
  },
  {
   "cell_type": "markdown",
   "id": "e117c047",
   "metadata": {},
   "source": [
    "14.What is the difference between .*? and .*?\n",
    "\n",
    "ANS-\n",
    ".*? matches zero or more characters of any type, but as few as possible to make the overall pattern match. It is often used to capture a specific portion of a string that is surrounded by other characters.\n",
    "\n",
    ".* matches zero or more characters of any type, and as many as possible to make the overall pattern match. It is often used to match a substring that spans multiple lines, or to capture everything after a certain point in a string."
   ]
  },
  {
   "cell_type": "markdown",
   "id": "98858a6a",
   "metadata": {},
   "source": [
    "15.What is the syntax for matching both numbers and lowercase letters with a character class?\n",
    "\n",
    "ANS-\n",
    "To match both numbers and lowercase letters using a character class in regular expressions,\n",
    "[0-9a-z]\n"
   ]
  },
  {
   "cell_type": "markdown",
   "id": "770df9ab",
   "metadata": {},
   "source": [
    "16.What is the procedure for making a normal expression in regax case insensitive?\n",
    "\n",
    "ANS-\n",
    "Use the \"re.IGNORECASE\" or \"re.I\" flag when calling the \"re.compile()\" function. For example: 're.compile(r'hello', re.IGNORECASE)' matches \"hello\", \"Hello\", \"HELLO\", etc."
   ]
  },
  {
   "cell_type": "markdown",
   "id": "1c781757",
   "metadata": {},
   "source": [
    "17.What does the . character normally match? What does it match if re.DOTALL is passed as 2nd\n",
    "argument in re.compile()?\n",
    "\n",
    "ANS-\n",
    "In regular expressions, the dot (.) character normally matches any character except for a newline character (\\n). This means that it matches any character that is not a line break, including letters, digits, whitespace, and punctuation.\n",
    "\n",
    "If you pass the re.DOTALL (or re.S) flag as the second argument to the re.compile() function in Python, it changes the behavior of the dot (.) character. With this flag, the dot (.) character matches any character, including a newline character (\\n). This means that it matches any character at all, spanning multiple lines if necessary."
   ]
  },
  {
   "cell_type": "markdown",
   "id": "58fc043f",
   "metadata": {},
   "source": [
    "18.If numReg = re.compile(r'\\d+'), what will numRegex.sub('X', '11 drummers, 10 pipers, five rings, 4\n",
    "hen') return?\n",
    "\n",
    "ANS-\n",
    "\n",
    "X drummers, X pipers, five rings, X hen\n"
   ]
  },
  {
   "cell_type": "markdown",
   "id": "dd481bda",
   "metadata": {},
   "source": [
    "19.What does passing re.VERBOSE as the 2nd argument to re.compile() allow to do?\n",
    "\n",
    "ANS-\n",
    "Passing re.VERBOSE as the second argument to re.compile() in Python allows you to use verbose mode in regular expressions."
   ]
  },
  {
   "cell_type": "code",
   "execution_count": 1,
   "id": "10dc44bb",
   "metadata": {},
   "outputs": [
    {
     "name": "stdout",
     "output_type": "stream",
     "text": [
      "42: MATCH\n",
      "1,234: MATCH\n",
      "6,368,745: MATCH\n",
      "12,34,567: NO MATCH\n",
      "1234: NO MATCH\n"
     ]
    }
   ],
   "source": [
    "#20.\n",
    "'''How would you write a regex that match a number with comma for every three digits? It must\n",
    "match the given following:\n",
    "'42'\n",
    "'1,234'\n",
    "'6,368,745'\n",
    "but not the following:\n",
    "'12,34,567' (which has only two digits between the commas)\n",
    "'1234' (which lacks commas)'''\n",
    "\n",
    "\n",
    "import re\n",
    "\n",
    "# Compile the regular expression\n",
    "pattern = re.compile(r'^\\d{1,3}(,\\d{3})*$')\n",
    "\n",
    "# Test the regular expression on some inputs\n",
    "inputs = ['42', '1,234', '6,368,745', '12,34,567', '1234']\n",
    "\n",
    "for input_str in inputs:\n",
    "    if pattern.match(input_str):\n",
    "        print(f\"{input_str}: MATCH\")\n",
    "    else:\n",
    "        print(f\"{input_str}: NO MATCH\")\n"
   ]
  },
  {
   "cell_type": "code",
   "execution_count": 3,
   "id": "6384f1a7",
   "metadata": {},
   "outputs": [
    {
     "name": "stdout",
     "output_type": "stream",
     "text": [
      "Haruto Watanabe: MATCH\n",
      "Alice Watanabe: MATCH\n",
      "RoboCop Watanabe: NO MATCH\n",
      "haruto Watanabe: NO MATCH\n",
      "Mr.Watanabe: NO MATCH\n",
      "Watanabe: NO MATCH\n",
      "Haruto watanabe: NO MATCH\n"
     ]
    }
   ],
   "source": [
    "#21.\n",
    "'''How would you write a regex that matches the full name of someone whose last name is\n",
    "Watanabe? You can assume that the first name that comes before it will always be one word that\n",
    "begins with a capital letter. The regex must match the following:\n",
    "'Haruto Watanabe'\n",
    "'Alice Watanabe'\n",
    "'RoboCop Watanabe'\n",
    "but not the following:\n",
    "'haruto Watanabe' (where the first name is not capitalized)\n",
    "'Mr.Watanabe' (where the preceding word has a nonletter character)\n",
    "'Watanabe' (which has no first name)\n",
    "'Haruto watanabe' (where Watanabe is not capitalized)'''\n",
    "\n",
    "\n",
    "import re\n",
    "\n",
    "# Compile the regular expression\n",
    "pattern = re.compile(r'^[A-Z][a-z]*\\sWatanabe$')\n",
    "\n",
    "# Test the regular expression\n",
    "inputs = ['Haruto Watanabe', 'Alice Watanabe', 'RoboCop Watanabe', 'haruto Watanabe', 'Mr.Watanabe', 'Watanabe', 'Haruto watanabe']\n",
    "\n",
    "for input_str in inputs:\n",
    "    if pattern.match(input_str):\n",
    "        print(f\"{input_str}: MATCH\")\n",
    "    else:\n",
    "        print(f\"{input_str}: NO MATCH\")\n"
   ]
  },
  {
   "cell_type": "code",
   "execution_count": 5,
   "id": "52f52627",
   "metadata": {},
   "outputs": [
    {
     "name": "stdout",
     "output_type": "stream",
     "text": [
      "Alice eats apples.: MATCH\n",
      "Bob pets cats.: MATCH\n",
      "Carol throws baseballs.: MATCH\n",
      "Alice throws Apples.: MATCH\n",
      "BOB EATS CATS.: MATCH\n",
      "RoboCop eats apples.: NO MATCH\n",
      "ALICE THROWS FOOTBALLS.: NO MATCH\n",
      "Carol eats 7 cats.: NO MATCH\n"
     ]
    }
   ],
   "source": [
    "#22.\n",
    "'''How would you write a regex that matches a sentence where the first word is either Alice, Bob,\n",
    "or Carol; the second word is either eats, pets, or throws; the third word is apples, cats, or baseballs;\n",
    "and the sentence ends with a period? This regex should be case-insensitive. It must match the\n",
    "following:\n",
    "'Alice eats apples.'\n",
    "'Bob pets cats.'\n",
    "'Carol throws baseballs.'\n",
    "'Alice throws Apples.'\n",
    "'BOB EATS CATS.'\n",
    "but not the following:\n",
    "'RoboCop eats apples.'\n",
    "'ALICE THROWS FOOTBALLS.'\n",
    "'Carol eats 7 cats.'  '''\n",
    "\n",
    "\n",
    "\n",
    "import re\n",
    "\n",
    "# Compile the regular expression with the re.IGNORECASE flag for case-insensitivity\n",
    "pattern = re.compile(r'^(Alice|Bob|Carol)\\s+(eats|pets|throws)\\s+(apples|cats|baseballs)\\.$', re.IGNORECASE)\n",
    "\n",
    "# Test the regular expression\n",
    "\n",
    "inputs = ['Alice eats apples.', 'Bob pets cats.', 'Carol throws baseballs.', 'Alice throws Apples.', 'BOB EATS CATS.', 'RoboCop eats apples.', 'ALICE THROWS FOOTBALLS.', 'Carol eats 7 cats.']\n",
    "\n",
    "for input_str in inputs:\n",
    "    if pattern.match(input_str):\n",
    "        print(f\"{input_str}: MATCH\")\n",
    "    else:\n",
    "        print(f\"{input_str}: NO MATCH\")\n"
   ]
  },
  {
   "cell_type": "code",
   "execution_count": null,
   "id": "c4e60090",
   "metadata": {},
   "outputs": [],
   "source": []
  }
 ],
 "metadata": {
  "kernelspec": {
   "display_name": "Python 3 (ipykernel)",
   "language": "python",
   "name": "python3"
  },
  "language_info": {
   "codemirror_mode": {
    "name": "ipython",
    "version": 3
   },
   "file_extension": ".py",
   "mimetype": "text/x-python",
   "name": "python",
   "nbconvert_exporter": "python",
   "pygments_lexer": "ipython3",
   "version": "3.9.7"
  }
 },
 "nbformat": 4,
 "nbformat_minor": 5
}
