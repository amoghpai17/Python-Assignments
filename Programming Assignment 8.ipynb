{
 "cells": [
  {
   "cell_type": "code",
   "execution_count": 1,
   "id": "9e732f11",
   "metadata": {},
   "outputs": [
    {
     "name": "stdout",
     "output_type": "stream",
     "text": [
      "[10, 10, 10]\n",
      "[10, 10, 10]\n",
      "[10, 10, 10]\n"
     ]
    }
   ],
   "source": [
    "1. #Write a Python Program to Add Two Matrices?\n",
    "\n",
    "def add_matrices(matrix1, matrix2):\n",
    "    result = []\n",
    "    for i in range(len(matrix1)):\n",
    "        row = []\n",
    "        for j in range(len(matrix1[0])):\n",
    "            row.append(matrix1[i][j] + matrix2[i][j])\n",
    "        result.append(row)\n",
    "    return result\n",
    "\n",
    "# Example usage\n",
    "matrix1 = [[1, 2, 3], [4, 5, 6], [7, 8, 9]]\n",
    "matrix2 = [[9, 8, 7], [6, 5, 4], [3, 2, 1]]\n",
    "result = add_matrices(matrix1, matrix2)\n",
    "for row in result:\n",
    "    print(row)\n"
   ]
  },
  {
   "cell_type": "code",
   "execution_count": 2,
   "id": "25b9f609",
   "metadata": {},
   "outputs": [
    {
     "name": "stdout",
     "output_type": "stream",
     "text": [
      "[19, 22]\n",
      "[43, 50]\n"
     ]
    }
   ],
   "source": [
    "2. #Write a Python Program to Multiply Two Matrices?\n",
    "\n",
    "def multiply_matrices(matrix1, matrix2):\n",
    "    result = []\n",
    "    for i in range(len(matrix1)):\n",
    "        row = []\n",
    "        for j in range(len(matrix2[0])):\n",
    "            element = 0\n",
    "            for k in range(len(matrix2)):\n",
    "                element += matrix1[i][k] * matrix2[k][j]\n",
    "            row.append(element)\n",
    "        result.append(row)\n",
    "    return result\n",
    "\n",
    "# Example usage\n",
    "matrix1 = [[1, 2], [3, 4]]\n",
    "matrix2 = [[5, 6], [7, 8]]\n",
    "result = multiply_matrices(matrix1, matrix2)\n",
    "for row in result:\n",
    "    print(row)\n"
   ]
  },
  {
   "cell_type": "code",
   "execution_count": 3,
   "id": "b450c046",
   "metadata": {},
   "outputs": [
    {
     "name": "stdout",
     "output_type": "stream",
     "text": [
      "[1, 4, 7]\n",
      "[2, 5, 8]\n",
      "[3, 6, 9]\n"
     ]
    }
   ],
   "source": [
    "3. #Write a Python Program to Transpose a Matrix?\n",
    "\n",
    "def transpose_matrix(matrix):\n",
    "    rows = len(matrix)\n",
    "    cols = len(matrix[0])\n",
    "    result = [[0 for j in range(rows)] for i in range(cols)]\n",
    "    for i in range(rows):\n",
    "        for j in range(cols):\n",
    "            result[j][i] = matrix[i][j]\n",
    "    return result\n",
    "\n",
    "# Example usage\n",
    "matrix = [[1, 2, 3], [4, 5, 6], [7, 8, 9]]\n",
    "result = transpose_matrix(matrix)\n",
    "for row in result:\n",
    "    print(row)\n"
   ]
  },
  {
   "cell_type": "code",
   "execution_count": 4,
   "id": "1561c5d8",
   "metadata": {},
   "outputs": [
    {
     "name": "stdout",
     "output_type": "stream",
     "text": [
      "['apple', 'banana', 'cherry', 'date']\n"
     ]
    }
   ],
   "source": [
    "4. #Write a Python Program to Sort Words in Alphabetic Order?\n",
    "\n",
    "def sort_words(words):\n",
    "    words_list = words.split()\n",
    "    words_list.sort()\n",
    "    return words_list\n",
    "\n",
    "# Example usage\n",
    "words = \"apple banana cherry date\"\n",
    "sorted_words = sort_words(words)\n",
    "print(sorted_words)\n",
    "\n"
   ]
  },
  {
   "cell_type": "code",
   "execution_count": 5,
   "id": "72d277aa",
   "metadata": {},
   "outputs": [
    {
     "name": "stdout",
     "output_type": "stream",
     "text": [
      "Hello World This is an example text It contains punctuation\n"
     ]
    }
   ],
   "source": [
    "5. #Write a Python Program to Remove Punctuation From a String?\n",
    "\n",
    "import string\n",
    "\n",
    "def remove_punctuation(text):\n",
    "    translator = str.maketrans('', '', string.punctuation)\n",
    "    return text.translate(translator)\n",
    "\n",
    "# Example usage\n",
    "text = \"Hello, World! This is an example text. It contains punctuation.\"\n",
    "text_no_punct = remove_punctuation(text)\n",
    "print(text_no_punct)\n",
    "\n"
   ]
  },
  {
   "cell_type": "code",
   "execution_count": null,
   "id": "a364f70b",
   "metadata": {},
   "outputs": [],
   "source": []
  }
 ],
 "metadata": {
  "kernelspec": {
   "display_name": "Python 3 (ipykernel)",
   "language": "python",
   "name": "python3"
  },
  "language_info": {
   "codemirror_mode": {
    "name": "ipython",
    "version": 3
   },
   "file_extension": ".py",
   "mimetype": "text/x-python",
   "name": "python",
   "nbconvert_exporter": "python",
   "pygments_lexer": "ipython3",
   "version": "3.9.7"
  }
 },
 "nbformat": 4,
 "nbformat_minor": 5
}
