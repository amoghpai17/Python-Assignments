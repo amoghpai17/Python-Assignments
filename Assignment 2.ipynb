{
 "cells": [
  {
   "cell_type": "markdown",
   "id": "532888a6",
   "metadata": {},
   "source": [
    "1.What are the two values of the Boolean data type? How do you write them?\n",
    "\n",
    "ANS-\n",
    "The two values of the Boolean data type are \"true\" and \"false\".\n",
    "True is often represented by the integer value 1, and False is represented by the integer value 0."
   ]
  },
  {
   "cell_type": "markdown",
   "id": "071263b3",
   "metadata": {},
   "source": [
    "2.What are the three different types of Boolean operators?\n",
    "\n",
    "ANS-\n",
    "The three different types of Boolean operators-\n",
    "AND ,OR and NOT "
   ]
  },
  {
   "cell_type": "markdown",
   "id": "a46e03f8",
   "metadata": {},
   "source": [
    "3.Make a list of each Boolean operator's truth tables (i.e. every possible combination of Boolean\n",
    "values for the operator and what it evaluate ).\n",
    "\n",
    "ANS-\n",
    "AND operator:\n",
    "\n",
    "Input 1\t  Input 2\t  Output\n",
    "\n",
    " 0\t       0\t      0\n",
    " \n",
    " 0\t       1\t      0\n",
    " \n",
    " 1\t       0\t      0\n",
    " \n",
    " 1\t       1 \t      1\n",
    " \n",
    "OR operator:\n",
    "\n",
    "Input 1\t  Input 2\t  Output\n",
    "\n",
    " 0\t      0\t          0 \n",
    " \n",
    " 0\t      1\t          1\n",
    " \n",
    " 1\t      0\t          1\n",
    " \n",
    " 1\t      1\t          1\n",
    " \n",
    "NOT operator: \n",
    "\n",
    "Input\t  Output\n",
    "\n",
    " 0\t        1\n",
    " \n",
    " 1\t        0"
   ]
  },
  {
   "cell_type": "markdown",
   "id": "7f6cf332",
   "metadata": {},
   "source": [
    "4.What are the values of the following expressions?\n",
    "\n",
    "ANS-\n",
    "1- (5>4) and (3==5) = False\n",
    "2- not (5 > 4) = False\n",
    "3- (5>4) or (3==5) = True\n",
    "4- not((5>4) or (3==5)) = False\n",
    "5- (True and True) and (True == False) = False\n",
    "6- (not False) or (not True) = True"
   ]
  },
  {
   "cell_type": "markdown",
   "id": "a5c7b417",
   "metadata": {},
   "source": [
    "5.What are the six comparison operators?\n",
    "\n",
    "ANS-\n",
    "1-Equal to (==) - checks if two values are equal.\n",
    "2-Not equal to (!=) - checks if two values are not equal.\n",
    "3-Greater than (>) - checks if the left operand is greater than the right operand.\n",
    "4-Less than (<) - checks if the left operand is less than the right operand.\n",
    "5-Greater than or equal to (>=) - checks if the left operand is greater than or equal to the right operand.\n",
    "6-Less than or equal to (<=) - checks if the left operand is less than or equal to the right operand."
   ]
  },
  {
   "cell_type": "markdown",
   "id": "a39b5a40",
   "metadata": {},
   "source": [
    "6.How do you tell the difference between the equal to and assignment operators?Describe a\n",
    "condition and when you would use one.\n",
    "\n",
    "ANS-\n",
    "The difference between the two operators is that the assignment operator is used to assign a value to a variable, while the equal to operator is used to compare two values. When you use the assignment operator, you are assigning a value to a variable, which means that the value on the right side of the operator is being stored in the variable on the left side of the operator. When you use the equal to operator, you are comparing two values to see if they are equal.\n",
    "\n",
    "Eg- x = 5\n",
    "if x == 5:\n",
    "    print(\"x is equal to 5\")\n",
    "\n",
    "\n"
   ]
  },
  {
   "cell_type": "markdown",
   "id": "1c84a714",
   "metadata": {},
   "source": [
    "7.Identify the three blocks in this code:\n",
    "spam = 0\n",
    "if spam == 10:\n",
    "print('eggs')\n",
    "if spam > 5:\n",
    "print('bacon')\n",
    "else:\n",
    "print('ham')\n",
    "print('spam')\n",
    "print('spam')\n",
    "\n",
    "ANS-\n",
    "The three blocks are everything inside the if statement and the lines  print('bacon') and print('ham').\n",
    "\n",
    "print('eggs')\n",
    "if spam > 5:\n",
    "    print('bacon')\n",
    "else:\n",
    "    print('ham')\n",
    "print('spam')"
   ]
  },
  {
   "cell_type": "markdown",
   "id": "6aef04d0",
   "metadata": {},
   "source": [
    "8.Write code that prints Hello if 1 is stored in spam, prints Howdy if 2 is stored in spam, and prints\n",
    "Greetings! if anything else is stored in spam.\n",
    "\n",
    "ANS-\n",
    "\n",
    "if spam == 1:\n",
    "    print(\"Hello\")\n",
    "elif spam == 2:\n",
    "    print(\"Howdy\")\n",
    "else:\n",
    "    print(\"Greetings!\")"
   ]
  },
  {
   "cell_type": "markdown",
   "id": "8ee221d8",
   "metadata": {},
   "source": [
    "9.If your programme is stuck in an endless loop, what keys you’ll press?\n",
    "\n",
    "ANS-\n",
    "If a program is stuck in an endless loop, you can typically stop it by pressing the \"Ctrl\" and \"C\" keys on your keyboard simultaneously."
   ]
  },
  {
   "cell_type": "markdown",
   "id": "66267f6c",
   "metadata": {},
   "source": [
    "10.How can you tell the difference between break and continue?\n",
    "\n",
    "ANS-\n",
    "break: The break keyword is used to exit a loop prematurely. When break is executed inside a loop, the loop is terminated immediately, and the program control moves to the next statement after the loop. This means that any remaining iterations of the loop will be skipped.\n",
    "\n",
    "continue: The continue keyword is used to skip the current iteration of a loop and move on to the next one. When continue is executed inside a loop, the remaining statements in the current iteration are skipped, and the loop moves on to the next iteration."
   ]
  },
  {
   "cell_type": "markdown",
   "id": "b0c994f3",
   "metadata": {},
   "source": [
    "11.In a for loop, what is the difference between range(10), range(0, 10), and range(0, 10, 1)?\n",
    "\n",
    "ANS-\n",
    "range(10): This generates a sequence of numbers from 0 to 9. \n",
    "\n",
    "range(0, 10): This generates a sequence of numbers from 0 to 9. \n",
    "\n",
    "range(0, 10, 1): This generates a sequence of numbers from 0 to 9. \n",
    "\n",
    "There is no difference.\n"
   ]
  },
  {
   "cell_type": "markdown",
   "id": "bb5896a2",
   "metadata": {},
   "source": [
    "12.Write a short program that prints the numbers 1 to 10 using a for loop. Then write an equivalent\n",
    "program that prints the numbers 1 to 10 using a while loop.\n",
    "\n",
    "ANS-\n",
    "For loop-\n",
    "\n",
    "for i in range(1, 11):\n",
    "    print(i)\n",
    "\n",
    "while loop-\n",
    "\n",
    "i = 1\n",
    "while i <= 10:\n",
    "    print(i)\n",
    "    i += 1\n"
   ]
  },
  {
   "cell_type": "markdown",
   "id": "55c80303",
   "metadata": {},
   "source": [
    "13.If you had a function named bacon() inside a module named spam, how would you call it after\n",
    "importing spam?\n",
    "\n",
    "ANS-\n",
    "If you have a function named bacon() inside a module named spam, and you want to call the function after importing spam, you can do it like this:\n",
    "\n",
    "import spam\n",
    "\n",
    "spam.bacon()\n"
   ]
  },
  {
   "cell_type": "code",
   "execution_count": null,
   "id": "01c6a6a9",
   "metadata": {},
   "outputs": [],
   "source": []
  }
 ],
 "metadata": {
  "kernelspec": {
   "display_name": "Python 3 (ipykernel)",
   "language": "python",
   "name": "python3"
  },
  "language_info": {
   "codemirror_mode": {
    "name": "ipython",
    "version": 3
   },
   "file_extension": ".py",
   "mimetype": "text/x-python",
   "name": "python",
   "nbconvert_exporter": "python",
   "pygments_lexer": "ipython3",
   "version": "3.9.7"
  }
 },
 "nbformat": 4,
 "nbformat_minor": 5
}
