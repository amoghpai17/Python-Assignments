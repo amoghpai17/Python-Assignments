{
 "cells": [
  {
   "cell_type": "markdown",
   "id": "b5f9c3a9",
   "metadata": {},
   "source": [
    "Q1. What is the difference between __getattr__ and __getattribute__?\n",
    "\n",
    "ANS-\n",
    "__getattr__ and __getattribute__ are two methods in Python that are used for attribute access in objects, but they have different behaviors.\n",
    "\n",
    "__getattr__ is called when an attribute is not found in the usual places, such as the instance dictionary, the class dictionary, and the parent classes. This method takes a single argument, the name of the attribute being accessed, and should return the value of the attribute, or raise an AttributeError if the attribute is not found. __getattr__ is only called when an attribute is not found through the normal lookup process.\n",
    "\n",
    "On the other hand, __getattribute__ is called for every attribute access, whether or not the attribute exists in the object's namespace. This method takes a single argument, the name of the attribute being accessed, and should return the value of the attribute, or raise an AttributeError if the attribute is not found. If __getattribute__ raises an exception, __getattr__ is called as a fallback.\n",
    "\n",
    "The key difference between the two methods is that __getattribute__ is called for every attribute access, while __getattr__ is only called when an attribute is not found through the normal lookup process. "
   ]
  },
  {
   "cell_type": "markdown",
   "id": "68e3a39b",
   "metadata": {},
   "source": [
    "Q2. What is the difference between properties and descriptors?\n",
    "\n",
    "ANS-\n",
    "The key difference between properties and descriptors is that properties provide a convenient way to access and compute attribute values, while descriptors provide a more general mechanism for implementing custom behavior for attribute access. Properties are typically used for simple computations and attribute access, while descriptors are used for more complex and custom behaviors. In general, properties are a special case of descriptors, where the descriptor only defines a __get__ method."
   ]
  },
  {
   "cell_type": "markdown",
   "id": "02db59d3",
   "metadata": {},
   "source": [
    "Q3. What are the key differences in functionality between __getattr__ and __getattribute__, as well as\n",
    "properties and descriptors?\n",
    "\n",
    "ANS-\n",
    "__getattr__ is called when an attribute is not found in the usual places, such as the instance dictionary, the class dictionary, and the parent classes. It is only called when an attribute is not found through the normal lookup process. On the other hand, __getattribute__ is called for every attribute access, whether or not the attribute exists in the object's namespace.\n",
    "\n",
    "Properties are a way to define custom behavior for attribute access by defining a method that is accessed like an attribute. They are typically used for simple computations and attribute access, such as converting units or formatting values. Descriptors, on the other hand, are a more general mechanism for implementing custom behavior for attribute access. They are used for more complex and custom behaviors, such as type checking, validation, or lazy computation.\n",
    "\n",
    "Properties are defined by decorating a method with @property. When an attribute that is decorated with @property is accessed, the corresponding method is called, and the result is returned as the attribute value. Descriptors, on the other hand, are defined by creating a class that implements at least one of the following methods: __get__, __set__, or __delete__.\n",
    "\n",
    "__getattribute__ can be used to implement descriptors by returning an object that implements __get__, __set__, or __delete__. This allows you to define custom behavior for attribute access at the class level, rather than at the instance level. Properties, on the other hand, cannot be used to define custom behavior at the class level."
   ]
  }
 ],
 "metadata": {
  "kernelspec": {
   "display_name": "Python 3 (ipykernel)",
   "language": "python",
   "name": "python3"
  },
  "language_info": {
   "codemirror_mode": {
    "name": "ipython",
    "version": 3
   },
   "file_extension": ".py",
   "mimetype": "text/x-python",
   "name": "python",
   "nbconvert_exporter": "python",
   "pygments_lexer": "ipython3",
   "version": "3.9.7"
  }
 },
 "nbformat": 4,
 "nbformat_minor": 5
}
